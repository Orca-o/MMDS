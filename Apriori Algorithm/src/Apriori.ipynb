{
  "nbformat": 4,
  "nbformat_minor": 0,
  "metadata": {
    "colab": {
      "provenance": [],
      "toc_visible": true
    },
    "kernelspec": {
      "name": "python3",
      "display_name": "Python 3"
    },
    "language_info": {
      "name": "python"
    }
  },
  "cells": [
    {
      "cell_type": "markdown",
      "source": [
        "**An implementation of apriori algorithm with 3 different kinds (normal, TID and ALL)**"
      ],
      "metadata": {
        "id": "3poXkOPLBV6R"
      }
    },
    {
      "cell_type": "markdown",
      "source": [
        "# Apriori\n"
      ],
      "metadata": {
        "id": "GUpI6aqvBRHq"
      }
    },
    {
      "cell_type": "code",
      "source": [
        "from itertools import combinations\n",
        "from collections import defaultdict\n",
        "\n",
        "DATASET = [[\"apple\", \"banana\"],\n",
        "           [\"apple\", \"orange\", \"pear\"],\n",
        "           [\"banana\", \"grapefruit\", \"pineapple\"],\n",
        "           [\"apple\", \"banana\", \"orange\"],\n",
        "           [\"banana\", \"orange\", \"pineapple\", \"strawberry\"],\n",
        "           [\"apple\", \"banana\", \"pineapple\"]]\n",
        "\n",
        "MIN_SUPPORT = 1.1\n",
        "MIN_CONFIDENCE = 50.0\n",
        "\n",
        "def apriori(dataset, min_support, min_confidence):\n",
        "    # Calculate support for itemsets of size 1\n",
        "    c1 = dict()\n",
        "    for itemset in dataset:\n",
        "        for i in itemset:\n",
        "            c1[i] = c1.get(i, 0) + 1\n",
        "\n",
        "    # Remove items with support less than MIN_SUPPORT\n",
        "    items = list(c1.keys())\n",
        "    for item in list(c1):\n",
        "        if c1[item] < min_support:\n",
        "            del c1[item]\n",
        "\n",
        "    support = [c1]\n",
        "\n",
        "    # Calculate support for itemsets of size > 1\n",
        "    for i in range(2, len(items)):\n",
        "        s = dict()\n",
        "        for combo in combinations(items, i):\n",
        "            for itemset in dataset:\n",
        "                if set(combo).issubset(itemset):\n",
        "                    s[combo] = s.get(combo, 0) + 1\n",
        "            if s.get(combo) and s[combo] < min_support:\n",
        "                del s[combo]\n",
        "        if not s:\n",
        "            break\n",
        "        support.append(s)\n",
        "\n",
        "    # Generate association rules\n",
        "    rules = dict()\n",
        "    for combo in support[-1]:\n",
        "        for item in combo:\n",
        "            c = list(combo)\n",
        "            c.remove(item)\n",
        "            len_c = len(c)\n",
        "            c = c[0] if len_c == 1 else tuple(c)\n",
        "            rule_1 = support[-1][combo]/support[0][item]*100\n",
        "            rule_2 = support[-1][combo]/support[len_c-1][c]*100\n",
        "            if rule_1 >= min_confidence:\n",
        "                rules[f\"{item} -> {c}\"] = rule_1\n",
        "            if rule_2 >= min_confidence:\n",
        "                rules[f\"{c} -> {item}\"] = rule_2\n",
        "\n",
        "    return support, rules\n",
        "\n",
        "support, rules = apriori(DATASET, MIN_SUPPORT, MIN_CONFIDENCE)\n",
        "# Print result\n",
        "print(\"Support:\")\n",
        "for s in support:\n",
        "    print(s)\n",
        "\n",
        "print(\"\\nAssociation Rules:\")\n",
        "for rule in rules:\n",
        "    print(f\"{rule}: {rules[rule]}%\")\n",
        "\n"
      ],
      "metadata": {
        "colab": {
          "base_uri": "https://localhost:8080/"
        },
        "id": "bFcx9ytI9Ik7",
        "outputId": "c077cfbf-6891-43a4-ea97-d52787520c62"
      },
      "execution_count": null,
      "outputs": [
        {
          "output_type": "stream",
          "name": "stdout",
          "text": [
            "Support:\n",
            "{'apple': 4, 'banana': 5, 'orange': 3, 'pineapple': 3}\n",
            "{('apple', 'banana'): 3, ('apple', 'orange'): 2, ('banana', 'orange'): 2, ('banana', 'pineapple'): 3}\n",
            "\n",
            "Association Rules:\n",
            "apple -> banana: 75.0%\n",
            "banana -> apple: 60.0%\n",
            "apple -> orange: 50.0%\n",
            "orange -> apple: 66.66666666666666%\n",
            "orange -> banana: 66.66666666666666%\n",
            "banana -> pineapple: 60.0%\n",
            "pineapple -> banana: 100.0%\n"
          ]
        }
      ]
    },
    {
      "cell_type": "markdown",
      "source": [
        "# Apriori TID"
      ],
      "metadata": {
        "id": "VLIvN2FABxvM"
      }
    },
    {
      "cell_type": "code",
      "source": [
        "def apriori_tid(dataset, min_support, min_confidence):\n",
        "    #generates the TID-list for each item, where the TID-list is a list of transaction IDs that contain the item\n",
        "    tid_lists = defaultdict(list)\n",
        "    for i, itemset in enumerate(dataset):\n",
        "        for item in itemset:\n",
        "            tid_lists[item].append(i)\n",
        "\n",
        "    # Calculate support for itemsets of size 1\n",
        "    c1 = dict()\n",
        "    for item in tid_lists:\n",
        "        c1[item] = len(tid_lists[item])\n",
        "\n",
        "    # Remove items with support less than MIN_SUPPORT\n",
        "    items = list(c1.keys())\n",
        "    for item in list(c1):\n",
        "        if c1[item] < min_support:\n",
        "            del c1[item]\n",
        "            tid_lists.pop(item)\n",
        "\n",
        "    support = [c1]\n",
        "\n",
        "    # Calculate support for itemsets of size > 1\n",
        "    for i in range(2, len(items)):\n",
        "        s = dict()\n",
        "        for combo in combinations(items, i):\n",
        "            tid_list = tid_lists[combo[0]]\n",
        "            for item in combo[1:]:\n",
        "                tid_list = list(set(tid_list).intersection(tid_lists[item]))\n",
        "            s[combo] = len(tid_list)\n",
        "            if s[combo] < min_support:\n",
        "                del s[combo]\n",
        "        if not s:\n",
        "            break\n",
        "        support.append(s)\n",
        "\n",
        "    # Generate association rules\n",
        "    rules = dict()\n",
        "    for combo in support[-1]:\n",
        "        for item in combo:\n",
        "            c = list(combo)\n",
        "            c.remove(item)\n",
        "            len_c = len(c)\n",
        "            c = c[0] if len_c == 1 else tuple(c)\n",
        "            rule_1 = support[-1][combo]/support[0][item]*100\n",
        "            rule_2 = support[-1][combo]/support[len_c-1][c]*100\n",
        "            if rule_1 >= min_confidence:\n",
        "                rules[f\"{item} -> {c}\"] = rule_1\n",
        "            if rule_2 >= min_confidence:\n",
        "                rules[f\"{c} -> {item}\"] = rule_2\n",
        "\n",
        "    return support, rules\n",
        "\n",
        "support, rules = apriori_tid(DATASET, MIN_SUPPORT, MIN_CONFIDENCE)\n",
        "# Print result\n",
        "print(\"Support:\")\n",
        "for s in support:\n",
        "    print(s)\n",
        "\n",
        "print(\"\\nAssociation Rules:\")\n",
        "for rule in rules:\n",
        "    print(f\"{rule}: {rules[rule]}%\")\n",
        "\n"
      ],
      "metadata": {
        "id": "nW9YDPFm-ky9",
        "colab": {
          "base_uri": "https://localhost:8080/"
        },
        "outputId": "4e3ea330-4bb3-45cc-deac-3ab162becd1a"
      },
      "execution_count": null,
      "outputs": [
        {
          "output_type": "stream",
          "name": "stdout",
          "text": [
            "Support:\n",
            "{'apple': 4, 'banana': 5, 'orange': 3, 'pineapple': 3}\n",
            "{('apple', 'banana'): 3, ('apple', 'orange'): 2, ('banana', 'orange'): 2, ('banana', 'pineapple'): 3}\n",
            "\n",
            "Association Rules:\n",
            "apple -> banana: 75.0%\n",
            "banana -> apple: 60.0%\n",
            "apple -> orange: 50.0%\n",
            "orange -> apple: 66.66666666666666%\n",
            "orange -> banana: 66.66666666666666%\n",
            "banana -> pineapple: 60.0%\n",
            "pineapple -> banana: 100.0%\n"
          ]
        }
      ]
    },
    {
      "cell_type": "markdown",
      "source": [
        "The main differences between the Apriori and AprioriTid algorithms:\n",
        "\n",
        "* The AprioriTid algorithm generates a TID-list for each item, which contains the IDs of the transactions that contain that item.\n",
        "* The support of an itemset is calculated by intersecting the TID-lists of its items, rather than scanning the entire dataset.\n",
        "* The AprioriTid algorithm generates the same frequent itemsets as the Apriori algorithm, but it does so more efficiently by avoiding repeated scans of the dataset.\n",
        "\n",
        "=> The TID-list approach has the advantage of reducing the amount of time and memory required to calculate the support of itemsets, especially for large datasets. It also allows for efficient pruning of infrequent itemsets, which can significantly reduce the number of itemsets that need to be considered."
      ],
      "metadata": {
        "id": "kTHu4tL_IygW"
      }
    },
    {
      "cell_type": "markdown",
      "source": [
        " **Apriori-All algorithm which can efficiently generate all frequent itemsets, instead of the original Apriori algorithm which generates only the frequent itemsets up to a given maximum size.**"
      ],
      "metadata": {
        "id": "u8lCZh3wiOde"
      }
    },
    {
      "cell_type": "markdown",
      "source": [
        "# Apriori ALL"
      ],
      "metadata": {
        "id": "sAqmAPFAB04_"
      }
    },
    {
      "cell_type": "code",
      "source": [
        "from itertools import chain, combinations\n",
        "from collections import defaultdict\n",
        "\n",
        "def apriori_all(dataset, min_support, min_confidence):\n",
        "    # Convert dataset to frozensets\n",
        "    dataset = [frozenset(itemset) for itemset in dataset]\n",
        "\n",
        "    # Calculate support for itemsets of all sizes\n",
        "    support = []\n",
        "    for i in range(1, len(dataset[0])+1):\n",
        "        itemsets = [frozenset(combo) for combo in combinations(frozenset.union(*dataset), i)]\n",
        "        c = dict()\n",
        "        for itemset in dataset:\n",
        "            for s in itemsets:\n",
        "                if s.issubset(itemset):\n",
        "                    c[s] = c.get(s, 0) + 1\n",
        "        items = list(c.keys())\n",
        "        for item in list(c):\n",
        "            if c[item] < min_support:\n",
        "                del c[item]\n",
        "        if not c:\n",
        "            break\n",
        "        support.append(c)\n",
        "\n",
        "    # Generate association rules\n",
        "    rules = dict()\n",
        "    for i in range(len(support)):\n",
        "        for combo in support[i]:\n",
        "            for j in range(i):\n",
        "                for item in support[j]:\n",
        "                    if item.issubset(combo):\n",
        "                        c = combo - item\n",
        "                        try:\n",
        "                            rule_1 = support[i][combo]/support[j][item]*100\n",
        "                            rule_2 = support[i][combo]/support[i-1][c]*100\n",
        "                        except:\n",
        "                            rule_1 = 0\n",
        "                            rule_2 = 0\n",
        "                        if rule_1 >= min_confidence:\n",
        "                            rules[f\"{item} -> {c}\"] = rule_1\n",
        "                        if rule_2 >= min_confidence:\n",
        "                            rules[f\"{c} -> {item}\"] = rule_2\n",
        "\n",
        "    return support, rules\n",
        "\n",
        "\n",
        "support, rules = apriori_all(DATASET, MIN_SUPPORT, MIN_CONFIDENCE)\n",
        "\n",
        "# Print result\n",
        "print(\"Support:\")\n",
        "for s in support:\n",
        "    print(s)\n",
        "\n",
        "print(\"\\nAssociation Rules:\")\n",
        "for rule in rules:\n",
        "    print(f\"{rule}: {rules[rule]}%\")\n"
      ],
      "metadata": {
        "colab": {
          "base_uri": "https://localhost:8080/"
        },
        "id": "-NH3pYcBdc35",
        "outputId": "e93116ac-4de6-4b50-854c-e207bd1acab5"
      },
      "execution_count": null,
      "outputs": [
        {
          "output_type": "stream",
          "name": "stdout",
          "text": [
            "Support:\n",
            "{frozenset({'banana'}): 5, frozenset({'apple'}): 4, frozenset({'orange'}): 3, frozenset({'pineapple'}): 3}\n",
            "{frozenset({'banana', 'apple'}): 3, frozenset({'orange', 'apple'}): 2, frozenset({'pineapple', 'banana'}): 3, frozenset({'orange', 'banana'}): 2}\n",
            "\n",
            "Association Rules:\n",
            "frozenset({'banana'}) -> frozenset({'apple'}): 60.0%\n",
            "frozenset({'apple'}) -> frozenset({'banana'}): 75.0%\n",
            "frozenset({'apple'}) -> frozenset({'orange'}): 50.0%\n",
            "frozenset({'orange'}) -> frozenset({'apple'}): 66.66666666666666%\n",
            "frozenset({'banana'}) -> frozenset({'pineapple'}): 60.0%\n",
            "frozenset({'pineapple'}) -> frozenset({'banana'}): 100.0%\n",
            "frozenset({'orange'}) -> frozenset({'banana'}): 66.66666666666666%\n"
          ]
        }
      ]
    },
    {
      "cell_type": "markdown",
      "source": [
        "The Apriori All algorithm has several advantages over the standard Apriori algorithm:\n",
        "\n",
        "* Increased expressiveness: The Apriori All algorithm can discover more complex and diverse patterns, such as multi-level associations, cross-category relationships, and co-occurrence patterns.\n",
        "\n",
        "* Improved accuracy: The Apriori All algorithm can generate more accurate results by considering all possible item subsets, rather than just the consecutive ones.\n",
        "\n",
        "* Reduced false positives: By considering all possible subsets, the Apriori All algorithm can avoid missing potentially interesting associations that might be missed by the standard Apriori algorithm.\n",
        "\n",
        "However, the Apriori All algorithm also has some drawbacks:\n",
        "\n",
        "* Increased computational complexity: The Apriori All algorithm generates a larger number of candidate itemsets, which can increase the computational complexity and memory requirements of the algorithm.\n",
        "\n",
        "* Increased search space: The larger number of candidate itemsets generated by the Apriori All algorithm can result in a larger search space, which can make the discovery of interesting patterns more difficult.\n",
        "\n",
        "* Higher risk of overfitting: The increased expressiveness of the Apriori All algorithm can also increase the risk of overfitting, especially for smaller datasets."
      ],
      "metadata": {
        "id": "hQY2uXBkpme3"
      }
    },
    {
      "cell_type": "markdown",
      "source": [
        "# Performance comparision\n",
        "\n"
      ],
      "metadata": {
        "id": "2d1jvu37B42h"
      }
    },
    {
      "cell_type": "code",
      "source": [
        "import random\n",
        "\n",
        "def generate_dataset(items, num_transactions):\n",
        "    dataset = []\n",
        "    for i in range(num_transactions):\n",
        "        transaction = []\n",
        "        for item in items:\n",
        "            if random.random() < 0.5:\n",
        "                transaction.append(item)\n",
        "        if transaction:\n",
        "            dataset.append(transaction)\n",
        "    return dataset\n"
      ],
      "metadata": {
        "id": "NuC7-4eOG2Qv"
      },
      "execution_count": null,
      "outputs": []
    },
    {
      "cell_type": "code",
      "source": [
        "import timeit\n",
        "import matplotlib.pyplot as plt\n",
        "from collections import defaultdict\n",
        "\n",
        "ITEMS = [\"apple\", \"banana\", \"orange\", \"pear\", \"grapefruit\", \"pineapple\", \"strawberry\", \"papaya\", \"watermelon\", \"grape\"]\n",
        "\n",
        "# generate dataset\n",
        "DATASET = generate_dataset(ITEMS, 1000)\n",
        "\n",
        "# set minimum support and minimum confidence\n",
        "MIN_SUPPORT = 2\n",
        "MIN_CONFIDENCE = 70\n",
        "\n",
        "# set up variables to store execution times\n",
        "apriori_times = []\n",
        "apriori_tid_times = []\n",
        "apriori_all_times = []\n",
        "\n",
        "# perform measurements for a range of dataset sizes\n",
        "for size in range(50, 550, 50):\n",
        "    # generate dataset\n",
        "    DATASET = generate_dataset(ITEMS, size)\n",
        "\n",
        "    # measure execution time for apriori\n",
        "    apriori_time = timeit.timeit(lambda: apriori(DATASET, MIN_SUPPORT, MIN_CONFIDENCE), number=1)\n",
        "\n",
        "    # measure execution time for apriori_tid\n",
        "    apriori_tid_time = timeit.timeit(lambda: apriori_tid(DATASET, MIN_SUPPORT, MIN_CONFIDENCE), number=1)\n",
        "\n",
        "    # measure execution time for apriori_all\n",
        "    apriori_all_time = timeit.timeit(lambda: apriori_all(DATASET, MIN_SUPPORT, MIN_CONFIDENCE), number=1)\n",
        "\n",
        "\n",
        "    # add execution times and difference to lists\n",
        "    apriori_times.append(apriori_time)\n",
        "    apriori_tid_times.append(apriori_tid_time)\n",
        "    apriori_all_times.append(apriori_all_time)\n",
        "\n",
        "# plot the results\n",
        "plt.plot(range(50, 550, 50), apriori_times, label='apriori')\n",
        "plt.plot(range(50, 550, 50), apriori_tid_times, label='apriori_tid')\n",
        "plt.plot(range(50, 550, 50), apriori_all_times, label='apriori_all')\n",
        "\n",
        "plt.title('Execution Time Comparison')\n",
        "plt.xlabel('Dataset Size')\n",
        "plt.ylabel('Time (seconds)')\n",
        "plt.legend()\n",
        "plt.show()\n",
        "\n",
        "\n"
      ],
      "metadata": {
        "colab": {
          "base_uri": "https://localhost:8080/",
          "height": 472
        },
        "id": "Rpa7E74xHRkP",
        "outputId": "d1dc99a3-77b7-4462-e2d4-660c0aba6a8c"
      },
      "execution_count": null,
      "outputs": [
        {
          "output_type": "display_data",
          "data": {
            "text/plain": [
              "<Figure size 640x480 with 1 Axes>"
            ],
            "image/png": "[encoded data removed]"
          },
          "metadata": {}
        }
      ]
    }
  ]
}