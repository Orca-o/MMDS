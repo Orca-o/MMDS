{
  "nbformat": 4,
  "nbformat_minor": 0,
  "metadata": {
    "colab": {
      "provenance": []
    },
    "kernelspec": {
      "name": "python3",
      "display_name": "Python 3"
    },
    "language_info": {
      "name": "python"
    },
    "gpuClass": "standard"
  },
  "cells": [
    {
      "cell_type": "markdown",
      "source": [
        "# Đồ án cuối kỳ\n",
        "# Môn: Xử lý dữ liệu lớn\n",
        "# Học kỳ 1 - Năm học 2022-2023\n",
        "# Giảng viên: Th.S. Nguyễn Thành An"
      ],
      "metadata": {
        "id": "xVHA3j3zw788"
      }
    },
    {
      "cell_type": "markdown",
      "source": [
        "# Cài đặt PySpark"
      ],
      "metadata": {
        "id": "k5Kl4LZvxO2x"
      }
    },
    {
      "cell_type": "code",
      "execution_count": null,
      "metadata": {
        "id": "30qo4fFaBJuk"
      },
      "outputs": [],
      "source": [
        "!apt-get install openjdk-8-jdk-headless -qq > /dev/null\n",
        "!wget -q http://archive.apache.org/dist/spark/spark-3.1.1/spark-3.1.1-bin-hadoop3.2.tgz\n",
        "# !cp drive/MyDrive/tmp/spark-3.1.1-bin-hadoop3.2.tgz .\n",
        "!tar xf spark-3.1.1-bin-hadoop3.2.tgz\n",
        "!pip install -q findspark"
      ]
    },
    {
      "cell_type": "code",
      "source": [
        "import os\n",
        "os.environ[\"JAVA_HOME\"] = \"/usr/lib/jvm/java-8-openjdk-amd64\"\n",
        "os.environ[\"SPARK_HOME\"] = \"/content/spark-3.1.1-bin-hadoop3.2\"\n",
        "\n",
        "import findspark\n",
        "findspark.init()"
      ],
      "metadata": {
        "id": "DHpJBYNgBogr"
      },
      "execution_count": null,
      "outputs": []
    },
    {
      "cell_type": "markdown",
      "source": [
        "# Yêu cầu"
      ],
      "metadata": {
        "id": "GcUw9tifyEQY"
      }
    },
    {
      "cell_type": "markdown",
      "source": [
        "## Spark Context"
      ],
      "metadata": {
        "id": "j_a5qwBOyGeN"
      }
    },
    {
      "cell_type": "code",
      "source": [
        "from pyspark import SparkContext\n",
        "from pyspark.sql import SQLContext\n",
        "\n",
        "sc = SparkContext(\"local\", 'CK')\n",
        "sqlc = SQLContext(sc)"
      ],
      "metadata": {
        "id": "dav0Wj-kBsqV"
      },
      "execution_count": null,
      "outputs": []
    },
    {
      "cell_type": "markdown",
      "source": [
        "## Câu 1: Giảm số chiều với SVD"
      ],
      "metadata": {
        "id": "AkXZj6wAxpaz"
      }
    },
    {
      "cell_type": "code",
      "source": [],
      "metadata": {
        "id": "LkNm8W9pcz1k"
      },
      "execution_count": null,
      "outputs": []
    },
    {
      "cell_type": "markdown",
      "source": [
        "## Câu 2: Khuyến nghị sản phẩm với Collaborative Filtering"
      ],
      "metadata": {
        "id": "hn3eY65yxsrr"
      }
    },
    {
      "cell_type": "code",
      "source": [],
      "metadata": {
        "id": "lw4Boyrkc0WU"
      },
      "execution_count": null,
      "outputs": []
    },
    {
      "cell_type": "markdown",
      "source": [
        "## Câu 3: Dự đoán giá chứng khoán"
      ],
      "metadata": {
        "id": "rSCVUBRSxzb6"
      }
    },
    {
      "cell_type": "code",
      "source": [],
      "metadata": {
        "id": "RB8LJjlIc09d"
      },
      "execution_count": null,
      "outputs": []
    },
    {
      "cell_type": "markdown",
      "source": [
        "## Câu 4: Phân loại đa lớp với pyspark"
      ],
      "metadata": {
        "id": "tP0VxuyzydLa"
      }
    },
    {
      "cell_type": "code",
      "source": [],
      "metadata": {
        "id": "VnYYd3Dec1qc"
      },
      "execution_count": null,
      "outputs": []
    }
  ]
}