{
  "nbformat": 4,
  "nbformat_minor": 0,
  "metadata": {
    "colab": {
      "provenance": [],
      "collapsed_sections": [
        "0F89dzMfPi_8",
        "Vs3uKTBvYQo8",
        "q3q14A69YUo9",
        "vX_frz_BET1T",
        "2kLYBt_u94sw",
        "Apwx2AqE97jP"
      ]
    },
    "kernelspec": {
      "name": "python3",
      "display_name": "Python 3"
    },
    "language_info": {
      "name": "python"
    }
  },
  "cells": [
    {
      "cell_type": "markdown",
      "source": [
        "#**PySpark Introduction**"
      ],
      "metadata": {
        "id": "Hwm8jiSNPIv3"
      }
    },
    {
      "cell_type": "markdown",
      "source": [
        "## Installation"
      ],
      "metadata": {
        "id": "O62KwUycPQos"
      }
    },
    {
      "cell_type": "code",
      "execution_count": null,
      "metadata": {
        "id": "ftx33wpcHD2v"
      },
      "outputs": [],
      "source": [
        "!apt-get install openjdk-8-jdk-headless -qq > /dev/null\n",
        "# !wget -q http://archive.apache.org/dist/spark/spark-3.1.1/spark-3.1.1-bin-hadoop3.2.tgz\n",
        "!cp drive/MyDrive/MMDS-data/spark-3.1.1-bin-hadoop3.2.tgz .\n",
        "!tar xf spark-3.1.1-bin-hadoop3.2.tgz\n",
        "!pip install -q findspark"
      ]
    },
    {
      "cell_type": "code",
      "source": [
        "import os\n",
        "os.environ[\"JAVA_HOME\"] = \"/usr/lib/jvm/java-8-openjdk-amd64\"\n",
        "os.environ[\"SPARK_HOME\"] = \"/content/spark-3.1.1-bin-hadoop3.2\""
      ],
      "metadata": {
        "id": "S63y8gfAHLB4"
      },
      "execution_count": null,
      "outputs": []
    },
    {
      "cell_type": "code",
      "source": [
        "! echo $SPARK_HOME"
      ],
      "metadata": {
        "id": "GLCx_NnsrwOv",
        "colab": {
          "base_uri": "https://localhost:8080/"
        },
        "outputId": "8270e30a-c9f8-41be-e846-5424ab40cd5a"
      },
      "execution_count": null,
      "outputs": [
        {
          "output_type": "stream",
          "name": "stdout",
          "text": [
            "/content/spark-3.1.1-bin-hadoop3.2\n"
          ]
        }
      ]
    },
    {
      "cell_type": "code",
      "source": [
        "import findspark\n",
        "findspark.init()"
      ],
      "metadata": {
        "id": "Q9Py5XJ6HONw"
      },
      "execution_count": null,
      "outputs": []
    },
    {
      "cell_type": "markdown",
      "source": [
        "## RDD Manipulation"
      ],
      "metadata": {
        "id": "g25j6vVkPUbY"
      }
    },
    {
      "cell_type": "code",
      "source": [
        "from pyspark import SparkContext\n",
        "\n",
        "sc = SparkContext(\"local\", \"Filter app\")"
      ],
      "metadata": {
        "id": "fciTtytgbQkh"
      },
      "execution_count": null,
      "outputs": []
    },
    {
      "cell_type": "code",
      "source": [
        "words = sc.parallelize (\n",
        "   [\"scala\",\n",
        "   \"java\",\n",
        "   \"hadoop\",\n",
        "   \"spark\",\n",
        "   \"akka\",\n",
        "   \"spark vs hadoop\",\n",
        "   \"pyspark\",\n",
        "   \"pyspark and spark\"]\n",
        ")\n",
        "print(type(words))\n",
        "print(words.count())\n",
        "\n",
        "words_filter = words.filter(lambda x: 'spark' in x)\n",
        "filtered = words_filter.collect()\n",
        "print (\"Fitered RDD -> %s\" % (filtered))"
      ],
      "metadata": {
        "id": "GzOqeeRTBGzW"
      },
      "execution_count": null,
      "outputs": []
    },
    {
      "cell_type": "code",
      "source": [
        "! $SPARK_HOME/bin/spark-submit example.py"
      ],
      "metadata": {
        "id": "ndd6fK-9skDI"
      },
      "execution_count": null,
      "outputs": []
    },
    {
      "cell_type": "code",
      "source": [
        "from pyspark import SparkContext\n",
        "\n",
        "sc = SparkContext(\"local\", \"Filter app\")"
      ],
      "metadata": {
        "id": "_v9bhVuetIol"
      },
      "execution_count": null,
      "outputs": []
    },
    {
      "cell_type": "code",
      "source": [
        "dataFile = sc.textFile('/content/sample_data/README.md')\n",
        "print(type(dataFile))\n",
        "print(dataFile.getStorageLevel())\n",
        "dataFile.cache()\n",
        "print(dataFile.getStorageLevel())\n",
        "\n",
        "lines = dataFile.collect()\n",
        "for ll in lines:\n",
        "  print(ll)"
      ],
      "metadata": {
        "colab": {
          "base_uri": "https://localhost:8080/"
        },
        "id": "KS2OUfxYuBPC",
        "outputId": "5da2cba1-0b6d-4bd0-f37f-8afffab79880"
      },
      "execution_count": null,
      "outputs": [
        {
          "output_type": "stream",
          "name": "stdout",
          "text": [
            "<class 'pyspark.rdd.RDD'>\n",
            "Serialized 1x Replicated\n",
            "Memory Serialized 1x Replicated\n",
            "This directory includes a few sample datasets to get you started.\n",
            "\n",
            "*   `california_housing_data*.csv` is California housing data from the 1990 US\n",
            "    Census; more information is available at:\n",
            "    https://developers.google.com/machine-learning/crash-course/california-housing-data-description\n",
            "\n",
            "*   `mnist_*.csv` is a small sample of the\n",
            "    [MNIST database](https://en.wikipedia.org/wiki/MNIST_database), which is\n",
            "    described at: http://yann.lecun.com/exdb/mnist/\n",
            "\n",
            "*   `anscombe.json` contains a copy of\n",
            "    [Anscombe's quartet](https://en.wikipedia.org/wiki/Anscombe%27s_quartet); it\n",
            "    was originally described in\n",
            "\n",
            "    Anscombe, F. J. (1973). 'Graphs in Statistical Analysis'. American\n",
            "    Statistician. 27 (1): 17-21. JSTOR 2682899.\n",
            "\n",
            "    and our copy was prepared by the\n",
            "    [vega_datasets library](https://github.com/altair-viz/vega_datasets/blob/4f67bdaad10f45e3549984e17e1b3088c731503d/vega_datasets/_data/anscombe.json).\n"
          ]
        }
      ]
    },
    {
      "cell_type": "code",
      "source": [
        "# loc cac dong voi dau *\n",
        "linesWithStar = dataFile.filter(lambda x: '*' in x)\n",
        "for line in linesWithStar.collect():\n",
        "  print(line)"
      ],
      "metadata": {
        "colab": {
          "base_uri": "https://localhost:8080/"
        },
        "id": "NjuN8oXnvw7u",
        "outputId": "ae34ff50-47f3-48e9-9e1f-4b92ddb84111"
      },
      "execution_count": null,
      "outputs": [
        {
          "output_type": "stream",
          "name": "stdout",
          "text": [
            "*   `california_housing_data*.csv` is California housing data from the 1990 US\n",
            "*   `mnist_*.csv` is a small sample of the\n",
            "*   `anscombe.json` contains a copy of\n"
          ]
        }
      ]
    },
    {
      "cell_type": "code",
      "source": [
        "words = dataFile \\\n",
        "        .flatMap(lambda x: x.split(' ')) \\\n",
        "        .map(lambda x: (x, 1)) \\\n",
        "        .reduceByKey(lambda x, y: x + y)\n",
        "for it in words.collect():\n",
        "  print(it)\n",
        "\n",
        "words.saveAsTextFile('/content/wordcount')"
      ],
      "metadata": {
        "colab": {
          "base_uri": "https://localhost:8080/"
        },
        "id": "kbXUi8HRhJ5r",
        "outputId": "f7c42212-7edd-4f8c-9cc8-47c2b75936b6"
      },
      "execution_count": null,
      "outputs": [
        {
          "output_type": "stream",
          "name": "stdout",
          "text": [
            "('This', 1)\n",
            "('directory', 1)\n",
            "('includes', 1)\n",
            "('a', 3)\n",
            "('few', 1)\n",
            "('sample', 2)\n",
            "('datasets', 1)\n",
            "('to', 1)\n",
            "('get', 1)\n",
            "('you', 1)\n",
            "('started.', 1)\n",
            "('', 51)\n",
            "('*', 3)\n",
            "('`california_housing_data*.csv`', 1)\n",
            "('is', 4)\n",
            "('California', 1)\n",
            "('housing', 1)\n",
            "('data', 1)\n",
            "('from', 1)\n",
            "('the', 3)\n",
            "('1990', 1)\n",
            "('US', 1)\n",
            "('Census;', 1)\n",
            "('more', 1)\n",
            "('information', 1)\n",
            "('available', 1)\n",
            "('at:', 2)\n",
            "('https://developers.google.com/machine-learning/crash-course/california-housing-data-description', 1)\n",
            "('`mnist_*.csv`', 1)\n",
            "('small', 1)\n",
            "('of', 2)\n",
            "('[MNIST', 1)\n",
            "('database](https://en.wikipedia.org/wiki/MNIST_database),', 1)\n",
            "('which', 1)\n",
            "('described', 2)\n",
            "('http://yann.lecun.com/exdb/mnist/', 1)\n",
            "('`anscombe.json`', 1)\n",
            "('contains', 1)\n",
            "('copy', 2)\n",
            "(\"[Anscombe's\", 1)\n",
            "('quartet](https://en.wikipedia.org/wiki/Anscombe%27s_quartet);', 1)\n",
            "('it', 1)\n",
            "('was', 2)\n",
            "('originally', 1)\n",
            "('in', 2)\n",
            "('Anscombe,', 1)\n",
            "('F.', 1)\n",
            "('J.', 1)\n",
            "('(1973).', 1)\n",
            "(\"'Graphs\", 1)\n",
            "('Statistical', 1)\n",
            "(\"Analysis'.\", 1)\n",
            "('American', 1)\n",
            "('Statistician.', 1)\n",
            "('27', 1)\n",
            "('(1):', 1)\n",
            "('17-21.', 1)\n",
            "('JSTOR', 1)\n",
            "('2682899.', 1)\n",
            "('and', 1)\n",
            "('our', 1)\n",
            "('prepared', 1)\n",
            "('by', 1)\n",
            "('[vega_datasets', 1)\n",
            "('library](https://github.com/altair-viz/vega_datasets/blob/4f67bdaad10f45e3549984e17e1b3088c731503d/vega_datasets/_data/anscombe.json).', 1)\n"
          ]
        }
      ]
    },
    {
      "cell_type": "code",
      "source": [
        "# dem so luong tu\n",
        "words = dataFile.flatMap(lambda x: x.split(' '))\n",
        "# for it in words.collect():\n",
        "#   print(it)\n",
        "words = words.map(lambda x: (x, 1))\n",
        "counters = words.reduceByKey(lambda x, y: x+y)\n",
        "for it in counters.collect():\n",
        "  print(it)\n",
        "counters.saveAsTextFile('/content/wordcount')"
      ],
      "metadata": {
        "id": "D5dC7Z95wc7h"
      },
      "execution_count": null,
      "outputs": []
    },
    {
      "cell_type": "code",
      "source": [
        "# tao mot file chua cac so nguyen\n",
        "import random\n",
        "with open('/content/int.txt', 'wt') as g:\n",
        "  for i in range(1000000):\n",
        "    g.write('%d\\n'%(random.randint(0, 1000000)))"
      ],
      "metadata": {
        "id": "gBRdtfva4TNJ"
      },
      "execution_count": null,
      "outputs": []
    },
    {
      "cell_type": "code",
      "source": [
        "# tinh tong cac so\n",
        "dataFile = sc.textFile('/content/int.txt')\n",
        "result = dataFile \\\n",
        "          .map(lambda x: int(x)) \\\n",
        "          .reduce(lambda x, y: x+y)\n",
        "print(result)"
      ],
      "metadata": {
        "colab": {
          "base_uri": "https://localhost:8080/"
        },
        "id": "1QTTWDMJ5Cdz",
        "outputId": "5ea746a4-80be-42d1-f16c-d85412129d3f"
      },
      "execution_count": null,
      "outputs": [
        {
          "output_type": "stream",
          "name": "stdout",
          "text": [
            "499545359357\n"
          ]
        }
      ]
    },
    {
      "cell_type": "code",
      "source": [
        "# tim so lon nhat\n",
        "dataFile = sc.textFile('/content/int.txt')\n",
        "result = dataFile \\\n",
        "          .map(lambda x: int(x)) \\\n",
        "          .max()\n",
        "print(result)"
      ],
      "metadata": {
        "colab": {
          "base_uri": "https://localhost:8080/"
        },
        "id": "wXpJOKGI6Ycz",
        "outputId": "85a98773-9387-482f-c633-abf4b68f4de1"
      },
      "execution_count": null,
      "outputs": [
        {
          "output_type": "stream",
          "name": "stdout",
          "text": [
            "999999\n"
          ]
        }
      ]
    },
    {
      "cell_type": "code",
      "source": [
        "# tim so luong so chan\n",
        "dataFile = sc.textFile('/content/int.txt')\n",
        "result = dataFile \\\n",
        "          .map(lambda x: int(x)) \\\n",
        "          .filter(lambda x: x%2==0) \\\n",
        "          .count()\n",
        "print(result)"
      ],
      "metadata": {
        "colab": {
          "base_uri": "https://localhost:8080/"
        },
        "id": "1vpJ8-T66ydl",
        "outputId": "e0fb5e53-7111-4044-fd28-b6e17b35e360"
      },
      "execution_count": null,
      "outputs": [
        {
          "output_type": "stream",
          "name": "stdout",
          "text": [
            "500681\n"
          ]
        }
      ]
    },
    {
      "cell_type": "markdown",
      "source": [
        "## DataFrame"
      ],
      "metadata": {
        "id": "0F89dzMfPi_8"
      }
    },
    {
      "cell_type": "code",
      "source": [
        "from pyspark.sql import SQLContext\n",
        "\n",
        "sqlc = SQLContext(sc)"
      ],
      "metadata": {
        "id": "3BZV4DV_9Qa6"
      },
      "execution_count": null,
      "outputs": []
    },
    {
      "cell_type": "code",
      "source": [
        "data = [\n",
        "   {\"id\" : \"1201\", \"name\" : \"satish\", \"age\" : \"25\"},\n",
        "   {\"id\" : \"1202\", \"name\" : \"krishna\", \"age\" : \"28\"},\n",
        "   {\"id\" : \"1203\", \"name\" : \"amith\", \"age\" : \"39\"},\n",
        "   {\"id\" : \"1204\", \"name\" : \"javed\", \"age\" : \"23\"},\n",
        "   {\"id\" : \"1205\", \"name\" : \"prudvi\", \"age\" : \"23\"}\n",
        "]\n",
        "df = sqlc.createDataFrame(data)"
      ],
      "metadata": {
        "id": "BihETLMsq3tP"
      },
      "execution_count": null,
      "outputs": []
    },
    {
      "cell_type": "code",
      "source": [
        "df.show()"
      ],
      "metadata": {
        "colab": {
          "base_uri": "https://localhost:8080/"
        },
        "id": "zWZpvULPrHjp",
        "outputId": "155491c2-13e9-4011-9ed7-e84a8c6fc7b5"
      },
      "execution_count": null,
      "outputs": [
        {
          "output_type": "stream",
          "name": "stdout",
          "text": [
            "+---+----+-------+\n",
            "|age|  id|   name|\n",
            "+---+----+-------+\n",
            "| 25|1201| satish|\n",
            "| 28|1202|krishna|\n",
            "| 39|1203|  amith|\n",
            "| 23|1204|  javed|\n",
            "| 23|1205| prudvi|\n",
            "+---+----+-------+\n",
            "\n"
          ]
        }
      ]
    },
    {
      "cell_type": "code",
      "source": [
        "df.printSchema()"
      ],
      "metadata": {
        "colab": {
          "base_uri": "https://localhost:8080/"
        },
        "id": "wJaURucSrQUn",
        "outputId": "7b9dd4eb-a354-4706-c2c4-831c0944cc0c"
      },
      "execution_count": null,
      "outputs": [
        {
          "output_type": "stream",
          "name": "stdout",
          "text": [
            "root\n",
            " |-- age: string (nullable = true)\n",
            " |-- id: string (nullable = true)\n",
            " |-- name: string (nullable = true)\n",
            "\n"
          ]
        }
      ]
    },
    {
      "cell_type": "code",
      "source": [
        "df = sqlc.read.csv('/content/sample_data/california_housing_test.csv',\n",
        "                   header=True)\n",
        "df.show()"
      ],
      "metadata": {
        "id": "6ux5Y5eY-Q0S",
        "colab": {
          "base_uri": "https://localhost:8080/"
        },
        "outputId": "019b9c79-ee7a-4e0b-efc6-a5ec048440a4"
      },
      "execution_count": null,
      "outputs": [
        {
          "output_type": "stream",
          "name": "stdout",
          "text": [
            "+-----------+---------+------------------+-----------+--------------+-----------+-----------+-------------+------------------+\n",
            "|  longitude| latitude|housing_median_age|total_rooms|total_bedrooms| population| households|median_income|median_house_value|\n",
            "+-----------+---------+------------------+-----------+--------------+-----------+-----------+-------------+------------------+\n",
            "|-122.050000|37.370000|         27.000000|3885.000000|    661.000000|1537.000000| 606.000000|     6.608500|     344700.000000|\n",
            "|-118.300000|34.260000|         43.000000|1510.000000|    310.000000| 809.000000| 277.000000|     3.599000|     176500.000000|\n",
            "|-117.810000|33.780000|         27.000000|3589.000000|    507.000000|1484.000000| 495.000000|     5.793400|     270500.000000|\n",
            "|-118.360000|33.820000|         28.000000|  67.000000|     15.000000|  49.000000|  11.000000|     6.135900|     330000.000000|\n",
            "|-119.670000|36.330000|         19.000000|1241.000000|    244.000000| 850.000000| 237.000000|     2.937500|      81700.000000|\n",
            "|-119.560000|36.510000|         37.000000|1018.000000|    213.000000| 663.000000| 204.000000|     1.663500|      67000.000000|\n",
            "|-121.430000|38.630000|         43.000000|1009.000000|    225.000000| 604.000000| 218.000000|     1.664100|      67000.000000|\n",
            "|-120.650000|35.480000|         19.000000|2310.000000|    471.000000|1341.000000| 441.000000|     3.225000|     166900.000000|\n",
            "|-122.840000|38.400000|         15.000000|3080.000000|    617.000000|1446.000000| 599.000000|     3.669600|     194400.000000|\n",
            "|-118.020000|34.080000|         31.000000|2402.000000|    632.000000|2830.000000| 603.000000|     2.333300|     164200.000000|\n",
            "|-118.240000|33.980000|         45.000000| 972.000000|    249.000000|1288.000000| 261.000000|     2.205400|     125000.000000|\n",
            "|-119.120000|35.850000|         37.000000| 736.000000|    166.000000| 564.000000| 138.000000|     2.416700|      58300.000000|\n",
            "|-121.930000|37.250000|         36.000000|1089.000000|    182.000000| 535.000000| 170.000000|     4.690000|     252600.000000|\n",
            "|-117.030000|32.970000|         16.000000|3936.000000|    694.000000|1935.000000| 659.000000|     4.562500|     231200.000000|\n",
            "|-117.970000|33.730000|         27.000000|2097.000000|    325.000000|1217.000000| 331.000000|     5.712100|     222500.000000|\n",
            "|-117.990000|33.810000|         42.000000| 161.000000|     40.000000| 157.000000|  50.000000|     2.200000|     153100.000000|\n",
            "|-120.810000|37.530000|         15.000000| 570.000000|    123.000000| 189.000000| 107.000000|     1.875000|     181300.000000|\n",
            "|-121.200000|38.690000|         26.000000|3077.000000|    607.000000|1603.000000| 595.000000|     2.717400|     137500.000000|\n",
            "|-118.880000|34.210000|         26.000000|1590.000000|    196.000000| 654.000000| 199.000000|     6.585100|     300000.000000|\n",
            "|-122.590000|38.010000|         35.000000|8814.000000|   1307.000000|3450.000000|1258.000000|     6.172400|     414300.000000|\n",
            "+-----------+---------+------------------+-----------+--------------+-----------+-----------+-------------+------------------+\n",
            "only showing top 20 rows\n",
            "\n"
          ]
        }
      ]
    },
    {
      "cell_type": "code",
      "source": [
        "df.printSchema()"
      ],
      "metadata": {
        "colab": {
          "base_uri": "https://localhost:8080/"
        },
        "id": "vNO1rZsS-hbs",
        "outputId": "cdfd57fd-9b66-40b7-f0f8-3d5fe333ad41"
      },
      "execution_count": null,
      "outputs": [
        {
          "output_type": "stream",
          "name": "stdout",
          "text": [
            "root\n",
            " |-- longitude: string (nullable = true)\n",
            " |-- latitude: string (nullable = true)\n",
            " |-- housing_median_age: string (nullable = true)\n",
            " |-- total_rooms: string (nullable = true)\n",
            " |-- total_bedrooms: string (nullable = true)\n",
            " |-- population: string (nullable = true)\n",
            " |-- households: string (nullable = true)\n",
            " |-- median_income: string (nullable = true)\n",
            " |-- median_house_value: string (nullable = true)\n",
            "\n"
          ]
        }
      ]
    },
    {
      "cell_type": "code",
      "source": [
        "df = sqlc.read.json('/content/sample_data/anscombe.json')\n",
        "df.show()"
      ],
      "metadata": {
        "colab": {
          "base_uri": "https://localhost:8080/"
        },
        "id": "xSo19UessnFx",
        "outputId": "513d3a57-4eb5-4459-a32b-f58bee449d99"
      },
      "execution_count": null,
      "outputs": [
        {
          "output_type": "stream",
          "name": "stdout",
          "text": [
            "+------+----+-----+---------------+\n",
            "|Series|   X|    Y|_corrupt_record|\n",
            "+------+----+-----+---------------+\n",
            "|  null|null| null|              [|\n",
            "|     I|10.0| 8.04|           null|\n",
            "|     I| 8.0| 6.95|           null|\n",
            "|     I|13.0| 7.58|           null|\n",
            "|     I| 9.0| 8.81|           null|\n",
            "|     I|11.0| 8.33|           null|\n",
            "|     I|14.0| 9.96|           null|\n",
            "|     I| 6.0| 7.24|           null|\n",
            "|     I| 4.0| 4.26|           null|\n",
            "|     I|12.0|10.84|           null|\n",
            "|     I| 7.0| 4.81|           null|\n",
            "|     I| 5.0| 5.68|           null|\n",
            "|    II|10.0| 9.14|           null|\n",
            "|    II| 8.0| 8.14|           null|\n",
            "|    II|13.0| 8.74|           null|\n",
            "|    II| 9.0| 8.77|           null|\n",
            "|    II|11.0| 9.26|           null|\n",
            "|    II|14.0|  8.1|           null|\n",
            "|    II| 6.0| 6.13|           null|\n",
            "|    II| 4.0|  3.1|           null|\n",
            "+------+----+-----+---------------+\n",
            "only showing top 20 rows\n",
            "\n"
          ]
        }
      ]
    },
    {
      "cell_type": "code",
      "source": [
        "df.select('name', 'age').show()"
      ],
      "metadata": {
        "colab": {
          "base_uri": "https://localhost:8080/"
        },
        "id": "4F3rMXgXAF9t",
        "outputId": "dc294969-7ec9-492b-c3b3-bc1be0e6e238"
      },
      "execution_count": null,
      "outputs": [
        {
          "output_type": "stream",
          "name": "stdout",
          "text": [
            "+-------+---+\n",
            "|   name|age|\n",
            "+-------+---+\n",
            "| satish| 25|\n",
            "|krishna| 28|\n",
            "|  amith| 39|\n",
            "|  javed| 23|\n",
            "| prudvi| 23|\n",
            "+-------+---+\n",
            "\n"
          ]
        }
      ]
    },
    {
      "cell_type": "code",
      "source": [
        "df.where(df['age'] >= 25).show()"
      ],
      "metadata": {
        "colab": {
          "base_uri": "https://localhost:8080/"
        },
        "id": "L2U8ECSCAUe0",
        "outputId": "24fc4713-f1ea-4445-b28e-d9e2eb6e480a"
      },
      "execution_count": null,
      "outputs": [
        {
          "output_type": "stream",
          "name": "stdout",
          "text": [
            "+---+----+-------+\n",
            "|age|  id|   name|\n",
            "+---+----+-------+\n",
            "| 25|1201| satish|\n",
            "| 28|1202|krishna|\n",
            "| 39|1203|  amith|\n",
            "+---+----+-------+\n",
            "\n"
          ]
        }
      ]
    },
    {
      "cell_type": "code",
      "source": [
        "df.where(df['age' > 23]) \\\n",
        "  .groupBy('age') \\\n",
        "  .count() \\\n",
        "  .sort('age')"
      ],
      "metadata": {
        "colab": {
          "base_uri": "https://localhost:8080/"
        },
        "id": "5I3DM7oZBDLX",
        "outputId": "1cf4848d-c682-494a-93d2-0ff1447922d6"
      },
      "execution_count": null,
      "outputs": [
        {
          "output_type": "stream",
          "name": "stdout",
          "text": [
            "+---+-----+\n",
            "|age|count|\n",
            "+---+-----+\n",
            "| 23|    2|\n",
            "| 25|    1|\n",
            "| 28|    1|\n",
            "| 39|    1|\n",
            "+---+-----+\n",
            "\n"
          ]
        }
      ]
    },
    {
      "cell_type": "code",
      "source": [
        "df.head(3)"
      ],
      "metadata": {
        "colab": {
          "base_uri": "https://localhost:8080/"
        },
        "id": "I07aKT8gBjcI",
        "outputId": "185d875e-ee74-4856-d744-4416b75fb4a5"
      },
      "execution_count": null,
      "outputs": [
        {
          "output_type": "execute_result",
          "data": {
            "text/plain": [
              "[Row(age='25', id='1201', name='satish'),\n",
              " Row(age='28', id='1202', name='krishna'),\n",
              " Row(age='39', id='1203', name='amith')]"
            ]
          },
          "metadata": {},
          "execution_count": 48
        }
      ]
    },
    {
      "cell_type": "code",
      "source": [
        "df = sqlc.read.csv('/content/n2.csv', header=True)"
      ],
      "metadata": {
        "id": "Sik6yYB4ujvz"
      },
      "execution_count": null,
      "outputs": []
    },
    {
      "cell_type": "code",
      "source": [
        "df.show()"
      ],
      "metadata": {
        "colab": {
          "base_uri": "https://localhost:8080/"
        },
        "id": "5Im78pGjuntp",
        "outputId": "792c2125-24cf-480a-f377-6da81d2ab65e"
      },
      "execution_count": null,
      "outputs": [
        {
          "output_type": "stream",
          "name": "stdout",
          "text": [
            "+---+--------+--------------------+----+--------+------+----------------+----+-----+-------------------+--------------------+\n",
            "|STT|Mã số SV|              Họ Tên|Phái|     Lớp| Mã MH|          Tên MH|Nhóm|Tổ TH|           Cơ sở MH|               Email|\n",
            "+---+--------+--------------------+----+--------+------+----------------+----+-----+-------------------+--------------------+\n",
            "|  1|520H0341|     Nguyễn Thái Bảo| Nam|20H50202|502051|Hệ cơ sở dữ liệu|  20|    2|0 - TP. Hồ Chí Minh|520H0341@student....|\n",
            "|  2|518H0330|   Nguyễn Văn Chương| Nam|18H50302|502051|Hệ cơ sở dữ liệu|  20|    2|0 - TP. Hồ Chí Minh|518H0330@student....|\n",
            "|  3|518H0625|        Bùi Quốc Huy| Nam|18H50303|502051|Hệ cơ sở dữ liệu|  20|    2|0 - TP. Hồ Chí Minh|518H0625@student....|\n",
            "|  4|520H0644|     Nguyễn Nhựt Huy| Nam|20H50301|502051|Hệ cơ sở dữ liệu|  20|    2|0 - TP. Hồ Chí Minh|520H0644@student....|\n",
            "|  5|518H0522|       Phạm Hữu Khôi| Nam|18H50201|502051|Hệ cơ sở dữ liệu|  20|    2|0 - TP. Hồ Chí Minh|518H0522@student....|\n",
            "|  6|520H0384|        Vũ Tuấn Mạnh| Nam|20H50205|502051|Hệ cơ sở dữ liệu|  20|    2|0 - TP. Hồ Chí Minh|520H0384@student....|\n",
            "|  7|520H0473|      Huỳnh Hữu Minh| Nam|20H50302|502051|Hệ cơ sở dữ liệu|  20|    2|0 - TP. Hồ Chí Minh|520H0473@student....|\n",
            "|  8|520H0658|   Nguyễn Khánh Minh| Nam|20H50303|502051|Hệ cơ sở dữ liệu|  20|    2|0 - TP. Hồ Chí Minh|520H0658@student....|\n",
            "|  9|520H0559|       Lê Phước Nhân| Nam|20H50202|502051|Hệ cơ sở dữ liệu|  20|    2|0 - TP. Hồ Chí Minh|520H0559@student....|\n",
            "| 10|519H0210|       Trần Hữu Nhất| Nam|19H50204|502051|Hệ cơ sở dữ liệu|  20|    2|0 - TP. Hồ Chí Minh|519H0210@student....|\n",
            "| 11|520H0396|  Nguyễn Thị Yến Nhi|  Nữ|20H50205|502051|Hệ cơ sở dữ liệu|  20|    2|0 - TP. Hồ Chí Minh|520H0396@student....|\n",
            "| 12|518H0419|   Nguyễn Thành Phát| Nam|18H50303|502051|Hệ cơ sở dữ liệu|  20|    2|0 - TP. Hồ Chí Minh|518H0419@student....|\n",
            "| 13|518H0047|        Hà Quán Quân| Nam|18H50203|502051|Hệ cơ sở dữ liệu|  20|    2|0 - TP. Hồ Chí Minh|518H0047@student....|\n",
            "| 14|518H0663|    Nguyễn Minh Quân| Nam|18H50302|502051|Hệ cơ sở dữ liệu|  20|    2|0 - TP. Hồ Chí Minh|518H0663@student....|\n",
            "| 15|520H0674|     Trần Minh Quang| Nam|20H50303|502051|Hệ cơ sở dữ liệu|  20|    2|0 - TP. Hồ Chí Minh|520H0674@student....|\n",
            "| 16|518H0437|     Phan Tuấn Thành| Nam|18H50303|502051|Hệ cơ sở dữ liệu|  20|    2|0 - TP. Hồ Chí Minh|518H0437@student....|\n",
            "| 17|519H0046|   Trần Vũ Bảo Thiên| Nam|19H50203|502051|Hệ cơ sở dữ liệu|  20|    2|0 - TP. Hồ Chí Minh|519H0046@student....|\n",
            "| 18|520H0684|   Nguyễn Minh Thiện| Nam|20H50301|502051|Hệ cơ sở dữ liệu|  20|    2|0 - TP. Hồ Chí Minh|520H0684@student....|\n",
            "| 19|519H0238|   Nguyễn Quốc Thịnh| Nam|19H50204|502051|Hệ cơ sở dữ liệu|  20|    2|0 - TP. Hồ Chí Minh|519H0238@student....|\n",
            "| 20|520H0686|Nguyễn Hoàng Uyên...|  Nữ|20H50304|502051|Hệ cơ sở dữ liệu|  20|    2|0 - TP. Hồ Chí Minh|520H0686@student....|\n",
            "+---+--------+--------------------+----+--------+------+----------------+----+-----+-------------------+--------------------+\n",
            "only showing top 20 rows\n",
            "\n"
          ]
        }
      ]
    },
    {
      "cell_type": "code",
      "source": [
        "df.printSchema()"
      ],
      "metadata": {
        "colab": {
          "base_uri": "https://localhost:8080/"
        },
        "id": "oPrwEk7ouzBG",
        "outputId": "526f2d64-1889-4c21-abdc-6dc80fe4ff38"
      },
      "execution_count": null,
      "outputs": [
        {
          "output_type": "stream",
          "name": "stdout",
          "text": [
            "root\n",
            " |-- STT: string (nullable = true)\n",
            " |-- Mã số SV: string (nullable = true)\n",
            " |-- Họ Tên: string (nullable = true)\n",
            " |-- Phái: string (nullable = true)\n",
            " |-- Lớp: string (nullable = true)\n",
            " |-- Mã MH: string (nullable = true)\n",
            " |-- Tên MH: string (nullable = true)\n",
            " |-- Nhóm: string (nullable = true)\n",
            " |-- Tổ TH: string (nullable = true)\n",
            " |-- Cơ sở MH: string (nullable = true)\n",
            " |-- Email: string (nullable = true)\n",
            "\n"
          ]
        }
      ]
    },
    {
      "cell_type": "code",
      "source": [
        "df.where(df['Phái'] == 'Nữ') \\\n",
        "  .select('STT', 'Mã số SV', 'Họ Tên') \\\n",
        "  .sort('STT') \\\n",
        "  .show()"
      ],
      "metadata": {
        "colab": {
          "base_uri": "https://localhost:8080/"
        },
        "id": "tCob0l4mu5jh",
        "outputId": "f1ddb818-913d-42fb-b7de-9ed2c6612afb"
      },
      "execution_count": null,
      "outputs": [
        {
          "output_type": "stream",
          "name": "stdout",
          "text": [
            "+---+--------+--------------------+\n",
            "|STT|Mã số SV|              Họ Tên|\n",
            "+---+--------+--------------------+\n",
            "| 11|520H0396|  Nguyễn Thị Yến Nhi|\n",
            "| 20|520H0686|Nguyễn Hoàng Uyên...|\n",
            "+---+--------+--------------------+\n",
            "\n"
          ]
        }
      ]
    },
    {
      "cell_type": "markdown",
      "source": [
        "#**Finding Frequent ItemSets**"
      ],
      "metadata": {
        "id": "loChEKhiPomT"
      }
    },
    {
      "cell_type": "code",
      "source": [
        "from pyspark.ml.fpm import FPGrowth\n",
        "from pyspark import SparkContext\n",
        "from pyspark.sql import SQLContext\n",
        "\n",
        "spark = SQLContext(SparkContext('local', 'FFI'))\n",
        "df = spark.createDataFrame([\n",
        "    (0, [1, 2, 5]),\n",
        "    (1, [1, 2, 3, 5]),\n",
        "    (2, [1, 2])\n",
        "], [\"id\", \"items\"])"
      ],
      "metadata": {
        "id": "RwrA2e_sQlGH"
      },
      "execution_count": null,
      "outputs": []
    },
    {
      "cell_type": "code",
      "source": [
        "df.show()"
      ],
      "metadata": {
        "colab": {
          "base_uri": "https://localhost:8080/"
        },
        "id": "hyvhpQcwESYJ",
        "outputId": "42e2d647-8610-4b1d-fffa-cdd5daaa9161"
      },
      "execution_count": null,
      "outputs": [
        {
          "output_type": "stream",
          "name": "stdout",
          "text": [
            "+---+------------+\n",
            "| id|       items|\n",
            "+---+------------+\n",
            "|  0|   [1, 2, 5]|\n",
            "|  1|[1, 2, 3, 5]|\n",
            "|  2|      [1, 2]|\n",
            "+---+------------+\n",
            "\n"
          ]
        }
      ]
    },
    {
      "cell_type": "code",
      "source": [
        "df.printSchema()"
      ],
      "metadata": {
        "colab": {
          "base_uri": "https://localhost:8080/"
        },
        "id": "HlOA8DhKEXSp",
        "outputId": "e8b99727-b967-4272-d880-a25510973bba"
      },
      "execution_count": null,
      "outputs": [
        {
          "output_type": "stream",
          "name": "stdout",
          "text": [
            "root\n",
            " |-- id: long (nullable = true)\n",
            " |-- items: array (nullable = true)\n",
            " |    |-- element: long (containsNull = true)\n",
            "\n"
          ]
        }
      ]
    },
    {
      "cell_type": "code",
      "source": [
        "fpGrowth = FPGrowth(itemsCol=\"items\",\n",
        "                    minSupport=0.5,\n",
        "                    minConfidence=0.6)\n",
        "model = fpGrowth.fit(df)"
      ],
      "metadata": {
        "id": "O5bBjQJTQs0I"
      },
      "execution_count": null,
      "outputs": []
    },
    {
      "cell_type": "code",
      "source": [
        "# Display frequent itemsets.\n",
        "model.freqItemsets.show()"
      ],
      "metadata": {
        "colab": {
          "base_uri": "https://localhost:8080/"
        },
        "id": "dcs4YGFaQxN_",
        "outputId": "df73e949-5a9f-4304-ffd0-69a46c7fde41"
      },
      "execution_count": null,
      "outputs": [
        {
          "output_type": "stream",
          "name": "stdout",
          "text": [
            "+---------+----+\n",
            "|    items|freq|\n",
            "+---------+----+\n",
            "|      [5]|   2|\n",
            "|   [5, 2]|   2|\n",
            "|[5, 2, 1]|   2|\n",
            "|   [5, 1]|   2|\n",
            "|      [2]|   3|\n",
            "|   [2, 1]|   3|\n",
            "|      [1]|   3|\n",
            "+---------+----+\n",
            "\n"
          ]
        }
      ]
    },
    {
      "cell_type": "code",
      "source": [
        "# Display generated association rules.\n",
        "model.associationRules.show()"
      ],
      "metadata": {
        "colab": {
          "base_uri": "https://localhost:8080/"
        },
        "id": "OcxekHkvRMX3",
        "outputId": "a8168882-4dd8-4ff8-8dd3-b174a9c7053d"
      },
      "execution_count": null,
      "outputs": [
        {
          "output_type": "stream",
          "name": "stdout",
          "text": [
            "+----------+----------+------------------+----+------------------+\n",
            "|antecedent|consequent|        confidence|lift|           support|\n",
            "+----------+----------+------------------+----+------------------+\n",
            "|    [5, 2]|       [1]|               1.0| 1.0|0.6666666666666666|\n",
            "|    [5, 1]|       [2]|               1.0| 1.0|0.6666666666666666|\n",
            "|       [5]|       [2]|               1.0| 1.0|0.6666666666666666|\n",
            "|       [5]|       [1]|               1.0| 1.0|0.6666666666666666|\n",
            "|       [2]|       [5]|0.6666666666666666| 1.0|0.6666666666666666|\n",
            "|       [2]|       [1]|               1.0| 1.0|               1.0|\n",
            "|       [1]|       [5]|0.6666666666666666| 1.0|0.6666666666666666|\n",
            "|       [1]|       [2]|               1.0| 1.0|               1.0|\n",
            "|    [2, 1]|       [5]|0.6666666666666666| 1.0|0.6666666666666666|\n",
            "+----------+----------+------------------+----+------------------+\n",
            "\n"
          ]
        }
      ]
    },
    {
      "cell_type": "code",
      "source": [
        "# transform examines the input items against all the association rules and summarize the\n",
        "# consequents as prediction\n",
        "model.transform(df).show()"
      ],
      "metadata": {
        "colab": {
          "base_uri": "https://localhost:8080/"
        },
        "id": "I49Lf_GpQ0H4",
        "outputId": "5e219146-1464-4858-8d1c-2e8ef9338e9f"
      },
      "execution_count": null,
      "outputs": [
        {
          "output_type": "stream",
          "name": "stdout",
          "text": [
            "+---+------------+----------+\n",
            "| id|       items|prediction|\n",
            "+---+------------+----------+\n",
            "|  0|   [1, 2, 5]|        []|\n",
            "|  1|[1, 2, 3, 5]|        []|\n",
            "|  2|      [1, 2]|       [5]|\n",
            "+---+------------+----------+\n",
            "\n"
          ]
        }
      ]
    },
    {
      "cell_type": "code",
      "source": [
        "testDf = spark.createDataFrame([\n",
        "    (0, [1, 2]),\n",
        "    (1, [1, 5]),\n",
        "    (2, [5, 1]),\n",
        "    (3, [2, 3])],\n",
        "    ['id', 'items']\n",
        "    )\n",
        "model.transform(testDf).show()"
      ],
      "metadata": {
        "colab": {
          "base_uri": "https://localhost:8080/"
        },
        "id": "cpHHUylIR5S2",
        "outputId": "7608c441-ee91-4ab8-ea6d-c66e3192c14d"
      },
      "execution_count": null,
      "outputs": [
        {
          "output_type": "stream",
          "name": "stdout",
          "text": [
            "+---+------+----------+\n",
            "| id| items|prediction|\n",
            "+---+------+----------+\n",
            "|  0|[1, 2]|       [5]|\n",
            "|  1|[1, 5]|       [2]|\n",
            "|  2|[5, 1]|       [2]|\n",
            "|  3|[2, 3]|    [5, 1]|\n",
            "+---+------+----------+\n",
            "\n"
          ]
        }
      ]
    },
    {
      "cell_type": "code",
      "source": [
        "# Example from the lecture slide\n",
        "\n",
        "demoDf = spark.createDataFrame(\n",
        "    [(0, ['m', 'c', 'b']),\n",
        "     (1, ['m', 'p', 'j']),\n",
        "     (2, ['m', 'c', 'b', 'n']),\n",
        "     (3, ['c', 'j']),\n",
        "     (4, ['m', 'p', 'b']),\n",
        "     (5, ['m', 'c', 'b', 'j']),\n",
        "     (6, ['c', 'b', 'j']),\n",
        "     (7, ['b', 'c'])\n",
        "     ], ['id', 'items']\n",
        ")"
      ],
      "metadata": {
        "id": "Mkg95xC0v4w3"
      },
      "execution_count": null,
      "outputs": []
    },
    {
      "cell_type": "code",
      "source": [
        "demoDf.show()"
      ],
      "metadata": {
        "colab": {
          "base_uri": "https://localhost:8080/"
        },
        "id": "ngdJZe0awzyw",
        "outputId": "b441c153-af9d-46f1-a65c-0381270f1e7d"
      },
      "execution_count": null,
      "outputs": [
        {
          "output_type": "stream",
          "name": "stdout",
          "text": [
            "+---+------------+\n",
            "| id|       items|\n",
            "+---+------------+\n",
            "|  0|   [m, c, b]|\n",
            "|  1|   [m, p, j]|\n",
            "|  2|[m, c, b, n]|\n",
            "|  3|      [c, j]|\n",
            "|  4|   [m, p, b]|\n",
            "|  5|[m, c, b, j]|\n",
            "|  6|   [c, b, j]|\n",
            "|  7|      [b, c]|\n",
            "+---+------------+\n",
            "\n"
          ]
        }
      ]
    },
    {
      "cell_type": "code",
      "source": [
        "fpGrowth = FPGrowth(itemsCol=\"items\",\n",
        "                    minSupport=0.375,\n",
        "                    minConfidence=0.6)\n",
        "model = fpGrowth.fit(demoDf)"
      ],
      "metadata": {
        "id": "RPJqoXTtv16w"
      },
      "execution_count": null,
      "outputs": []
    },
    {
      "cell_type": "code",
      "source": [
        "model.freqItemsets.show()"
      ],
      "metadata": {
        "colab": {
          "base_uri": "https://localhost:8080/"
        },
        "id": "X3cRvSrQxoX7",
        "outputId": "9ede619f-4967-4270-cde4-971fa862a60b"
      },
      "execution_count": null,
      "outputs": [
        {
          "output_type": "stream",
          "name": "stdout",
          "text": [
            "+---------+----+\n",
            "|    items|freq|\n",
            "+---------+----+\n",
            "|      [m]|   5|\n",
            "|   [m, c]|   3|\n",
            "|[m, c, b]|   3|\n",
            "|   [m, b]|   4|\n",
            "|      [c]|   6|\n",
            "|   [c, b]|   5|\n",
            "|      [j]|   4|\n",
            "|   [j, c]|   3|\n",
            "|      [b]|   6|\n",
            "+---------+----+\n",
            "\n"
          ]
        }
      ]
    },
    {
      "cell_type": "code",
      "source": [
        "model.associationRules.show()"
      ],
      "metadata": {
        "colab": {
          "base_uri": "https://localhost:8080/"
        },
        "id": "BQv-m5IRxzJl",
        "outputId": "9a449c24-1480-4372-f22c-8b04be1793bc"
      },
      "execution_count": null,
      "outputs": [
        {
          "output_type": "stream",
          "name": "stdout",
          "text": [
            "+----------+----------+------------------+------------------+-------+\n",
            "|antecedent|consequent|        confidence|              lift|support|\n",
            "+----------+----------+------------------+------------------+-------+\n",
            "|    [m, b]|       [c]|              0.75|               1.0|  0.375|\n",
            "|       [m]|       [c]|               0.6|0.7999999999999999|  0.375|\n",
            "|       [m]|       [b]|               0.8|1.0666666666666667|    0.5|\n",
            "|       [b]|       [m]|0.6666666666666666|1.0666666666666667|    0.5|\n",
            "|       [b]|       [c]|0.8333333333333334|1.1111111111111112|  0.625|\n",
            "|    [m, c]|       [b]|               1.0|1.3333333333333333|  0.375|\n",
            "|       [j]|       [c]|              0.75|               1.0|  0.375|\n",
            "|       [c]|       [b]|0.8333333333333334|1.1111111111111112|  0.625|\n",
            "|    [c, b]|       [m]|               0.6|              0.96|  0.375|\n",
            "+----------+----------+------------------+------------------+-------+\n",
            "\n"
          ]
        }
      ]
    },
    {
      "cell_type": "code",
      "source": [
        "model.transform(demoDf).show()"
      ],
      "metadata": {
        "id": "UyAWp2F1_ipZ",
        "colab": {
          "base_uri": "https://localhost:8080/"
        },
        "outputId": "bc9224a9-a520-4b92-ed45-4141ad406952"
      },
      "execution_count": null,
      "outputs": [
        {
          "output_type": "stream",
          "name": "stdout",
          "text": [
            "+---+------------+----------+\n",
            "| id|       items|prediction|\n",
            "+---+------------+----------+\n",
            "|  0|   [m, c, b]|        []|\n",
            "|  1|   [m, p, j]|    [c, b]|\n",
            "|  2|[m, c, b, n]|        []|\n",
            "|  3|      [c, j]|       [b]|\n",
            "|  4|   [m, p, b]|       [c]|\n",
            "|  5|[m, c, b, j]|        []|\n",
            "|  6|   [c, b, j]|       [m]|\n",
            "|  7|      [b, c]|       [m]|\n",
            "+---+------------+----------+\n",
            "\n"
          ]
        }
      ]
    },
    {
      "cell_type": "markdown",
      "source": [
        "### Ví dụ 1"
      ],
      "metadata": {
        "id": "Vs3uKTBvYQo8"
      }
    },
    {
      "cell_type": "code",
      "source": [
        "from pyspark import SparkContext\n",
        "from pyspark.sql import SQLContext\n",
        "from pyspark.sql.types import StructType, StringType, ArrayType, StructField\n",
        "\n",
        "sc = SparkContext.getOrCreate('local')\n",
        "sqlc = SQLContext(sc)"
      ],
      "metadata": {
        "id": "LhjCHwThKMlZ"
      },
      "execution_count": null,
      "outputs": []
    },
    {
      "cell_type": "code",
      "source": [
        "baskets = sc.textFile('/content/baskets.csv')\n",
        "baskets = baskets.map(lambda x: [x.strip().split(',')])\n",
        "baskets = sqlc.createDataFrame(baskets, [\"items\"])"
      ],
      "metadata": {
        "id": "dUp9ImUvKrBA"
      },
      "execution_count": null,
      "outputs": []
    },
    {
      "cell_type": "code",
      "source": [
        "baskets.printSchema()"
      ],
      "metadata": {
        "colab": {
          "base_uri": "https://localhost:8080/"
        },
        "id": "lqajDSJwK3e-",
        "outputId": "164da7e2-58e3-4f5d-b9da-cf702238e4de"
      },
      "execution_count": null,
      "outputs": [
        {
          "output_type": "stream",
          "name": "stdout",
          "text": [
            "root\n",
            " |-- items: array (nullable = true)\n",
            " |    |-- element: string (containsNull = true)\n",
            "\n"
          ]
        }
      ]
    },
    {
      "cell_type": "code",
      "source": [
        "baskets.show()"
      ],
      "metadata": {
        "colab": {
          "base_uri": "https://localhost:8080/"
        },
        "id": "6NfpYO3BLD8V",
        "outputId": "4738908e-4b55-4542-e96d-02abba89ff83"
      },
      "execution_count": null,
      "outputs": [
        {
          "output_type": "stream",
          "name": "stdout",
          "text": [
            "+--------------------+\n",
            "|               items|\n",
            "+--------------------+\n",
            "|[margarine, ready...|\n",
            "|[citrus fruit, se...|\n",
            "|    [yogurt, coffee]|\n",
            "|    [tropical fruit]|\n",
            "|        [whole milk]|\n",
            "|[cream cheese , p...|\n",
            "|[other vegetables...|\n",
            "|[whole milk, rice...|\n",
            "|    [yogurt, butter]|\n",
            "|        [rolls/buns]|\n",
            "|[UHT-milk, other ...|\n",
            "|[rolls/buns, bott...|\n",
            "|        [pot plants]|\n",
            "|[whole milk, cere...|\n",
            "|[white bread, cho...|\n",
            "|[other vegetables...|\n",
            "|     [flour, dishes]|\n",
            "|[whole milk, citr...|\n",
            "|              [beef]|\n",
            "|[rolls/buns, fran...|\n",
            "+--------------------+\n",
            "only showing top 20 rows\n",
            "\n"
          ]
        }
      ]
    },
    {
      "cell_type": "code",
      "source": [
        "fpGrowth = FPGrowth(itemsCol=\"items\",\n",
        "                    minSupport=0.01,\n",
        "                    minConfidence=0.25)\n",
        "model = fpGrowth.fit(baskets)"
      ],
      "metadata": {
        "id": "GQ3XK4lLLYXn"
      },
      "execution_count": null,
      "outputs": []
    },
    {
      "cell_type": "code",
      "source": [
        "model.freqItemsets.show()"
      ],
      "metadata": {
        "colab": {
          "base_uri": "https://localhost:8080/"
        },
        "id": "gDi31QThLduz",
        "outputId": "c560cc7d-0068-40b3-e06d-cd8c971bde3e"
      },
      "execution_count": null,
      "outputs": [
        {
          "output_type": "stream",
          "name": "stdout",
          "text": [
            "+--------------------+----+\n",
            "|               items|freq|\n",
            "+--------------------+----+\n",
            "|              [pork]| 567|\n",
            "|[pork, other vege...| 181|\n",
            "|  [hygiene articles]| 324|\n",
            "|           [waffles]| 378|\n",
            "|         [detergent]| 189|\n",
            "|               [ham]| 256|\n",
            "|       [soft cheese]| 168|\n",
            "|[pickled vegetables]| 176|\n",
            "|         [ice cream]| 246|\n",
            "|[whipped/sour cream]| 705|\n",
            "|[whipped/sour cre...| 187|\n",
            "|[whipped/sour cre...| 155|\n",
            "|     [shopping bags]| 969|\n",
            "|[shopping bags, o...| 228|\n",
            "|[shopping bags, s...| 210|\n",
            "|[shopping bags, w...| 222|\n",
            "|             [candy]| 294|\n",
            "|           [dessert]| 365|\n",
            "|              [beef]| 516|\n",
            "|  [beef, whole milk]| 197|\n",
            "+--------------------+----+\n",
            "only showing top 20 rows\n",
            "\n"
          ]
        }
      ]
    },
    {
      "cell_type": "code",
      "source": [
        "model.associationRules.show()"
      ],
      "metadata": {
        "colab": {
          "base_uri": "https://localhost:8080/"
        },
        "id": "RXWTbyDlLmLi",
        "outputId": "e6a3e4f6-0aff-40e3-99f9-986c7e1a63a1"
      },
      "execution_count": null,
      "outputs": [
        {
          "output_type": "stream",
          "name": "stdout",
          "text": [
            "+--------------------+------------------+-------------------+------------------+--------------------+\n",
            "|          antecedent|        consequent|         confidence|              lift|             support|\n",
            "+--------------------+------------------+-------------------+------------------+--------------------+\n",
            "|              [beef]|      [whole milk]| 0.3817829457364341|2.3399207840161393| 0.01279054668224906|\n",
            "|    [tropical fruit]|[other vegetables]|0.29748062015503873|2.4076702635984795| 0.01993247630177899|\n",
            "|    [tropical fruit]|      [whole milk]|0.27325581395348836|1.6747656372907391|0.018309310479158552|\n",
            "|      [citrus fruit]|[other vegetables]|  0.300982800982801|2.4360152920321076|  0.0159070250616803|\n",
            "|      [citrus fruit]|      [whole milk]|0.28255528255528256|  1.73176142535474|0.014933125568108038|\n",
            "|         [pip fruit]|[other vegetables]|0.28091397849462363| 2.273587544284915| 0.01356966627710687|\n",
            "|         [pip fruit]|      [whole milk]|  0.396505376344086|2.4301535242545214|0.019153356706921178|\n",
            "|  [other vegetables]|      [whole milk]|0.28008407777193906| 1.716615585293834| 0.03460589533826776|\n",
            "|[whipped/sour cream]|          [yogurt]| 0.2652482269503546| 2.977662676012654|0.012141280353200883|\n",
            "|[fruit/vegetable ...|      [whole milk]|0.35161744022503516|2.1550385254062836|0.016231658226204388|\n",
            "|        [newspapers]|      [whole milk]| 0.3375796178343949|2.0690017007104458| 0.01720555771977665|\n",
            "|           [napkins]|      [whole milk]|  0.341747572815534|2.0945468032251706| 0.01142708739124789|\n",
            "|              [pork]|[other vegetables]|0.31922398589065254|2.5836509882752656|0.011751720555771977|\n",
            "|         [margarine]|      [whole milk]| 0.4045138888888889|2.4792371335720915|0.015127905466822491|\n",
            "|     [domestic eggs]|[other vegetables]| 0.2724358974358974|2.2049698856057236|0.011037527593818985|\n",
            "|     [domestic eggs]|      [whole milk]|               0.25|1.5322323915638678| 0.01012855473315154|\n",
            "+--------------------+------------------+-------------------+------------------+--------------------+\n",
            "\n"
          ]
        }
      ]
    },
    {
      "cell_type": "markdown",
      "source": [
        "### Ví dụ 2"
      ],
      "metadata": {
        "id": "q3q14A69YUo9"
      }
    },
    {
      "cell_type": "code",
      "source": [
        "from pyspark import SparkContext\n",
        "from pyspark.sql import SQLContext\n",
        "\n",
        "sqlc = SQLContext(SparkContext('local', 'test'))"
      ],
      "metadata": {
        "id": "qAf3_zBS3P74"
      },
      "execution_count": null,
      "outputs": []
    },
    {
      "cell_type": "code",
      "source": [
        "df = sqlc.read.csv('/content/drive/MyDrive/tmp/data.csv', header=True, sep=';')"
      ],
      "metadata": {
        "id": "PdoOAfaF3e3F"
      },
      "execution_count": null,
      "outputs": []
    },
    {
      "cell_type": "code",
      "source": [
        "df.show()"
      ],
      "metadata": {
        "colab": {
          "base_uri": "https://localhost:8080/"
        },
        "id": "dX39sHw33ivj",
        "outputId": "2ddd39e8-d5e8-4402-b926-bbeb40c6c319"
      },
      "execution_count": null,
      "outputs": [
        {
          "output_type": "stream",
          "name": "stdout",
          "text": [
            "+------+--------------------+--------+----------------+-----+----------+--------------+\n",
            "|BillNo|            Itemname|Quantity|            Date|Price|CustomerID|       Country|\n",
            "+------+--------------------+--------+----------------+-----+----------+--------------+\n",
            "|536365|WHITE HANGING HEA...|       6|01.12.2010 08:26| 2,55|     17850|United Kingdom|\n",
            "|536365| WHITE METAL LANTERN|       6|01.12.2010 08:26| 3,39|     17850|United Kingdom|\n",
            "|536365|CREAM CUPID HEART...|       8|01.12.2010 08:26| 2,75|     17850|United Kingdom|\n",
            "|536365|KNITTED UNION FLA...|       6|01.12.2010 08:26| 3,39|     17850|United Kingdom|\n",
            "|536365|RED WOOLLY HOTTIE...|       6|01.12.2010 08:26| 3,39|     17850|United Kingdom|\n",
            "|536365|SET 7 BABUSHKA NE...|       2|01.12.2010 08:26| 7,65|     17850|United Kingdom|\n",
            "|536365|GLASS STAR FROSTE...|       6|01.12.2010 08:26| 4,25|     17850|United Kingdom|\n",
            "|536366|HAND WARMER UNION...|       6|01.12.2010 08:28| 1,85|     17850|United Kingdom|\n",
            "|536366|HAND WARMER RED P...|       6|01.12.2010 08:28| 1,85|     17850|United Kingdom|\n",
            "|536367|ASSORTED COLOUR B...|      32|01.12.2010 08:34| 1,69|     13047|United Kingdom|\n",
            "|536367|POPPY'S PLAYHOUSE...|       6|01.12.2010 08:34|  2,1|     13047|United Kingdom|\n",
            "|536367|POPPY'S PLAYHOUSE...|       6|01.12.2010 08:34|  2,1|     13047|United Kingdom|\n",
            "|536367|FELTCRAFT PRINCES...|       8|01.12.2010 08:34| 3,75|     13047|United Kingdom|\n",
            "|536367|IVORY KNITTED MUG...|       6|01.12.2010 08:34| 1,65|     13047|United Kingdom|\n",
            "|536367|BOX OF 6 ASSORTED...|       6|01.12.2010 08:34| 4,25|     13047|United Kingdom|\n",
            "|536367|BOX OF VINTAGE JI...|       3|01.12.2010 08:34| 4,95|     13047|United Kingdom|\n",
            "|536367|BOX OF VINTAGE AL...|       2|01.12.2010 08:34| 9,95|     13047|United Kingdom|\n",
            "|536367|HOME BUILDING BLO...|       3|01.12.2010 08:34| 5,95|     13047|United Kingdom|\n",
            "|536367|LOVE BUILDING BLO...|       3|01.12.2010 08:34| 5,95|     13047|United Kingdom|\n",
            "|536367|RECIPE BOX WITH M...|       4|01.12.2010 08:34| 7,95|     13047|United Kingdom|\n",
            "+------+--------------------+--------+----------------+-----+----------+--------------+\n",
            "only showing top 20 rows\n",
            "\n"
          ]
        }
      ]
    },
    {
      "cell_type": "code",
      "source": [
        "tmp = df.select(['BillNo', 'Itemname']) \\\n",
        "        .distinct() \\\n",
        "        .rdd \\\n",
        "        .groupByKey() \\\n",
        "        .map(lambda x: x[1]) \\\n",
        "        .toDF() \\\n",
        "        .select('data')"
      ],
      "metadata": {
        "id": "pxwpEDgJ5GXx"
      },
      "execution_count": null,
      "outputs": []
    },
    {
      "cell_type": "code",
      "source": [
        "tmp.show()"
      ],
      "metadata": {
        "colab": {
          "base_uri": "https://localhost:8080/"
        },
        "id": "NjWLLMyUCSb3",
        "outputId": "167c929c-6493-47a1-b813-69b20db4c725"
      },
      "execution_count": null,
      "outputs": [
        {
          "output_type": "stream",
          "name": "stdout",
          "text": [
            "+--------------------+\n",
            "|                data|\n",
            "+--------------------+\n",
            "|[CHARLOTTE BAG SU...|\n",
            "|[SKULL LUNCH BOX ...|\n",
            "|[DOORMAT RESPECTA...|\n",
            "|[SET/20 STRAWBERR...|\n",
            "|[SET OF 3 REGENCY...|\n",
            "|[PLASTERS IN TIN ...|\n",
            "|[PLASTERS IN TIN ...|\n",
            "|[FANCY FONTS BIRT...|\n",
            "|[FELT TOADSTOOL  ...|\n",
            "|[LAVENDER INCENSE...|\n",
            "|  [PARTY METAL SIGN]|\n",
            "|[NATURAL SLATE HE...|\n",
            "|[BUBBLEGUM RING A...|\n",
            "|[CHRISTMAS CRAFT ...|\n",
            "|[ASSORTED COLOUR ...|\n",
            "|[NATURAL SLATE HE...|\n",
            "|[NO JUNK MAIL MET...|\n",
            "|[FLORAL FOLK STAT...|\n",
            "|[4 PEAR BOTANICAL...|\n",
            "|[BLUE POLKADOT CU...|\n",
            "+--------------------+\n",
            "only showing top 20 rows\n",
            "\n"
          ]
        }
      ]
    },
    {
      "cell_type": "code",
      "source": [
        "from pyspark.ml.fpm import FPGrowth\n",
        "fpGrowth = FPGrowth(itemsCol=\"data\",\n",
        "                    minSupport=0.01,\n",
        "                    minConfidence=0.3)\n",
        "model = fpGrowth.fit(tmp)"
      ],
      "metadata": {
        "id": "F58gnHYhBULS"
      },
      "execution_count": null,
      "outputs": []
    },
    {
      "cell_type": "code",
      "source": [
        "model.freqItemsets.show()"
      ],
      "metadata": {
        "colab": {
          "base_uri": "https://localhost:8080/"
        },
        "id": "_pzYdqFrB6lI",
        "outputId": "b3f1dacf-f1c3-423e-aa66-118a18fcdac5"
      },
      "execution_count": null,
      "outputs": [
        {
          "output_type": "stream",
          "name": "stdout",
          "text": [
            "+--------------------+----+\n",
            "|               items|freq|\n",
            "+--------------------+----+\n",
            "|[FELTCRAFT BUTTER...| 471|\n",
            "|[VINTAGE CHRISTMA...| 334|\n",
            "|[ROCKING HORSE RE...| 245|\n",
            "|[WHITE HANGING HE...|2202|\n",
            "|[JUMBO BAG RED RE...|2064|\n",
            "|[JUMBO BAG RED RE...| 442|\n",
            "|[JUMBO BAG VINTAG...| 470|\n",
            "|[JUMBO BAG VINTAG...| 319|\n",
            "|[JAM JAR WITH PIN...| 333|\n",
            "|[STRAWBERRY   PIC...| 245|\n",
            "|[REGENCY CAKESTAN...|1904|\n",
            "|[REGENCY CAKESTAN...| 278|\n",
            "|[REGENCY CAKESTAN...| 343|\n",
            "|[NATURAL SLATE CH...| 468|\n",
            "|[WATERING CAN BLU...| 333|\n",
            "|[PARISIENNE JEWEL...| 245|\n",
            "|[PLAYING CARDS KE...| 333|\n",
            "|[BOYS VINTAGE TIN...| 244|\n",
            "|     [PARTY BUNTING]|1656|\n",
            "|[PARTY BUNTING, R...| 386|\n",
            "+--------------------+----+\n",
            "only showing top 20 rows\n",
            "\n"
          ]
        }
      ]
    },
    {
      "cell_type": "code",
      "source": [
        "model.associationRules.show()"
      ],
      "metadata": {
        "colab": {
          "base_uri": "https://localhost:8080/"
        },
        "id": "dGgbx8GBIjEy",
        "outputId": "a17cb7bd-9a08-4b31-f509-caf0d61d2c1b"
      },
      "execution_count": null,
      "outputs": [
        {
          "output_type": "stream",
          "name": "stdout",
          "text": [
            "+--------------------+--------------------+-------------------+------------------+--------------------+\n",
            "|          antecedent|          consequent|         confidence|              lift|             support|\n",
            "+--------------------+--------------------+-------------------+------------------+--------------------+\n",
            "|[HOT WATER BOTTLE...|[LOVE HOT WATER B...| 0.3009079118028534|14.018426007280029|  0.0107095046854083|\n",
            "|[HOT WATER BOTTLE...|[CHOCOLATE HOT WA...| 0.3450064850843061| 8.940042447824549|0.012279001061718137|\n",
            "|[HOT WATER BOTTLE...|[HOT WATER BOTTLE...| 0.3411154345006485|11.673907831891862|0.012140516087337858|\n",
            "|[LUNCH BAG SUKI D...|[LUNCH BAG CARS B...|         0.55078125|10.540259910556538|0.013017587591746295|\n",
            "|[LUNCH BAG SUKI D...|[LUNCH BAG RED RE...|        0.626953125| 8.813553242618429|0.014817892258689931|\n",
            "|[LUNCH BAG SUKI D...|[LUNCH BAG SPACEB...|         0.53515625|10.107314597863994|0.012648294326732217|\n",
            "|[LUNCH BAG SUKI D...|[LUNCH BAG PINK P...|         0.51171875|10.331186655405405|0.012094354429211097|\n",
            "|[LUNCH BAG SUKI D...|[LUNCH BAG APPLE ...|        0.517578125| 10.97093436582681|0.012232839403591376|\n",
            "|[LUNCH BAG SUKI D...|[LUNCH BAG WOODLAND]|         0.47265625| 10.19835890811753|  0.0111711212666759|\n",
            "|[SMALL HEART MEAS...|    [DOTCOM POSTAGE]|0.48822269807280516|14.938373316880195| 0.01052485805290126|\n",
            "|[PAPER CHAIN KIT ...|[PAPER CHAIN KIT ...| 0.6720098643649816|12.736438925405595| 0.02515810367908415|\n",
            "|[PAPER CHAIN KIT ...|[60 CAKE CASES VI...| 0.3008631319358816|10.862663378545005| 0.01126344458292942|\n",
            "|[JUMBO BAG SPACEB...|[JUMBO BAG PINK P...| 0.6126760563380281|10.959869040834603|0.012048192771084338|\n",
            "|[JUMBO BAG SPACEB...|[JUMBO STORAGE BA...| 0.5985915492957746|11.007885171811855|0.011771222822323778|\n",
            "|[JUMBO SHOPPER VI...|[JUMBO BAG PINK P...|0.40051457975986277| 7.164613824391335|0.021557494345196878|\n",
            "|[JUMBO SHOPPER VI...|[JUMBO STORAGE BA...|0.44596912521440824|  8.20121320842082|0.024004062225915154|\n",
            "|[JUMBO SHOPPER VI...|[JUMBO BAG RED RE...| 0.5797598627787307| 6.084950536519207|  0.0312052808936897|\n",
            "|[JUMBO SHOPPER VI...|[JUMBO  BAG BAROQ...| 0.3602058319039451| 8.435825877335311|0.019387896413239163|\n",
            "|[JUMBO SHOPPER VI...|[JUMBO BAG PINK V...|0.35591766723842194| 9.028389256892195|0.019157088122605363|\n",
            "|[JUMBO SHOPPER VI...|[JUMBO BAG WOODLA...|0.33361921097770153| 8.462755231159191|0.017956885011309605|\n",
            "+--------------------+--------------------+-------------------+------------------+--------------------+\n",
            "only showing top 20 rows\n",
            "\n"
          ]
        }
      ]
    },
    {
      "cell_type": "markdown",
      "source": [
        "# Finding Similar Documents"
      ],
      "metadata": {
        "id": "vX_frz_BET1T"
      }
    },
    {
      "cell_type": "code",
      "source": [
        "from pyspark import SparkContext\n",
        "from pyspark.sql import SQLContext\n",
        "\n",
        "sc = SparkContext('local')\n",
        "spark = SQLContext(sc)"
      ],
      "metadata": {
        "id": "j88Qj2NFEcYI"
      },
      "execution_count": null,
      "outputs": []
    },
    {
      "cell_type": "code",
      "source": [
        "from pyspark.ml.feature import MinHashLSH\n",
        "from pyspark.ml.linalg import Vectors\n",
        "from pyspark.sql.functions import col\n",
        "\n",
        "dataA = [(0, Vectors.sparse(6, [0, 1, 2], [1.0, 1.0, 1.0]),), # [1, 1, 1, 0, 0, 0]\n",
        "         (1, Vectors.sparse(6, [2, 3, 4], [1.0, 1.0, 1.0]),), # [0, 0, 1, 1, 1, 0]\n",
        "         (2, Vectors.sparse(6, [0, 2, 4], [1.0, 1.0, 1.0]),)] # [0, 0, 1, 0, 1, 0]\n",
        "dfA = spark.createDataFrame(dataA, [\"id\", \"features\"])\n",
        "\n",
        "dataB = [(3, Vectors.sparse(6, [1, 3, 5], [1.0, 1.0, 1.0]),),\n",
        "         (4, Vectors.sparse(6, [2, 3, 5], [1.0, 1.0, 1.0]),),\n",
        "         (5, Vectors.sparse(6, [1, 2, 4], [1.0, 1.0, 1.0]),)]\n",
        "dfB = spark.createDataFrame(dataB, [\"id\", \"features\"])\n",
        "\n",
        "key = Vectors.sparse(6, [1, 3], [1.0, 1.0]) # [0, 1, 0, 1, 0, 0]"
      ],
      "metadata": {
        "id": "U8Tdo4waEatf"
      },
      "execution_count": null,
      "outputs": []
    },
    {
      "cell_type": "code",
      "source": [
        "print(dataA[0][1])"
      ],
      "metadata": {
        "colab": {
          "base_uri": "https://localhost:8080/"
        },
        "id": "kEKvFP-PG9Wz",
        "outputId": "930e5dc8-cb83-431c-e757-247473694d8e"
      },
      "execution_count": null,
      "outputs": [
        {
          "output_type": "stream",
          "name": "stdout",
          "text": [
            "(6,[0,1,2],[1.0,1.0,1.0])\n"
          ]
        }
      ]
    },
    {
      "cell_type": "code",
      "source": [
        "dfA.show()"
      ],
      "metadata": {
        "colab": {
          "base_uri": "https://localhost:8080/"
        },
        "id": "meJmjjUwE5rm",
        "outputId": "7655226d-244d-4234-c4af-e39a3dbc991a"
      },
      "execution_count": null,
      "outputs": [
        {
          "output_type": "stream",
          "name": "stdout",
          "text": [
            "+---+--------------------+\n",
            "| id|            features|\n",
            "+---+--------------------+\n",
            "|  0|(6,[0,1,2],[1.0,1...|\n",
            "|  1|(6,[2,3,4],[1.0,1...|\n",
            "|  2|(6,[0,2,4],[1.0,1...|\n",
            "+---+--------------------+\n",
            "\n"
          ]
        }
      ]
    },
    {
      "cell_type": "code",
      "source": [
        "dfB.show()"
      ],
      "metadata": {
        "colab": {
          "base_uri": "https://localhost:8080/"
        },
        "id": "SC1M3SP3FBpW",
        "outputId": "85b85a88-c6c2-40e4-bcec-4c8116b3516f"
      },
      "execution_count": null,
      "outputs": [
        {
          "output_type": "stream",
          "name": "stdout",
          "text": [
            "+---+--------------------+\n",
            "| id|            features|\n",
            "+---+--------------------+\n",
            "|  3|(6,[1,3,5],[1.0,1...|\n",
            "|  4|(6,[2,3,5],[1.0,1...|\n",
            "|  5|(6,[1,2,4],[1.0,1...|\n",
            "+---+--------------------+\n",
            "\n"
          ]
        }
      ]
    },
    {
      "cell_type": "code",
      "source": [
        "mh = MinHashLSH(inputCol=\"features\", outputCol=\"hashes\", numHashTables=5)\n",
        "model = mh.fit(dfA)"
      ],
      "metadata": {
        "id": "tUVYYS5BFDUN"
      },
      "execution_count": null,
      "outputs": []
    },
    {
      "cell_type": "code",
      "source": [
        "# Feature Transformation\n",
        "print(\"The hashed dataset where hashed values are stored in the column 'hashes':\")\n",
        "print(model.transform(dfA).select('hashes').limit(1).collect())"
      ],
      "metadata": {
        "colab": {
          "base_uri": "https://localhost:8080/"
        },
        "id": "tuoWzPW4FIw1",
        "outputId": "a6e3b69b-7496-474e-d3f1-622615fefc21"
      },
      "execution_count": null,
      "outputs": [
        {
          "output_type": "stream",
          "name": "stdout",
          "text": [
            "The hashed dataset where hashed values are stored in the column 'hashes':\n",
            "[Row(hashes=[DenseVector([417713505.0]), DenseVector([241206165.0]), DenseVector([130482752.0]), DenseVector([654249334.0]), DenseVector([326198177.0])])]\n"
          ]
        }
      ]
    },
    {
      "cell_type": "code",
      "source": [
        "model.transform(dfA).show()"
      ],
      "metadata": {
        "colab": {
          "base_uri": "https://localhost:8080/"
        },
        "id": "vNDvKIr3J5Vx",
        "outputId": "47d09b3d-c6ad-4186-f473-fc77a9e200a4"
      },
      "execution_count": null,
      "outputs": [
        {
          "output_type": "stream",
          "name": "stdout",
          "text": [
            "+---+--------------------+--------------------+\n",
            "| id|            features|              hashes|\n",
            "+---+--------------------+--------------------+\n",
            "|  0|(6,[0,1,2],[1.0,1...|[[4.17713505E8], ...|\n",
            "|  1|(6,[2,3,4],[1.0,1...|[[3.71037806E8], ...|\n",
            "|  2|(6,[0,2,4],[1.0,1...|[[3.71037806E8], ...|\n",
            "+---+--------------------+--------------------+\n",
            "\n"
          ]
        }
      ]
    },
    {
      "cell_type": "code",
      "source": [
        "# Compute the locality sensitive hashes for the input rows, then perform approximate\n",
        "# similarity join.\n",
        "# We could avoid computing hashes by passing in the already-transformed dataset, e.g.\n",
        "# `model.approxSimilarityJoin(transformedA, transformedB, 0.6)`\n",
        "print(\"Approximately joining dfA and dfB on distance smaller than 0.6:\")\n",
        "model.approxSimilarityJoin(dfA, dfB, 0.6, distCol=\"JaccardDistance\")\\\n",
        "    .select(col(\"datasetA.id\").alias(\"idA\"),\n",
        "            col(\"datasetB.id\").alias(\"idB\"),\n",
        "            col(\"JaccardDistance\")).show()"
      ],
      "metadata": {
        "colab": {
          "base_uri": "https://localhost:8080/"
        },
        "id": "R19TU4JrFKpt",
        "outputId": "a4f826e8-26e3-451a-94a9-1021cf9deebf"
      },
      "execution_count": null,
      "outputs": [
        {
          "output_type": "stream",
          "name": "stdout",
          "text": [
            "Approximately joining dfA and dfB on distance smaller than 0.6:\n",
            "+---+---+---------------+\n",
            "|idA|idB|JaccardDistance|\n",
            "+---+---+---------------+\n",
            "|  0|  5|            0.5|\n",
            "|  1|  5|            0.5|\n",
            "|  2|  5|            0.5|\n",
            "|  1|  4|            0.5|\n",
            "+---+---+---------------+\n",
            "\n"
          ]
        }
      ]
    },
    {
      "cell_type": "code",
      "source": [
        "# Compute the locality sensitive hashes for the input rows, then perform approximate nearest\n",
        "# neighbor search.\n",
        "# We could avoid computing hashes by passing in the already-transformed dataset, e.g.\n",
        "# `model.approxNearestNeighbors(transformedA, key, 2)`\n",
        "# It may return less than 2 rows when not enough approximate near-neighbor candidates are\n",
        "# found.\n",
        "print(\"Approximately searching dfA for 2 nearest neighbors of the key:\")\n",
        "model.approxNearestNeighbors(dfA, key, 2).show()"
      ],
      "metadata": {
        "colab": {
          "base_uri": "https://localhost:8080/"
        },
        "id": "PC3X5anLFSG_",
        "outputId": "1d5beef7-1091-4519-a4c2-837ca52a8f9b"
      },
      "execution_count": null,
      "outputs": [
        {
          "output_type": "stream",
          "name": "stdout",
          "text": [
            "Approximately searching dfA for 2 nearest neighbors of the key:\n",
            "+---+--------------------+--------------------+-------+\n",
            "| id|            features|              hashes|distCol|\n",
            "+---+--------------------+--------------------+-------+\n",
            "|  0|(6,[0,1,2],[1.0,1...|[[4.17713505E8], ...|   0.75|\n",
            "|  1|(6,[2,3,4],[1.0,1...|[[3.71037806E8], ...|   0.75|\n",
            "+---+--------------------+--------------------+-------+\n",
            "\n"
          ]
        }
      ]
    },
    {
      "cell_type": "markdown",
      "source": [
        "# Clustering"
      ],
      "metadata": {
        "id": "wWhV_emgvEcZ"
      }
    },
    {
      "cell_type": "markdown",
      "source": [
        "## k-Means"
      ],
      "metadata": {
        "id": "hUdQjsgFF1Bw"
      }
    },
    {
      "cell_type": "code",
      "source": [
        "from __future__ import print_function\n",
        "import numpy as np\n",
        "import matplotlib.pyplot as plt\n",
        "from scipy.spatial.distance import cdist\n",
        "np.random.seed(11)"
      ],
      "metadata": {
        "id": "Jb0NC5UUF2yx"
      },
      "execution_count": null,
      "outputs": []
    },
    {
      "cell_type": "code",
      "source": [
        "means = [[2, 2], [8, 3], [3, 6]]\n",
        "cov = [[1, 0], [0, 1]]\n",
        "N = 500\n",
        "X0 = np.random.multivariate_normal(means[0], cov, N)\n",
        "X1 = np.random.multivariate_normal(means[1], cov, N)\n",
        "X2 = np.random.multivariate_normal(means[2], cov, N)\n",
        "\n",
        "X = np.concatenate((X0, X1, X2), axis = 0)\n",
        "K = 3\n",
        "\n",
        "# original_label = np.asarray([0]*N + [1]*N + [2]*N).T\n",
        "original_label = np.random.randint(0, 3, 3*N).T"
      ],
      "metadata": {
        "id": "cwDrC-zwGHOO"
      },
      "execution_count": null,
      "outputs": []
    },
    {
      "cell_type": "code",
      "source": [
        "print(original_label)"
      ],
      "metadata": {
        "colab": {
          "base_uri": "https://localhost:8080/"
        },
        "id": "17aqXLGXble2",
        "outputId": "49f9e359-3685-42a2-c6e7-b9981d1b7aaa"
      },
      "execution_count": null,
      "outputs": [
        {
          "output_type": "stream",
          "name": "stdout",
          "text": [
            "[0 0 0 ... 1 2 0]\n"
          ]
        }
      ]
    },
    {
      "cell_type": "code",
      "source": [
        "def kmeans_display(X, label):\n",
        "    K = np.amax(label) + 1\n",
        "    X0 = X[label == 0, :]\n",
        "    X1 = X[label == 1, :]\n",
        "    X2 = X[label == 2, :]\n",
        "\n",
        "    plt.plot(X0[:, 0], X0[:, 1], 'b^', markersize = 4, alpha = .8)\n",
        "    plt.plot(X1[:, 0], X1[:, 1], 'go', markersize = 4, alpha = .8)\n",
        "    plt.plot(X2[:, 0], X2[:, 1], 'rs', markersize = 4, alpha = .8)\n",
        "\n",
        "    plt.axis('equal')\n",
        "    plt.plot()\n",
        "    plt.show()\n",
        "\n",
        "kmeans_display(X, original_label)"
      ],
      "metadata": {
        "colab": {
          "base_uri": "https://localhost:8080/",
          "height": 265
        },
        "id": "iw4W22KaGl_0",
        "outputId": "ee51d9b9-6dbe-4290-d020-977243ab9052"
      },
      "execution_count": null,
      "outputs": [
        {
          "output_type": "display_data",
          "data": {
            "text/plain": [
              "<Figure size 432x288 with 1 Axes>"
            ],
            "image/png": "[encoded data removed]"
          },
          "metadata": {
            "needs_background": "light"
          }
        }
      ]
    },
    {
      "cell_type": "code",
      "source": [
        "def kmeans_init_centers(X, k):\n",
        "    # randomly pick k rows of X as initial centers\n",
        "    return X[np.random.choice(X.shape[0], k, replace=False)]\n",
        "\n",
        "def kmeans_assign_labels(X, centers):\n",
        "    # calculate pairwise distances btw data and centers\n",
        "    D = cdist(X, centers) # 3N x 3\n",
        "    # return index of the closest center\n",
        "    return np.argmin(D, axis = 1)\n",
        "\n",
        "def kmeans_update_centers(X, labels, K):\n",
        "    centers = np.zeros((K, X.shape[1]))\n",
        "    for k in range(K):\n",
        "        # collect all points assigned to the k-th cluster\n",
        "        Xk = X[labels == k, :]\n",
        "        # take average\n",
        "        centers[k,:] = np.mean(Xk, axis = 0)\n",
        "    return centers\n",
        "\n",
        "def has_converged(centers, new_centers):\n",
        "    # return True if two sets of centers are the same\n",
        "    return (set([tuple(a) for a in centers]) ==\n",
        "        set([tuple(a) for a in new_centers]))"
      ],
      "metadata": {
        "id": "5VkTyxFlG-xi"
      },
      "execution_count": null,
      "outputs": []
    },
    {
      "cell_type": "code",
      "source": [
        "def kmeans(X, K):\n",
        "    centers = [kmeans_init_centers(X, K)]\n",
        "    labels = []\n",
        "    it = 0\n",
        "    while True:\n",
        "        labels.append(kmeans_assign_labels(X, centers[-1]))\n",
        "        new_centers = kmeans_update_centers(X, labels[-1], K)\n",
        "        if has_converged(centers[-1], new_centers):\n",
        "            break\n",
        "        centers.append(new_centers)\n",
        "        it += 1\n",
        "    return (centers, labels, it)"
      ],
      "metadata": {
        "id": "zdEvr0epKd3p"
      },
      "execution_count": null,
      "outputs": []
    },
    {
      "cell_type": "code",
      "source": [
        "(centers, labels, it) = kmeans(X, K)\n",
        "print('Centers found by our algorithm:')\n",
        "print(centers[-1])\n",
        "\n",
        "kmeans_display(X, labels[-1])"
      ],
      "metadata": {
        "colab": {
          "base_uri": "https://localhost:8080/",
          "height": 334
        },
        "id": "u8cB1fO-LLgJ",
        "outputId": "2302b26c-7d8b-4414-e8b9-bd161da99cc8"
      },
      "execution_count": null,
      "outputs": [
        {
          "output_type": "stream",
          "name": "stdout",
          "text": [
            "Centers found by our algorithm:\n",
            "[[2.99634182 6.03964618]\n",
            " [1.97563391 2.01568065]\n",
            " [8.0410628  3.02094748]]\n"
          ]
        },
        {
          "output_type": "display_data",
          "data": {
            "text/plain": [
              "<Figure size 432x288 with 1 Axes>"
            ],
            "image/png": "[encoded data removed]"
          },
          "metadata": {
            "needs_background": "light"
          }
        }
      ]
    },
    {
      "cell_type": "markdown",
      "source": [
        "## Ví dụ 1"
      ],
      "metadata": {
        "id": "2kLYBt_u94sw"
      }
    },
    {
      "cell_type": "code",
      "source": [
        "from pyspark import SparkContext\n",
        "from pyspark.sql import SQLContext\n",
        "\n",
        "sc = SparkContext('local')\n",
        "spark = SQLContext(sc)"
      ],
      "metadata": {
        "id": "mPEJOh9NvGGj"
      },
      "execution_count": null,
      "outputs": []
    },
    {
      "cell_type": "code",
      "source": [
        "from pyspark.ml.linalg import Vectors\n",
        "data = [(Vectors.dense([0.0, 0.0]), 2.0),\n",
        "        (Vectors.dense([1.0, 1.0]), 2.0),\n",
        "        (Vectors.dense([9.0, 8.0]), 2.0),\n",
        "        (Vectors.dense([8.0, 9.0]), 2.0)]\n",
        "df = spark.createDataFrame(data, [\"features\", \"weighCol\"])\n",
        "df.show()"
      ],
      "metadata": {
        "colab": {
          "base_uri": "https://localhost:8080/"
        },
        "id": "Pt-qQDYrvcJa",
        "outputId": "65792821-8ce6-4100-81d6-79a64a34b45f"
      },
      "execution_count": null,
      "outputs": [
        {
          "output_type": "stream",
          "name": "stdout",
          "text": [
            "+---------+--------+\n",
            "| features|weighCol|\n",
            "+---------+--------+\n",
            "|[0.0,0.0]|     2.0|\n",
            "|[1.0,1.0]|     2.0|\n",
            "|[9.0,8.0]|     2.0|\n",
            "|[8.0,9.0]|     2.0|\n",
            "+---------+--------+\n",
            "\n"
          ]
        }
      ]
    },
    {
      "cell_type": "code",
      "source": [
        "from pyspark.ml.clustering import KMeans, KMeansModel\n",
        "\n",
        "kmeans = KMeans(k=2)\n",
        "kmeans.setSeed(1)\n",
        "kmeans.setWeightCol(\"weighCol\")\n",
        "kmeans.setMaxIter(10)"
      ],
      "metadata": {
        "colab": {
          "base_uri": "https://localhost:8080/"
        },
        "id": "xiYXdKNjvme6",
        "outputId": "d4cfcf1c-0399-48c1-9d22-017b8da1999f"
      },
      "execution_count": null,
      "outputs": [
        {
          "output_type": "execute_result",
          "data": {
            "text/plain": [
              "KMeans_aa8ea6286ad1"
            ]
          },
          "metadata": {},
          "execution_count": 6
        }
      ]
    },
    {
      "cell_type": "code",
      "source": [
        "print(kmeans.getMaxIter())\n",
        "kmeans.clear(kmeans.maxIter)"
      ],
      "metadata": {
        "colab": {
          "base_uri": "https://localhost:8080/"
        },
        "id": "tkIdtDnsvpZy",
        "outputId": "4df054ff-0e9e-4a65-f55d-d85e5eb8e057"
      },
      "execution_count": null,
      "outputs": [
        {
          "output_type": "stream",
          "name": "stdout",
          "text": [
            "10\n"
          ]
        }
      ]
    },
    {
      "cell_type": "code",
      "source": [
        "model = kmeans.fit(df)\n",
        "print(model.getDistanceMeasure())"
      ],
      "metadata": {
        "colab": {
          "base_uri": "https://localhost:8080/"
        },
        "id": "YzZ0Kungv3IX",
        "outputId": "057c743a-5e0c-4bb8-f2b1-20b9874ee3e0"
      },
      "execution_count": null,
      "outputs": [
        {
          "output_type": "stream",
          "name": "stdout",
          "text": [
            "euclidean\n"
          ]
        }
      ]
    },
    {
      "cell_type": "code",
      "source": [
        "model.setPredictionCol(\"newPrediction\")\n",
        "print(model.predict(df.head().features))"
      ],
      "metadata": {
        "colab": {
          "base_uri": "https://localhost:8080/"
        },
        "id": "iw8TuY_4v-dL",
        "outputId": "e4d7de40-fe70-486f-930d-4a53cb9c6525"
      },
      "execution_count": null,
      "outputs": [
        {
          "output_type": "stream",
          "name": "stdout",
          "text": [
            "0\n"
          ]
        }
      ]
    },
    {
      "cell_type": "code",
      "source": [
        "centers = model.clusterCenters()\n",
        "print(len(centers))\n",
        "print(centers)"
      ],
      "metadata": {
        "colab": {
          "base_uri": "https://localhost:8080/"
        },
        "id": "lpaFG481wNI6",
        "outputId": "e523f131-7386-4dd0-c852-a28c218a2954"
      },
      "execution_count": null,
      "outputs": [
        {
          "output_type": "stream",
          "name": "stdout",
          "text": [
            "2\n",
            "[array([0.5, 0.5]), array([8.5, 8.5])]\n"
          ]
        }
      ]
    },
    {
      "cell_type": "code",
      "source": [
        "transformed = model.transform(df).select(\"features\", \"newPrediction\")\n",
        "rows = transformed.collect()\n",
        "print(rows)"
      ],
      "metadata": {
        "colab": {
          "base_uri": "https://localhost:8080/"
        },
        "id": "cg_FMHXmwU7q",
        "outputId": "ab11572a-8534-4297-fcca-a924cd9e1c3b"
      },
      "execution_count": null,
      "outputs": [
        {
          "output_type": "stream",
          "name": "stdout",
          "text": [
            "[Row(features=DenseVector([0.0, 0.0]), newPrediction=0), Row(features=DenseVector([1.0, 1.0]), newPrediction=0), Row(features=DenseVector([9.0, 8.0]), newPrediction=1), Row(features=DenseVector([8.0, 9.0]), newPrediction=1)]\n"
          ]
        }
      ]
    },
    {
      "cell_type": "code",
      "source": [
        "transformed.show()"
      ],
      "metadata": {
        "colab": {
          "base_uri": "https://localhost:8080/"
        },
        "id": "fOJ3R3Z8JsxU",
        "outputId": "24476889-bff9-42b1-cc7f-426250f26dee"
      },
      "execution_count": null,
      "outputs": [
        {
          "output_type": "stream",
          "name": "stdout",
          "text": [
            "+---------+-------------+\n",
            "| features|newPrediction|\n",
            "+---------+-------------+\n",
            "|[0.0,0.0]|            0|\n",
            "|[1.0,1.0]|            0|\n",
            "|[9.0,8.0]|            1|\n",
            "|[8.0,9.0]|            1|\n",
            "+---------+-------------+\n",
            "\n"
          ]
        }
      ]
    },
    {
      "cell_type": "code",
      "source": [
        "print(rows[0].newPrediction == rows[1].newPrediction)\n",
        "print(rows[2].newPrediction == rows[3].newPrediction)"
      ],
      "metadata": {
        "colab": {
          "base_uri": "https://localhost:8080/"
        },
        "id": "b1OagDedwfza",
        "outputId": "2d5eea0e-4b60-408f-821e-b903158ed4a4"
      },
      "execution_count": null,
      "outputs": [
        {
          "output_type": "stream",
          "name": "stdout",
          "text": [
            "True\n",
            "True\n"
          ]
        }
      ]
    },
    {
      "cell_type": "code",
      "source": [
        "model.hasSummary\n",
        "summary = model.summary\n",
        "\n",
        "print(summary.k)\n",
        "print(summary.clusterSizes)\n",
        "print(summary.trainingCost)"
      ],
      "metadata": {
        "colab": {
          "base_uri": "https://localhost:8080/"
        },
        "id": "tBuVzwfRvV89",
        "outputId": "0d65ed0a-61d4-4a29-8acf-355cd7edc277"
      },
      "execution_count": null,
      "outputs": [
        {
          "output_type": "stream",
          "name": "stdout",
          "text": [
            "2\n",
            "[2, 2]\n",
            "4.0\n"
          ]
        }
      ]
    },
    {
      "cell_type": "code",
      "source": [
        "kmeans_path = \"kmeans\"\n",
        "kmeans.save(kmeans_path)"
      ],
      "metadata": {
        "id": "OC-e0FrgwuDJ"
      },
      "execution_count": null,
      "outputs": []
    },
    {
      "cell_type": "code",
      "source": [
        "kmeans2 = KMeans.load(kmeans_path)\n",
        "print(kmeans2.getK())"
      ],
      "metadata": {
        "colab": {
          "base_uri": "https://localhost:8080/"
        },
        "id": "IiitELqvwqYq",
        "outputId": "d5306d5b-c820-4f9d-b190-1ef303409cdf"
      },
      "execution_count": null,
      "outputs": [
        {
          "output_type": "stream",
          "name": "stdout",
          "text": [
            "2\n"
          ]
        }
      ]
    },
    {
      "cell_type": "code",
      "source": [
        "model_path = \"kmeans_model\"\n",
        "model.save(model_path)\n",
        "model2 = KMeansModel.load(model_path)\n",
        "model2.hasSummary\n",
        "\n",
        "print(model.clusterCenters()[0] == model2.clusterCenters()[0])\n",
        "print(model.clusterCenters()[1] == model2.clusterCenters()[1])\n",
        "print(model.transform(df).take(1) == model2.transform(df).take(1))"
      ],
      "metadata": {
        "colab": {
          "base_uri": "https://localhost:8080/"
        },
        "id": "SkZ4_FZ8w3AY",
        "outputId": "8ef55c7c-f433-4103-abcb-129f61dddcc8"
      },
      "execution_count": null,
      "outputs": [
        {
          "output_type": "stream",
          "name": "stdout",
          "text": [
            "[ True  True]\n",
            "[ True  True]\n",
            "True\n"
          ]
        }
      ]
    },
    {
      "cell_type": "markdown",
      "source": [
        "## Ví dụ 2"
      ],
      "metadata": {
        "id": "Apwx2AqE97jP"
      }
    },
    {
      "cell_type": "code",
      "source": [
        "from pyspark import SparkContext\n",
        "from pyspark.sql import SQLContext\n",
        "\n",
        "sc = SparkContext('local')\n",
        "spark = SQLContext(sc)"
      ],
      "metadata": {
        "id": "FUHYLt-u98et"
      },
      "execution_count": null,
      "outputs": []
    },
    {
      "cell_type": "code",
      "source": [
        "df = spark.read.csv('/content/sample_data/mnist_train_small.csv') \\\n",
        "            .limit(1000)\n",
        "df.show()"
      ],
      "metadata": {
        "id": "3IGviEhZ-Crf",
        "colab": {
          "base_uri": "https://localhost:8080/"
        },
        "outputId": "4670e6f2-4b6f-4eb0-c572-3bd763a282b7"
      },
      "execution_count": null,
      "outputs": [
        {
          "output_type": "stream",
          "name": "stdout",
          "text": [
            "+---+---+---+---+---+---+---+---+---+---+----+----+----+----+----+----+----+----+----+----+----+----+----+----+----+----+----+----+----+----+----+----+----+----+----+----+----+----+----+----+----+----+----+----+----+----+----+----+----+----+----+----+----+----+----+----+----+----+----+----+----+----+----+----+----+----+----+----+----+----+----+----+----+----+----+----+----+----+----+----+----+----+----+----+----+----+----+----+----+----+----+----+----+----+----+----+----+----+----+----+-----+-----+-----+-----+-----+-----+-----+-----+-----+-----+-----+-----+-----+-----+-----+-----+-----+-----+-----+-----+-----+-----+-----+-----+-----+-----+-----+-----+-----+-----+-----+-----+-----+-----+-----+-----+-----+-----+-----+-----+-----+-----+-----+-----+-----+-----+-----+-----+-----+-----+-----+-----+-----+-----+-----+-----+-----+-----+-----+-----+-----+-----+-----+-----+-----+-----+-----+-----+-----+-----+-----+-----+-----+-----+-----+-----+-----+-----+-----+-----+-----+-----+-----+-----+-----+-----+-----+-----+-----+-----+-----+-----+-----+-----+-----+-----+-----+-----+-----+-----+-----+-----+-----+-----+-----+-----+-----+-----+-----+-----+-----+-----+-----+-----+-----+-----+-----+-----+-----+-----+-----+-----+-----+-----+-----+-----+-----+-----+-----+-----+-----+-----+-----+-----+-----+-----+-----+-----+-----+-----+-----+-----+-----+-----+-----+-----+-----+-----+-----+-----+-----+-----+-----+-----+-----+-----+-----+-----+-----+-----+-----+-----+-----+-----+-----+-----+-----+-----+-----+-----+-----+-----+-----+-----+-----+-----+-----+-----+-----+-----+-----+-----+-----+-----+-----+-----+-----+-----+-----+-----+-----+-----+-----+-----+-----+-----+-----+-----+-----+-----+-----+-----+-----+-----+-----+-----+-----+-----+-----+-----+-----+-----+-----+-----+-----+-----+-----+-----+-----+-----+-----+-----+-----+-----+-----+-----+-----+-----+-----+-----+-----+-----+-----+-----+-----+-----+-----+-----+-----+-----+-----+-----+-----+-----+-----+-----+-----+-----+-----+-----+-----+-----+-----+-----+-----+-----+-----+-----+-----+-----+-----+-----+-----+-----+-----+-----+-----+-----+-----+-----+-----+-----+-----+-----+-----+-----+-----+-----+-----+-----+-----+-----+-----+-----+-----+-----+-----+-----+-----+-----+-----+-----+-----+-----+-----+-----+-----+-----+-----+-----+-----+-----+-----+-----+-----+-----+-----+-----+-----+-----+-----+-----+-----+-----+-----+-----+-----+-----+-----+-----+-----+-----+-----+-----+-----+-----+-----+-----+-----+-----+-----+-----+-----+-----+-----+-----+-----+-----+-----+-----+-----+-----+-----+-----+-----+-----+-----+-----+-----+-----+-----+-----+-----+-----+-----+-----+-----+-----+-----+-----+-----+-----+-----+-----+-----+-----+-----+-----+-----+-----+-----+-----+-----+-----+-----+-----+-----+-----+-----+-----+-----+-----+-----+-----+-----+-----+-----+-----+-----+-----+-----+-----+-----+-----+-----+-----+-----+-----+-----+-----+-----+-----+-----+-----+-----+-----+-----+-----+-----+-----+-----+-----+-----+-----+-----+-----+-----+-----+-----+-----+-----+-----+-----+-----+-----+-----+-----+-----+-----+-----+-----+-----+-----+-----+-----+-----+-----+-----+-----+-----+-----+-----+-----+-----+-----+-----+-----+-----+-----+-----+-----+-----+-----+-----+-----+-----+-----+-----+-----+-----+-----+-----+-----+-----+-----+-----+-----+-----+-----+-----+-----+-----+-----+-----+-----+-----+-----+-----+-----+-----+-----+-----+-----+-----+-----+-----+-----+-----+-----+-----+-----+-----+-----+-----+-----+-----+-----+-----+-----+-----+-----+-----+-----+-----+-----+-----+-----+-----+-----+-----+-----+-----+-----+-----+-----+-----+-----+-----+-----+-----+-----+-----+-----+-----+-----+-----+-----+-----+-----+-----+-----+-----+-----+-----+-----+-----+-----+-----+-----+-----+-----+-----+-----+-----+-----+-----+-----+-----+-----+-----+-----+-----+-----+-----+-----+-----+-----+-----+-----+-----+-----+-----+-----+-----+-----+-----+-----+-----+-----+-----+-----+-----+-----+-----+-----+-----+-----+-----+-----+-----+-----+-----+-----+-----+-----+-----+-----+-----+-----+-----+-----+-----+-----+-----+-----+-----+-----+-----+-----+-----+-----+-----+-----+-----+-----+-----+-----+-----+-----+-----+-----+-----+-----+-----+-----+-----+-----+-----+-----+-----+-----+-----+-----+-----+-----+-----+-----+-----+-----+-----+-----+-----+-----+-----+-----+-----+-----+-----+-----+-----+-----+-----+-----+-----+-----+-----+-----+-----+-----+-----+-----+-----+-----+-----+-----+-----+-----+-----+-----+-----+-----+-----+-----+-----+-----+-----+-----+-----+-----+-----+-----+-----+-----+-----+-----+-----+-----+-----+-----+-----+-----+-----+-----+-----+-----+\n",
            "|_c0|_c1|_c2|_c3|_c4|_c5|_c6|_c7|_c8|_c9|_c10|_c11|_c12|_c13|_c14|_c15|_c16|_c17|_c18|_c19|_c20|_c21|_c22|_c23|_c24|_c25|_c26|_c27|_c28|_c29|_c30|_c31|_c32|_c33|_c34|_c35|_c36|_c37|_c38|_c39|_c40|_c41|_c42|_c43|_c44|_c45|_c46|_c47|_c48|_c49|_c50|_c51|_c52|_c53|_c54|_c55|_c56|_c57|_c58|_c59|_c60|_c61|_c62|_c63|_c64|_c65|_c66|_c67|_c68|_c69|_c70|_c71|_c72|_c73|_c74|_c75|_c76|_c77|_c78|_c79|_c80|_c81|_c82|_c83|_c84|_c85|_c86|_c87|_c88|_c89|_c90|_c91|_c92|_c93|_c94|_c95|_c96|_c97|_c98|_c99|_c100|_c101|_c102|_c103|_c104|_c105|_c106|_c107|_c108|_c109|_c110|_c111|_c112|_c113|_c114|_c115|_c116|_c117|_c118|_c119|_c120|_c121|_c122|_c123|_c124|_c125|_c126|_c127|_c128|_c129|_c130|_c131|_c132|_c133|_c134|_c135|_c136|_c137|_c138|_c139|_c140|_c141|_c142|_c143|_c144|_c145|_c146|_c147|_c148|_c149|_c150|_c151|_c152|_c153|_c154|_c155|_c156|_c157|_c158|_c159|_c160|_c161|_c162|_c163|_c164|_c165|_c166|_c167|_c168|_c169|_c170|_c171|_c172|_c173|_c174|_c175|_c176|_c177|_c178|_c179|_c180|_c181|_c182|_c183|_c184|_c185|_c186|_c187|_c188|_c189|_c190|_c191|_c192|_c193|_c194|_c195|_c196|_c197|_c198|_c199|_c200|_c201|_c202|_c203|_c204|_c205|_c206|_c207|_c208|_c209|_c210|_c211|_c212|_c213|_c214|_c215|_c216|_c217|_c218|_c219|_c220|_c221|_c222|_c223|_c224|_c225|_c226|_c227|_c228|_c229|_c230|_c231|_c232|_c233|_c234|_c235|_c236|_c237|_c238|_c239|_c240|_c241|_c242|_c243|_c244|_c245|_c246|_c247|_c248|_c249|_c250|_c251|_c252|_c253|_c254|_c255|_c256|_c257|_c258|_c259|_c260|_c261|_c262|_c263|_c264|_c265|_c266|_c267|_c268|_c269|_c270|_c271|_c272|_c273|_c274|_c275|_c276|_c277|_c278|_c279|_c280|_c281|_c282|_c283|_c284|_c285|_c286|_c287|_c288|_c289|_c290|_c291|_c292|_c293|_c294|_c295|_c296|_c297|_c298|_c299|_c300|_c301|_c302|_c303|_c304|_c305|_c306|_c307|_c308|_c309|_c310|_c311|_c312|_c313|_c314|_c315|_c316|_c317|_c318|_c319|_c320|_c321|_c322|_c323|_c324|_c325|_c326|_c327|_c328|_c329|_c330|_c331|_c332|_c333|_c334|_c335|_c336|_c337|_c338|_c339|_c340|_c341|_c342|_c343|_c344|_c345|_c346|_c347|_c348|_c349|_c350|_c351|_c352|_c353|_c354|_c355|_c356|_c357|_c358|_c359|_c360|_c361|_c362|_c363|_c364|_c365|_c366|_c367|_c368|_c369|_c370|_c371|_c372|_c373|_c374|_c375|_c376|_c377|_c378|_c379|_c380|_c381|_c382|_c383|_c384|_c385|_c386|_c387|_c388|_c389|_c390|_c391|_c392|_c393|_c394|_c395|_c396|_c397|_c398|_c399|_c400|_c401|_c402|_c403|_c404|_c405|_c406|_c407|_c408|_c409|_c410|_c411|_c412|_c413|_c414|_c415|_c416|_c417|_c418|_c419|_c420|_c421|_c422|_c423|_c424|_c425|_c426|_c427|_c428|_c429|_c430|_c431|_c432|_c433|_c434|_c435|_c436|_c437|_c438|_c439|_c440|_c441|_c442|_c443|_c444|_c445|_c446|_c447|_c448|_c449|_c450|_c451|_c452|_c453|_c454|_c455|_c456|_c457|_c458|_c459|_c460|_c461|_c462|_c463|_c464|_c465|_c466|_c467|_c468|_c469|_c470|_c471|_c472|_c473|_c474|_c475|_c476|_c477|_c478|_c479|_c480|_c481|_c482|_c483|_c484|_c485|_c486|_c487|_c488|_c489|_c490|_c491|_c492|_c493|_c494|_c495|_c496|_c497|_c498|_c499|_c500|_c501|_c502|_c503|_c504|_c505|_c506|_c507|_c508|_c509|_c510|_c511|_c512|_c513|_c514|_c515|_c516|_c517|_c518|_c519|_c520|_c521|_c522|_c523|_c524|_c525|_c526|_c527|_c528|_c529|_c530|_c531|_c532|_c533|_c534|_c535|_c536|_c537|_c538|_c539|_c540|_c541|_c542|_c543|_c544|_c545|_c546|_c547|_c548|_c549|_c550|_c551|_c552|_c553|_c554|_c555|_c556|_c557|_c558|_c559|_c560|_c561|_c562|_c563|_c564|_c565|_c566|_c567|_c568|_c569|_c570|_c571|_c572|_c573|_c574|_c575|_c576|_c577|_c578|_c579|_c580|_c581|_c582|_c583|_c584|_c585|_c586|_c587|_c588|_c589|_c590|_c591|_c592|_c593|_c594|_c595|_c596|_c597|_c598|_c599|_c600|_c601|_c602|_c603|_c604|_c605|_c606|_c607|_c608|_c609|_c610|_c611|_c612|_c613|_c614|_c615|_c616|_c617|_c618|_c619|_c620|_c621|_c622|_c623|_c624|_c625|_c626|_c627|_c628|_c629|_c630|_c631|_c632|_c633|_c634|_c635|_c636|_c637|_c638|_c639|_c640|_c641|_c642|_c643|_c644|_c645|_c646|_c647|_c648|_c649|_c650|_c651|_c652|_c653|_c654|_c655|_c656|_c657|_c658|_c659|_c660|_c661|_c662|_c663|_c664|_c665|_c666|_c667|_c668|_c669|_c670|_c671|_c672|_c673|_c674|_c675|_c676|_c677|_c678|_c679|_c680|_c681|_c682|_c683|_c684|_c685|_c686|_c687|_c688|_c689|_c690|_c691|_c692|_c693|_c694|_c695|_c696|_c697|_c698|_c699|_c700|_c701|_c702|_c703|_c704|_c705|_c706|_c707|_c708|_c709|_c710|_c711|_c712|_c713|_c714|_c715|_c716|_c717|_c718|_c719|_c720|_c721|_c722|_c723|_c724|_c725|_c726|_c727|_c728|_c729|_c730|_c731|_c732|_c733|_c734|_c735|_c736|_c737|_c738|_c739|_c740|_c741|_c742|_c743|_c744|_c745|_c746|_c747|_c748|_c749|_c750|_c751|_c752|_c753|_c754|_c755|_c756|_c757|_c758|_c759|_c760|_c761|_c762|_c763|_c764|_c765|_c766|_c767|_c768|_c769|_c770|_c771|_c772|_c773|_c774|_c775|_c776|_c777|_c778|_c779|_c780|_c781|_c782|_c783|_c784|\n",
            "+---+---+---+---+---+---+---+---+---+---+----+----+----+----+----+----+----+----+----+----+----+----+----+----+----+----+----+----+----+----+----+----+----+----+----+----+----+----+----+----+----+----+----+----+----+----+----+----+----+----+----+----+----+----+----+----+----+----+----+----+----+----+----+----+----+----+----+----+----+----+----+----+----+----+----+----+----+----+----+----+----+----+----+----+----+----+----+----+----+----+----+----+----+----+----+----+----+----+----+----+-----+-----+-----+-----+-----+-----+-----+-----+-----+-----+-----+-----+-----+-----+-----+-----+-----+-----+-----+-----+-----+-----+-----+-----+-----+-----+-----+-----+-----+-----+-----+-----+-----+-----+-----+-----+-----+-----+-----+-----+-----+-----+-----+-----+-----+-----+-----+-----+-----+-----+-----+-----+-----+-----+-----+-----+-----+-----+-----+-----+-----+-----+-----+-----+-----+-----+-----+-----+-----+-----+-----+-----+-----+-----+-----+-----+-----+-----+-----+-----+-----+-----+-----+-----+-----+-----+-----+-----+-----+-----+-----+-----+-----+-----+-----+-----+-----+-----+-----+-----+-----+-----+-----+-----+-----+-----+-----+-----+-----+-----+-----+-----+-----+-----+-----+-----+-----+-----+-----+-----+-----+-----+-----+-----+-----+-----+-----+-----+-----+-----+-----+-----+-----+-----+-----+-----+-----+-----+-----+-----+-----+-----+-----+-----+-----+-----+-----+-----+-----+-----+-----+-----+-----+-----+-----+-----+-----+-----+-----+-----+-----+-----+-----+-----+-----+-----+-----+-----+-----+-----+-----+-----+-----+-----+-----+-----+-----+-----+-----+-----+-----+-----+-----+-----+-----+-----+-----+-----+-----+-----+-----+-----+-----+-----+-----+-----+-----+-----+-----+-----+-----+-----+-----+-----+-----+-----+-----+-----+-----+-----+-----+-----+-----+-----+-----+-----+-----+-----+-----+-----+-----+-----+-----+-----+-----+-----+-----+-----+-----+-----+-----+-----+-----+-----+-----+-----+-----+-----+-----+-----+-----+-----+-----+-----+-----+-----+-----+-----+-----+-----+-----+-----+-----+-----+-----+-----+-----+-----+-----+-----+-----+-----+-----+-----+-----+-----+-----+-----+-----+-----+-----+-----+-----+-----+-----+-----+-----+-----+-----+-----+-----+-----+-----+-----+-----+-----+-----+-----+-----+-----+-----+-----+-----+-----+-----+-----+-----+-----+-----+-----+-----+-----+-----+-----+-----+-----+-----+-----+-----+-----+-----+-----+-----+-----+-----+-----+-----+-----+-----+-----+-----+-----+-----+-----+-----+-----+-----+-----+-----+-----+-----+-----+-----+-----+-----+-----+-----+-----+-----+-----+-----+-----+-----+-----+-----+-----+-----+-----+-----+-----+-----+-----+-----+-----+-----+-----+-----+-----+-----+-----+-----+-----+-----+-----+-----+-----+-----+-----+-----+-----+-----+-----+-----+-----+-----+-----+-----+-----+-----+-----+-----+-----+-----+-----+-----+-----+-----+-----+-----+-----+-----+-----+-----+-----+-----+-----+-----+-----+-----+-----+-----+-----+-----+-----+-----+-----+-----+-----+-----+-----+-----+-----+-----+-----+-----+-----+-----+-----+-----+-----+-----+-----+-----+-----+-----+-----+-----+-----+-----+-----+-----+-----+-----+-----+-----+-----+-----+-----+-----+-----+-----+-----+-----+-----+-----+-----+-----+-----+-----+-----+-----+-----+-----+-----+-----+-----+-----+-----+-----+-----+-----+-----+-----+-----+-----+-----+-----+-----+-----+-----+-----+-----+-----+-----+-----+-----+-----+-----+-----+-----+-----+-----+-----+-----+-----+-----+-----+-----+-----+-----+-----+-----+-----+-----+-----+-----+-----+-----+-----+-----+-----+-----+-----+-----+-----+-----+-----+-----+-----+-----+-----+-----+-----+-----+-----+-----+-----+-----+-----+-----+-----+-----+-----+-----+-----+-----+-----+-----+-----+-----+-----+-----+-----+-----+-----+-----+-----+-----+-----+-----+-----+-----+-----+-----+-----+-----+-----+-----+-----+-----+-----+-----+-----+-----+-----+-----+-----+-----+-----+-----+-----+-----+-----+-----+-----+-----+-----+-----+-----+-----+-----+-----+-----+-----+-----+-----+-----+-----+-----+-----+-----+-----+-----+-----+-----+-----+-----+-----+-----+-----+-----+-----+-----+-----+-----+-----+-----+-----+-----+-----+-----+-----+-----+-----+-----+-----+-----+-----+-----+-----+-----+-----+-----+-----+-----+-----+-----+-----+-----+-----+-----+-----+-----+-----+-----+-----+-----+-----+-----+-----+-----+-----+-----+-----+-----+-----+-----+-----+-----+-----+-----+-----+-----+-----+-----+-----+-----+-----+-----+-----+-----+-----+-----+-----+-----+-----+-----+-----+-----+-----+-----+-----+-----+-----+-----+-----+-----+-----+-----+-----+-----+-----+-----+-----+-----+-----+-----+-----+-----+-----+-----+-----+-----+-----+-----+\n",
            "|  6|  0|  0|  0|  0|  0|  0|  0|  0|  0|   0|   0|   0|   0|   0|   0|   0|   0|   0|   0|   0|   0|   0|   0|   0|   0|   0|   0|   0|   0|   0|   0|   0|   0|   0|   0|   0|   0|   0|   0|   0|   0|   0|   0|   0|   0|   0|   0|   0|   0|   0|   0|   0|   0|   0|   0|   0|   0|   0|   0|   0|   0|   0|   0|   0|   0|   0|   0|   0|   0|   0|   0|   0|   0|   0|   0|   0|   0|   0|   0|   0|   0|   0|   0|   0|   0|   0|   0|   0|   0|   0|   0|   0|   0|   0|   0|   0|   0|   0|   0|    0|    0|    0|    0|    0|    0|    0|    0|    0|    0|    0|    0|    0|    0|    0|    0|    0|    0|    0|    0|    0|    0|    0|   24|   67|   67|   18|    0|    0|    0|    0|    0|    0|    0|    0|    0|    0|    0|    0|    0|    0|    0|    0|    0|    0|    0|    0|    0|    0|    0|    0|  131|  252|  252|   66|    0|    0|    0|    0|    0|    0|    0|    0|    0|    0|    0|    0|    0|    0|    0|    0|    0|    0|    0|    0|    0|    0|    0|  159|  250|  232|   30|   32|    0|    0|    0|    0|    0|    0|    0|    0|    0|    0|    0|    0|    0|    0|    0|    0|    0|    0|    0|    0|    0|    0|   15|  222|  252|  108|    0|    0|    0|    0|    0|    0|    0|    0|    0|    0|    0|    0|    0|    0|    0|    0|    0|    0|    0|    0|    0|    0|    0|    0|  147|  252|  183|    5|    0|    0|    0|    0|    0|    0|    0|   20|   89|   89|   73|    0|    0|    0|    0|    0|    0|    0|    0|    0|    0|    0|    0|   48|  247|  252|  159|    0|    0|    0|    0|    0|    0|    0|   79|  236|  252|  252|  249|  198|   16|    0|    0|    0|    0|    0|    0|    0|    0|    0|   41|  193|  252|  199|   22|    0|    0|    0|    0|    0|   12|  135|  248|  252|  252|  252|  252|  252|  100|    0|    0|    0|    0|    0|    0|    0|    0|    0|  100|  252|  252|   88|    0|    0|    0|    0|    0|   11|  171|  252|  252|  235|  175|  178|  252|  252|  224|    0|    0|    0|    0|    0|    0|    0|    0|   15|  209|  252|  233|   12|    0|    0|    0|    0|   49|  177|  252|  252|   89|   26|    0|    2|  166|  252|  252|    0|    0|    0|    0|    0|    0|    0|    0|   96|  253|  253|   59|    0|    0|    0|    0|   11|  177|  255|  253|   92|    0|    0|    0|    0|  155|  253|  128|    0|    0|    0|    0|    0|    0|    0|    0|  143|  252|  252|   10|    0|    0|    0|   12|  171|  252|  216|  110|   13|    0|    0|    0|    3|  180|  232|   24|    0|    0|    0|    0|    0|    0|    0|    0|  143|  252|  170|    2|    0|    0|    0|  135|  252|  209|   19|    0|    0|    0|    0|    0|   12|  252|  132|    0|    0|    0|    0|    0|    0|    0|    0|    0|  249|  252|   96|    0|    0|    0|   21|  248|  246|   34|    0|    0|    0|    0|    5|   61|  234|  152|    3|    0|    0|    0|    0|    0|    0|    0|    0|    0|  253|  252|   44|    0|    0|    0|  145|  252|  104|    0|    0|    0|   46|  114|  184|  252|  149|   34|    0|    0|    0|    0|    0|    0|    0|    0|    0|    0|  253|  252|   82|    0|    0|   31|  239|  252|   66|   39|   89|  165|  243|  252|  233|  126|    5|    0|    0|    0|    0|    0|    0|    0|    0|    0|    0|    0|  249|  252|  244|  126|   98|  143|  252|  252|  237|  240|  253|  252|  243|  174|   17|    0|    0|    0|    0|    0|    0|    0|    0|    0|    0|    0|    0|    0|  119|  239|  252|  252|  252|  252|  252|  252|  252|  252|  228|  179|   17|    0|    0|    0|    0|    0|    0|    0|    0|    0|    0|    0|    0|    0|    0|    0|    0|   46|   66|   66|   66|   66|   66|   66|   66|   66|   29|    0|    0|    0|    0|    0|    0|    0|    0|    0|    0|    0|    0|    0|    0|    0|    0|    0|    0|    0|    0|    0|    0|    0|    0|    0|    0|    0|    0|    0|    0|    0|    0|    0|    0|    0|    0|    0|    0|    0|    0|    0|    0|    0|    0|    0|    0|    0|    0|    0|    0|    0|    0|    0|    0|    0|    0|    0|    0|    0|    0|    0|    0|    0|    0|    0|    0|    0|    0|    0|    0|    0|    0|    0|    0|    0|    0|    0|    0|    0|    0|    0|    0|    0|    0|    0|    0|    0|    0|    0|    0|    0|    0|    0|    0|    0|    0|    0|    0|    0|    0|    0|    0|    0|    0|    0|    0|    0|    0|    0|    0|    0|    0|    0|    0|    0|    0|    0|    0|    0|    0|    0|    0|    0|    0|    0|    0|    0|    0|    0|    0|    0|    0|    0|    0|    0|    0|    0|    0|    0|    0|    0|    0|    0|    0|    0|    0|    0|    0|    0|    0|    0|    0|    0|    0|    0|    0|    0|    0|    0|    0|    0|    0|    0|    0|    0|    0|    0|    0|    0|    0|    0|    0|    0|    0|    0|    0|    0|    0|    0|    0|\n",
            "|  5|  0|  0|  0|  0|  0|  0|  0|  0|  0|   0|   0|   0|   0|   0|   0|   0|   0|   0|   0|   0|   0|   0|   0|   0|   0|   0|   0|   0|   0|   0|   0|   0|   0|   0|   0|   0|   0|   0|   0|   0|   0|   0|   0|   0|   0|   0|   0|   0|   0|   0|   0|   0|   0|   0|   0|   0|   0|   0|   0|   0|   0|   0|   0|   0|   0|   0|   0|   0|   0|   0|   0|   0|   0|   0|   0|   0|   0|   0|   0|   0|   0|   0|   0|   0|   0|   0|   0|   0|   0|   0|   0|   0|   0|   0|   0|   0|   0|   0|   0|    0|    0|    0|    0|    0|    0|    0|    0|    0|    0|    0|    0|    0|    0|    0|    0|    0|    0|    0|    0|    0|    0|    0|    0|    0|    0|    0|    0|    0|    0|    0|    0|    0|    0|    0|    0|    0|    0|    0|    0|    0|    0|    0|    0|    0|    0|    0|    0|    0|    0|    0|    0|   28|   59|   50|    0|   23|    0|    0|   32|  134|  180|  254|  206|    8|    0|    0|    0|    0|    0|    0|    0|    0|    0|    0|    0|    0|    4|   96|  216|  233|  254|  248|  215|  231|  215|  215|  236|  254|  250|  181|   27|    0|    0|    0|    0|    0|    0|    0|    0|    0|    0|    0|    0|    0|  108|  254|  254|  247|  175|  175|  175|  176|  175|  175|  205|  175|   60|    0|    0|    0|    0|    0|    0|    0|    0|    0|    0|    0|    0|    0|    0|    0|   47|  254|  245|   85|    0|    0|    0|    0|    0|    0|    8|    0|    0|    0|    0|    0|    0|    0|    0|    0|    0|    0|    0|    0|    0|    0|    0|    0|  152|  254|  158|    0|    0|    0|    0|    0|    0|    0|    0|    0|    0|    0|    0|    0|    0|    0|    0|    0|    0|    0|    0|    0|    0|    0|    0|   19|  240|  255|   38|    0|   41|   50|    0|    0|    0|    0|    0|    0|    0|    0|    0|    0|    0|    0|    0|    0|    0|    0|    0|    0|    0|    0|    0|   87|  254|  254|  178|  215|  242|  248|  215|   96|   19|    0|    0|    0|    0|    0|    0|    0|    0|    0|    0|    0|    0|    0|    0|    0|    0|    0|    0|  176|  254|  254|  254|  217|  175|  187|  254|  254|  248|   85|    0|    0|    0|    0|    0|    0|    0|    0|    0|    0|    0|    0|    0|    0|    0|    0|    0|  161|  247|  214|   57|   11|    0|    3|   19|  177|  248|  248|  129|    9|    0|    0|    0|    0|    0|    0|    0|    0|    0|    0|    0|    0|    0|    0|    0|   18|   49|    0|    0|    0|    0|    0|    0|    0|   57|  224|  254|  171|    0|    0|    0|    0|    0|    0|    0|    0|    0|    0|    0|    0|    0|    0|    0|    0|    0|    0|    0|    0|    0|    0|    0|    0|    0|    0|  213|  255|  122|    0|    0|    0|    0|    0|    0|    0|    0|    0|    0|    0|    0|    0|    0|    0|    0|    0|    0|    0|    0|    0|    0|    0|    0|    0|   92|  254|  196|    0|    0|    0|    0|    0|    0|    0|    0|    0|    0|    0|    0|    0|    0|    0|    0|    0|    0|    0|    0|    0|    0|    0|    0|    0|   40|  254|  196|    0|    0|    0|    0|    0|    0|    0|    0|    0|    0|    0|    0|    0|    0|    0|    0|    0|    0|    0|    0|    0|    0|    0|    0|    0|  145|  254|  196|    0|    0|    0|    0|    0|    0|    0|    0|    0|    0|    0|    0|    0|    0|   31|  188|   45|    0|    0|    0|    0|    0|    0|    0|   99|  249|  254|  121|    0|    0|    0|    0|    0|    0|    0|    0|    0|    0|    0|    0|    0|    0|  139|  245|   45|    0|    0|    0|    0|    0|    0|  140|  254|  254|  133|    0|    0|    0|    0|    0|    0|    0|    0|    0|    0|    0|    0|    0|    0|   17|  242|  169|    0|    0|    0|    0|    4|   58|  216|  248|  254|  167|    9|    0|    0|    0|    0|    0|    0|    0|    0|    0|    0|    0|    0|    0|    0|   14|  230|  196|   79|   49|   79|   79|  181|  254|  254|  247|  108|    6|    0|    0|    0|    0|    0|    0|    0|    0|    0|    0|    0|    0|    0|    0|    0|    0|   44|  213|  254|  247|  254|  254|  254|  254|  192|   32|    0|    0|    0|    0|    0|    0|    0|    0|    0|    0|    0|    0|    0|    0|    0|    0|    0|    0|    0|    9|  133|  156|  193|  155|  140|   58|    0|    0|    0|    0|    0|    0|    0|    0|    0|    0|    0|    0|    0|    0|    0|    0|    0|    0|    0|    0|    0|    0|    0|    0|    0|    0|    0|    0|    0|    0|    0|    0|    0|    0|    0|    0|    0|    0|    0|    0|    0|    0|    0|    0|    0|    0|    0|    0|    0|    0|    0|    0|    0|    0|    0|    0|    0|    0|    0|    0|    0|    0|    0|    0|    0|    0|    0|    0|    0|    0|    0|    0|    0|    0|    0|    0|    0|    0|    0|    0|    0|    0|    0|    0|    0|    0|    0|    0|    0|    0|    0|    0|    0|    0|    0|    0|    0|\n",
            "|  7|  0|  0|  0|  0|  0|  0|  0|  0|  0|   0|   0|   0|   0|   0|   0|   0|   0|   0|   0|   0|   0|   0|   0|   0|   0|   0|   0|   0|   0|   0|   0|   0|   0|   0|   0|   0|   0|   0|   0|   0|   0|   0|   0|   0|   0|   0|   0|   0|   0|   0|   0|   0|   0|   0|   0|   0|   0|   0|   0|   0|   0|   0|   0|   0|   0|   0|   0|   0|   0|   0|   0|   0|   0|   0|   0|   0|   0|   0|   0|   0|   0|   0|   0|   0|   0|   0|   0|   0|   0|   0|   0|   0|   0|   0|   0|   0|   0|   0|   0|    0|    0|    0|    0|    0|    0|    0|    0|    0|    0|    0|    0|    0|    0|    0|    0|    0|    0|    0|    0|    0|    0|    0|    0|    0|    0|    0|    0|    0|    0|    0|    0|    0|    0|    0|    0|    0|    0|    0|    0|    0|    0|    0|    0|    0|    0|    0|    0|    0|    0|    0|    0|    0|    0|    0|    0|    0|    0|    0|    0|    0|    0|    0|    0|    0|    0|    0|    0|    0|    0|    0|    0|    0|    0|    0|    0|    0|    0|    0|    0|    0|    0|    0|    0|    0|    0|   32|   97|  179|  254|  223|   72|    0|    0|    0|    0|    0|    0|    0|    0|    0|    0|    0|    0|    0|    0|    0|    0|    0|    0|    0|   13|   65|  185|  235|  253|  254|  253|  253|  199|    0|    0|    0|    0|    0|    0|    0|    0|    0|    0|    0|    0|    0|    0|    0|   37|   55|    0|   61|  224|  253|  253|  253|  192|   78|  226|  253|  213|    0|    0|    0|    0|    0|    0|    0|    0|    0|    0|    0|    0|    0|    0|  100|  228|  247|  159|  248|  254|  234|  183|   64|    5|    0|  177|  253|  161|    0|    0|    0|    0|    0|    0|    0|    0|    0|    0|    0|    0|    0|   76|  254|  253|  253|  253|  253|  193|   46|    0|    0|    0|    0|  214|  253|  117|    0|    0|    0|    0|    0|    0|    0|    0|    0|    0|    0|    0|    0|  121|  255|  254|  254|  146|   60|    0|    0|    0|    0|    0|   14|  224|  254|   57|    0|    0|    0|    0|    0|    0|    0|    0|    0|    0|    0|    0|   79|  244|  254|  243|  106|    3|    0|    0|    0|    0|    0|    0|  186|  253|  216|   10|    0|    0|    0|    0|    0|    0|    0|    0|    0|    0|    0|    0|  166|  253|  254|  135|    0|    0|    0|    0|    0|    0|    0|    0|  254|  253|  107|    0|    0|    0|    0|    0|    0|    0|    0|    0|    0|    0|    0|  126|  251|  253|  146|    3|    0|    0|    0|    0|    0|    0|    0|  106|  254|  242|   36|    0|    0|    0|    0|    0|    0|    0|    0|    0|    0|    0|    8|  205|  253|  215|   23|    0|    0|    0|    0|    0|    0|    0|   31|  239|  254|  121|    0|    0|    0|    0|    0|    0|    0|    0|    0|    0|    0|    0|  178|  254|  244|   83|    0|    0|    0|    0|    0|    0|    0|   19|  201|  254|  196|   15|    0|    0|    0|    0|    0|    0|    0|    0|    0|    0|    0|   28|  232|  253|  124|    0|    0|    0|    0|    0|    0|    0|    2|  129|  253|  253|   15|    0|    0|    0|    0|    0|    0|    0|    0|    0|    0|    0|    0|   18|  220|  174|   13|    0|    0|    0|    0|    0|    0|    0|   88|  253|  253|  154|    0|    0|    0|    0|    0|    0|    0|    0|    0|    0|    0|    0|    0|    0|   15|    0|    0|    0|    0|    0|    0|    0|    0|   10|  175|  253|  231|   27|    0|    0|    0|    0|    0|    0|    0|    0|    0|    0|    0|    0|    0|    0|    0|    0|    0|    0|    0|    0|    0|    0|    0|  134|  253|  253|  138|    0|    0|    0|    0|    0|    0|    0|    0|    0|    0|    0|    0|    0|    0|    0|    0|    0|    0|    0|    0|    0|    0|    0|   83|  255|  254|  152|    0|    0|    0|    0|    0|    0|    0|    0|    0|    0|    0|    0|    0|    0|    0|    0|    0|    0|    0|    0|    0|    0|    0|   19|  222|  254|  191|   12|    0|    0|    0|    0|    0|    0|    0|    0|    0|    0|    0|    0|    0|    0|    0|    0|    0|    0|    0|    0|    0|    0|    0|  137|  253|  254|  135|    0|    0|    0|    0|    0|    0|    0|    0|    0|    0|    0|    0|    0|    0|    0|    0|    0|    0|    0|    0|    0|    0|    0|    0|  234|  253|  254|  173|    0|    0|    0|    0|    0|    0|    0|    0|    0|    0|    0|    0|    0|    0|    0|    0|    0|    0|    0|    0|    0|    0|    0|    0|  159|  253|  193|   46|    0|    0|    0|    0|    0|    0|    0|    0|    0|    0|    0|    0|    0|    0|    0|    0|    0|    0|    0|    0|    0|    0|    0|    0|    0|    0|    0|    0|    0|    0|    0|    0|    0|    0|    0|    0|    0|    0|    0|    0|    0|    0|    0|    0|    0|    0|    0|    0|    0|    0|    0|    0|    0|    0|    0|    0|    0|    0|    0|    0|    0|    0|    0|    0|    0|    0|    0|    0|\n",
            "|  9|  0|  0|  0|  0|  0|  0|  0|  0|  0|   0|   0|   0|   0|   0|   0|   0|   0|   0|   0|   0|   0|   0|   0|   0|   0|   0|   0|   0|   0|   0|   0|   0|   0|   0|   0|   0|   0|   0|   0|   0|   0|   0|   0|   0|   0|   0|   0|   0|   0|   0|   0|   0|   0|   0|   0|   0|   0|   0|   0|   0|   0|   0|   0|   0|   0|   0|   0|   0|   0|   0|   0|   0|   0|   0|   0|   0|   0|   0|   0|   0|   0|   0|   0|   0|   0|   0|   0|   0|   0|   0|   0|   0|   0|   0|   0|   0|   0|   0|   0|    0|    0|    0|    0|    0|    0|    0|    0|    0|    0|    0|    0|    0|    0|    0|    0|    0|    0|    0|    0|    0|    0|    0|    0|    0|    0|    0|    0|    0|    0|    0|    0|    0|    0|    0|    0|    0|    0|    0|    0|    0|    0|    0|    0|    0|    0|    0|    0|    0|    0|    0|    0|    0|    0|    0|    0|    0|    0|    0|    0|    0|    0|    0|    0|    0|    0|    0|    0|    0|    0|    0|    0|    0|    0|    0|    0|    0|    0|    0|    0|    0|    0|    0|    0|    0|    0|    0|    0|    0|    0|    0|    0|    0|    0|    0|    0|    0|    0|    0|    0|    0|    0|    0|    0|    0|    0|   25|  114|  181|  219|  255|  196|  126|  122|   22|    0|    0|    0|    0|    0|    0|    0|    0|    0|    0|    0|    0|    0|    0|    0|    0|    0|    0|   74|  212|  218|  254|  254|  225|  217|  216|  245|  133|    0|    0|    0|    0|    0|    0|    0|    0|    0|    0|    0|    0|    0|    0|    0|    0|   46|  104|  187|  253|  213|  129|   56|   15|    0|    0|   86|  237|   88|    0|    0|    0|    0|    0|    0|    0|    0|    0|    0|    0|    0|    0|    0|   82|  235|  254|  254|  143|    0|    0|    0|    0|    0|    0|   10|  254|  113|    0|    0|    0|    0|    0|    0|    0|    0|    0|    0|    0|    0|    0|    0|  226|  254|  254|   70|    4|    0|    0|    0|    0|    0|    0|    1|   50|  100|   22|   79|  111|    0|    0|    0|    0|    0|    0|    0|    0|    0|    0|    0|  226|  254|  254|   71|    4|   45|   93|   90|   90|   19|    5|   23|  207|  228|  228|  254|  243|   73|    0|    0|    0|    0|    0|    0|    0|    0|    0|    0|  195|  254|  254|  254|  193|  232|  254|  254|  254|  254|  198|  254|  254|  254|  254|  254|  254|  131|    0|    0|    0|    0|    0|    0|    0|    0|    0|    0|   19|  176|  235|  254|  254|  254|  254|  254|  254|  254|  254|  254|  254|  254|  254|  254|  254|  111|    0|    0|    0|    0|    0|    0|    0|    0|    0|    0|    0|    0|   25|  125|  131|  162|  225|  215|  131|  201|  131|  169|  209|  254|  254|  254|  216|   20|    0|    0|    0|    0|    0|    0|    0|    0|    0|    0|    0|    0|    0|    0|    0|    0|    0|    0|    0|    0|    0|    0|  169|  254|  254|  222|   30|    0|    0|    0|    0|    0|    0|    0|    0|    0|    0|    0|    0|    0|    0|    0|    0|    0|    0|    0|    0|    0|    0|    6|  223|  254|  254|  145|    0|    0|    0|    0|    0|    0|    0|    0|    0|    0|    0|    0|    0|    0|    0|    0|    0|    0|    0|    0|    0|    0|    0|   73|  254|  254|  152|    9|    0|    0|    0|    0|    0|    0|    0|    0|    0|    0|    0|    0|    0|    0|    0|    0|    0|    0|    0|    0|    0|    0|    2|  200|  254|  252|   66|    0|    0|    0|    0|    0|    0|    0|    0|    0|    0|    0|    0|    0|    0|    0|    0|    0|    0|    0|    0|    0|    0|    0|  101|  254|  254|  143|    0|    0|    0|    0|    0|    0|    0|    0|    0|    0|    0|    0|    0|    0|    0|    0|    0|    0|    0|    0|    0|    0|    0|    0|   80|  254|  254|   95|    0|    0|    0|    0|    0|    0|    0|    0|    0|    0|    0|    0|    0|    0|    0|    0|    0|    0|    0|    0|    0|    0|    0|    0|  157|  254|  213|   10|    0|    0|    0|    0|    0|    0|    0|    0|    0|    0|    0|    0|    0|    0|    0|    0|    0|    0|    0|    0|    0|    0|    0|   23|  235|  254|   85|    0|    0|    0|    0|    0|    0|    0|    0|    0|    0|    0|    0|    0|    0|    0|    0|    0|    0|    0|    0|    0|    0|    0|    0|   88|  254|  251|   66|    0|    0|    0|    0|    0|    0|    0|    0|    0|    0|    0|    0|    0|    0|    0|    0|    0|    0|    0|    0|    0|    0|    0|    0|  160|  254|  153|    0|    0|    0|    0|    0|    0|    0|    0|    0|    0|    0|    0|    0|    0|    0|    0|    0|    0|    0|    0|    0|    0|    0|    0|    0|   91|  225|   15|    0|    0|    0|    0|    0|    0|    0|    0|    0|    0|    0|    0|    0|    0|    0|    0|    0|    0|    0|    0|    0|    0|    0|    0|    0|    0|    0|    0|    0|    0|    0|    0|    0|    0|    0|    0|    0|    0|    0|\n",
            "|  5|  0|  0|  0|  0|  0|  0|  0|  0|  0|   0|   0|   0|   0|   0|   0|   0|   0|   0|   0|   0|   0|   0|   0|   0|   0|   0|   0|   0|   0|   0|   0|   0|   0|   0|   0|   0|   0|   0|   0|   0|   0|   0|   0|   0|   0|   0|   0|   0|   0|   0|   0|   0|   0|   0|   0|   0|   0|   0|   0|   0|   0|   0|   0|   0|   0|   0|   0|   0|   0|   0|   0|   0|   0|   0|   0|   0|   0|   0|   0|   0|   0|   0|   0|   0|   0|   0|   0|   0|   0|   0|   0|   0|   0|   0|   0|   0|   0|   0|   0|    0|    0|    0|    0|    0|    0|    0|    0|    0|    0|    0|    0|    0|    0|    0|    0|    0|    0|    0|    0|    0|    0|    0|    0|    0|    0|    0|    0|    0|    0|   20|  206|  210|    0|    0|    0|    0|    0|    0|    0|    0|    0|    0|    0|    0|    0|    0|    0|    0|    0|    0|    0|    0|    0|    0|    0|   47|  179|  248|  239|  122|    0|    0|    0|    0|    0|    0|    0|    0|    0|    0|    0|    0|    0|    0|    0|    0|    0|   78|  192|  237|  237|  206|  237|  249|  254|  239|  123|    0|    0|    0|    0|    0|    0|    0|    0|    0|    0|    0|    0|    0|    0|    0|    0|    0|   48|  229|  254|  254|  235|  254|  254|  174|  114|   26|    0|    0|    0|    0|    0|    0|    0|    0|    0|    0|    0|    0|    0|    0|    0|    0|    0|    0|  155|  254|  132|   35|   23|   35|   35|    0|    0|    0|    0|    0|    0|    0|    0|    0|    0|    0|    0|    0|    0|    0|    0|    0|    0|    0|    0|    9|  232|  232|   23|    0|    0|    0|    0|    0|    0|    0|    0|    0|    0|    0|    0|    0|    0|    0|    0|    0|    0|    0|    0|    0|    0|    0|    0|  131|  254|  140|    0|   12|   63|   51|   27|    0|    0|    0|    0|    0|    0|    0|    0|    0|    0|    0|    0|    0|    0|    0|    0|    0|    0|    0|    0|  149|  254|  126|   61|  172|  254|  254|  254|  166|   82|   14|    0|    0|    0|    0|    0|    0|    0|    0|    0|    0|    0|    0|    0|    0|    0|    0|    0|  149|  254|  230|  254|  250|  208|  160|  245|  251|  254|  237|  135|   20|    0|    0|    0|    0|    0|    0|    0|    0|    0|    0|    0|    0|    0|    0|    0|  149|  254|  254|  241|   92|    0|    0|    0|   52|  133|  248|  254|  225|   46|    0|    0|    0|    0|    0|    0|    0|    0|    0|    0|    0|    0|    0|    0|  149|  255|  241|   61|    0|    0|    0|    0|    0|    0|   22|  153|  254|  242|   89|    0|    0|    0|    0|    0|    0|    0|    0|    0|    0|    0|    0|    0|   26|  127|   49|    0|    0|    0|    0|    0|    0|    0|    0|   20|  153|  254|  227|    0|    0|    0|    0|    0|    0|    0|    0|    0|    0|    0|    0|    0|    0|    0|    0|    0|    0|    0|    0|    0|    0|    0|    0|    0|   19|  228|  252|   57|    0|    0|    0|    0|    0|    0|    0|    0|    0|    0|    0|    0|    0|    0|    0|    0|    0|    0|    0|    0|    0|    0|    0|    0|    0|  211|  254|   61|    0|    0|    0|    0|    0|    0|    0|    0|    0|    0|    0|    0|    0|    0|    0|    0|    0|    0|    0|    0|    0|    0|    0|    0|    0|  211|  254|   61|    0|    0|    0|    0|    0|    0|    0|    0|    0|    0|    0|    0|    0|    0|    0|    0|    0|    0|    0|    0|    0|    0|    0|    0|   49|  246|  241|   32|    0|    0|    0|    0|    0|    0|    0|    0|    0|    0|    0|    0|    0|   33|  159|  105|    0|    0|    0|    0|    0|    0|    0|   42|  217|  254|  179|    0|    0|    0|    0|    0|    0|    0|    0|    0|    0|    0|    0|    0|   26|  218|  254|   71|    0|    0|    0|    0|    0|   18|  122|  248|  254|  215|   13|    0|    0|    0|    0|    0|    0|    0|    0|    0|    0|    0|    0|    0|   39|  241|  254|  208|   97|   91|   43|  128|  185|  251|  254|  252|  184|   12|    0|    0|    0|    0|    0|    0|    0|    0|    0|    0|    0|    0|    0|    0|    0|   93|  242|  254|  254|  254|  254|  254|  254|  254|  202|   71|    0|    0|    0|    0|    0|    0|    0|    0|    0|    0|    0|    0|    0|    0|    0|    0|    0|    0|    0|    0|    0|    0|    0|    0|    0|    0|    0|    0|    0|    0|    0|    0|    0|    0|    0|    0|    0|    0|    0|    0|    0|    0|    0|    0|    0|    0|    0|    0|    0|    0|    0|    0|    0|    0|    0|    0|    0|    0|    0|    0|    0|    0|    0|    0|    0|    0|    0|    0|    0|    0|    0|    0|    0|    0|    0|    0|    0|    0|    0|    0|    0|    0|    0|    0|    0|    0|    0|    0|    0|    0|    0|    0|    0|    0|    0|    0|    0|    0|    0|    0|    0|    0|    0|    0|    0|    0|    0|    0|    0|    0|    0|    0|    0|    0|    0|    0|    0|    0|    0|    0|    0|\n",
            "|  2|  0|  0|  0|  0|  0|  0|  0|  0|  0|   0|   0|   0|   0|   0|   0|   0|   0|   0|   0|   0|   0|   0|   0|   0|   0|   0|   0|   0|   0|   0|   0|   0|   0|   0|   0|   0|   0|   0|   0|   0|   0|   0|   0|   0|   0|   0|   0|   0|   0|   0|   0|   0|   0|   0|   0|   0|   0|   0|   0|   0|   0|   0|   0|   0|   0|   0|   0|   0|   0|   0|   0|   0|   0|   0|   0|   0|   0|   0|   0|   0|   0|   0|   0|   0|   0|   0|   0|   0|   0|   0|   0|   0|   0|   0|   0|   0|   0|   0|   0|    0|    0|    0|    0|    0|    0|    0|    0|    0|    0|    0|    0|    0|    0|    0|    0|    0|    0|    0|    0|    0|    0|    0|    0|    0|   16|   54|  141|  191|  255|  253|  165|   41|    0|    0|    0|    0|    0|    0|    0|    0|    0|    0|    0|    0|    0|    0|    0|    0|    0|    0|    0|    0|  216|  252|  252|  252|  253|  252|  252|  252|   76|    0|    0|    0|    0|    0|    0|    0|    0|    0|    0|    0|    0|    0|    0|    0|    0|    0|   29|  185|  253|  233|  168|   68|   56|   81|  196|  252|  210|   28|    0|    0|    0|    0|    0|    0|    0|    0|    0|    0|    0|    0|    0|    0|    0|    0|  134|  252|  241|   59|    0|    0|    0|    0|   10|  228|  253|   84|    0|    0|    0|    0|    0|    0|    0|    0|    0|    0|    0|    0|    0|    0|    0|    7|  204|  253|   51|    0|    0|    0|    0|    0|    0|  226|  254|   84|    0|    0|    0|    0|    0|    0|    0|    0|    0|    0|    0|    0|    0|    0|    0|   44|  240|  177|    0|    0|    0|    0|    0|    0|    0|  225|  253|   84|    0|    0|    0|    0|    0|    0|    0|    0|    0|    0|    0|    0|    0|    0|    0|    0|  159|  103|    0|    0|    0|    0|    0|    0|   67|  246|  231|   19|    0|    0|    0|    0|    0|    0|    0|    0|    0|    0|    0|    0|    0|    0|    0|    0|   10|    3|    0|    0|    0|    0|    0|    0|  134|  252|  175|    0|    0|    0|    0|    0|    0|    0|    0|    0|    0|    0|    0|    0|    0|    0|    0|    0|    0|    0|    0|    0|    0|    0|    0|   32|  229|  253|  101|    0|    0|    0|    0|    0|    0|    0|    0|    0|    0|    0|    0|    0|    0|    0|    0|    0|    0|    0|    0|    0|    0|    0|    7|  150|  252|  227|    0|    0|    0|    0|    0|    0|    0|    0|    0|    0|    0|    0|    0|    0|    0|    0|    0|    0|    0|    0|    0|    0|    0|    0|  117|  252|  252|  103|    0|    0|    0|    0|    0|    0|    0|    0|    0|    0|    0|    0|    0|    0|    0|    0|    0|    0|    0|    0|    0|    0|    0|    0|  241|  252|  214|   15|    0|    0|    0|    0|    0|    0|    0|    0|    0|    0|    0|    0|    0|    0|    0|   26|  141|  141|  178|  253|  204|  178|  141|  191|  254|  228|   53|    4|    0|    0|    0|    0|    0|    0|    0|    0|    0|    0|    0|    0|    0|   13|  144|  243|  253|  252|  252|  252|  253|  252|  252|  252|  253|  252|  252|  178|  108|   57|   38|    0|    0|    0|    0|    0|    0|    0|    0|    0|   10|  172|  252|  214|  156|   56|   56|   56|  106|  187|  252|  252|  206|  168|  196|  252|  253|  252|  234|   22|    0|    0|    0|    0|    0|    0|    0|    0|  128|  252|  177|   15|    0|    0|    0|    0|  176|  243|  252|  102|   13|    0|   10|   28|   28|   53|  139|   66|    0|    0|    0|    0|    0|    0|    0|    0|  141|  253|   56|    0|    0|    0|   10|  179|  254|  253|  194|   13|    0|    0|    0|    0|    0|    0|    0|    0|    0|    0|    0|    0|    0|    0|    0|    0|  141|  252|  149|    7|   57|   82|  197|  252|  253|  189|   19|    0|    0|    0|    0|    0|    0|    0|    0|    0|    0|    0|    0|    0|    0|    0|    0|    0|   44|  187|  252|  203|  253|  252|  252|  252|  106|   19|    0|    0|    0|    0|    0|    0|    0|    0|    0|    0|    0|    0|    0|    0|    0|    0|    0|    0|    0|   32|  177|  252|  253|  227|  139|   40|    0|    0|    0|    0|    0|    0|    0|    0|    0|    0|    0|    0|    0|    0|    0|    0|    0|    0|    0|    0|    0|    0|    0|    0|    0|    0|    0|    0|    0|    0|    0|    0|    0|    0|    0|    0|    0|    0|    0|    0|    0|    0|    0|    0|    0|    0|    0|    0|    0|    0|    0|    0|    0|    0|    0|    0|    0|    0|    0|    0|    0|    0|    0|    0|    0|    0|    0|    0|    0|    0|    0|    0|    0|    0|    0|    0|    0|    0|    0|    0|    0|    0|    0|    0|    0|    0|    0|    0|    0|    0|    0|    0|    0|    0|    0|    0|    0|    0|    0|    0|    0|    0|    0|    0|    0|    0|    0|    0|    0|    0|    0|    0|    0|    0|    0|    0|    0|    0|    0|    0|    0|    0|    0|    0|    0|    0|    0|    0|\n",
            "|  0|  0|  0|  0|  0|  0|  0|  0|  0|  0|   0|   0|   0|   0|   0|   0|   0|   0|   0|   0|   0|   0|   0|   0|   0|   0|   0|   0|   0|   0|   0|   0|   0|   0|   0|   0|   0|   0|   0|   0|   0|   0|   0|   0|   0|   0|   0|   0|   0|   0|   0|   0|   0|   0|   0|   0|   0|   0|   0|   0|   0|   0|   0|   0|   0|   0|   0|   0|   0|   0|   0|   0|   0|   0|   0|   0|   0|   0|   0|   0|   0|   0|   0|   0|   0|   0|   0|   0|   0|   0|   0|   0|   0|   0|   0|   0|   0|   0|   0|   0|    0|    0|    0|    0|    0|    0|    0|    0|    0|    0|    0|    0|    0|    0|    0|    0|    0|    0|    0|    0|    0|    0|    0|   10|   79|  141|  141|  229|  253|  242|  116|   19|    0|    0|    0|    0|    0|    0|    0|    0|    0|    0|    0|    0|    0|    0|    0|    0|    0|    0|   63|  197|  252|  253|  252|  252|  252|  253|  252|  224|  169|    0|    0|    0|    0|    0|    0|    0|    0|    0|    0|    0|    0|    0|    0|    0|    0|   10|  197|  252|  252|  253|  252|  252|  252|  253|  252|  252|  252|  185|   28|    0|    0|    0|    0|    0|    0|    0|    0|    0|    0|    0|    0|    0|    0|   29|  177|  103|  178|  253|  252|  252|  252|  253|  227|  139|  240|  253|   84|    0|    0|    0|    0|    0|    0|    0|    0|    0|    0|    0|    0|    0|    0|    0|    7|  154|  253|  255|  253|  244|  125|  114|   38|    0|  101|  255|  228|   44|    0|    0|    0|    0|    0|    0|    0|    0|    0|    0|    0|    0|    0|    0|  131|  252|  252|  222|  196|  130|    0|    0|    0|    0|    0|  253|  252|  168|    0|    0|    0|    0|    0|    0|    0|    0|    0|    0|    0|    0|    0|   23|  234|  252|  252|   25|    0|    0|    0|    0|    0|    0|    0|  128|  252|  168|    0|    0|    0|    0|    0|    0|    0|    0|    0|    0|    0|    0|    0|  179|  252|  252|  151|    0|    0|    0|    0|    0|    0|    0|    0|   29|  252|  243|   25|    0|    0|    0|    0|    0|    0|    0|    0|    0|    0|    0|   76|  254|  253|  206|   13|    0|    0|    0|    0|    0|    0|    0|  114|  104|  253|  253|   28|    0|    0|    0|    0|    0|    0|    0|    0|    0|    0|   57|  243|  253|  252|   93|    0|    0|    0|    0|    0|    0|    0|    0|   38|  253|  252|  233|   22|    0|    0|    0|    0|    0|    0|    0|    0|    0|    0|   85|  252|  253|  170|   13|    0|    0|    0|    0|    0|    0|    0|    0|    0|  253|  252|  234|   22|    0|    0|    0|    0|    0|    0|    0|    0|    0|    0|  134|  252|  253|   84|    0|    0|    0|    0|    0|    0|    0|    0|    0|  101|  253|  252|  177|    3|    0|    0|    0|    0|    0|    0|    0|    0|    0|    7|  204|  253|  239|   38|    0|    0|    0|    0|    0|    0|    0|    0|    0|  114|  254|  253|  168|    0|    0|    0|    0|    0|    0|    0|    0|    0|    0|   82|  252|  252|  125|    0|    0|    0|    0|    0|    0|    0|    0|    0|    0|  188|  253|  252|  168|    0|    0|    0|    0|    0|    0|    0|    0|    0|   10|  197|  252|  252|    0|    0|    0|    0|    0|    0|    0|    0|    0|    0|   67|  246|  253|  252|   80|    0|    0|    0|    0|    0|    0|    0|    0|    0|   29|  252|  252|  202|    0|    0|    0|    0|    0|    0|    0|    0|    0|    0|   47|  240|  253|  151|    6|    0|    0|    0|    0|    0|    0|    0|    0|    0|   29|  253|  253|  153|    0|    0|    0|    0|    0|    0|    0|    0|    0|   19|  104|  253|  254|   84|    0|    0|    0|    0|    0|    0|    0|    0|    0|    0|   10|  196|  252|  252|  169|  169|  169|  169|  169|   94|   57|  107|  169|  225|  252|  252|  209|   28|    0|    0|    0|    0|    0|    0|    0|    0|    0|    0|    0|  131|  252|  252|  253|  252|  252|  252|  253|  252|  252|  252|  253|  252|  252|  252|   25|    0|    0|    0|    0|    0|    0|    0|    0|    0|    0|    0|    0|    7|  116|  139|  253|  252|  252|  252|  253|  227|  177|  252|  140|  139|  139|   40|    0|    0|    0|    0|    0|    0|    0|    0|    0|    0|    0|    0|    0|    0|    0|    0|    0|    0|    0|    0|    0|    0|    0|    0|    0|    0|    0|    0|    0|    0|    0|    0|    0|    0|    0|    0|    0|    0|    0|    0|    0|    0|    0|    0|    0|    0|    0|    0|    0|    0|    0|    0|    0|    0|    0|    0|    0|    0|    0|    0|    0|    0|    0|    0|    0|    0|    0|    0|    0|    0|    0|    0|    0|    0|    0|    0|    0|    0|    0|    0|    0|    0|    0|    0|    0|    0|    0|    0|    0|    0|    0|    0|    0|    0|    0|    0|    0|    0|    0|    0|    0|    0|    0|    0|    0|    0|    0|    0|    0|    0|    0|    0|    0|    0|    0|    0|    0|    0|    0|    0|\n",
            "|  6|  0|  0|  0|  0|  0|  0|  0|  0|  0|   0|   0|   0|   0|   0|   0|   0|   0|   0|   0|   0|   0|   0|   0|   0|   0|   0|   0|   0|   0|   0|   0|   0|   0|   0|   0|   0|   0|   0|   0|   0|   0|   0|   0|   0|   0|   0|   0|   0|   0|   0|   0|   0|   0|   0|   0|   0|   0|   0|   0|   0|   0|   0|   0|   0|   0|   0|   0|   0|   0|   0|   2|  18| 129| 178|   0|   0|   0|   0|   0|   0|   0|   0|   0|   0|   0|   0|   0|   0|   0|   0|   0|   0|   0|   0|   0|   0|   0|   0|  41|  254|  246|   97|    0|    0|    0|    0|    0|    0|    0|    0|    0|    0|    0|    0|    0|    0|    0|    0|    0|    0|    0|    0|    0|    0|    0|   85|  218|  254|  115|    0|    0|    0|    0|    0|    0|    0|    0|    0|    0|    0|    0|    0|    0|    0|    0|    0|    0|    0|    0|    0|    0|    0|    0|  126|  254|  223|   20|    0|    0|    0|    0|    0|    0|    0|    0|    0|    0|    0|    0|    0|    0|    0|    0|    0|    0|    0|    0|    0|    0|    0|    0|  222|  246|   83|    0|    0|    0|    0|    0|    0|    0|    0|    0|    0|    0|    0|    0|    0|    0|    0|    0|    0|    0|    0|    0|    0|    0|    0|   96|  253|  181|    0|    0|    0|    0|    0|    0|    0|    0|    0|    0|    0|    0|    0|    0|    0|    0|    0|    0|    0|    0|    0|    0|    0|    0|    0|  221|  249|   58|    0|    0|    0|    0|    0|    0|    0|    0|    0|    0|    0|    0|    0|    0|    0|    0|    0|    0|    0|    0|    0|    0|    0|    0|   51|  242|  129|    0|    0|    0|    0|    0|    0|    0|    0|    0|    0|    0|    0|    0|    0|    0|    0|    0|    0|    0|    0|    0|    0|    0|    0|    0|  164|  254|  129|    0|    0|    0|    0|    0|    0|    0|    0|    0|    0|    0|    0|    0|    0|    0|    0|    0|    0|    0|    0|    0|    0|    0|    0|    0|  208|  255|   47|    0|    0|    0|    0|    0|    0|    0|    0|    0|    0|    0|    0|    0|    0|    0|    0|    0|    0|    0|    0|    0|    0|    0|    0|   56|  244|  172|    3|    0|    0|    0|    0|    0|    0|    0|    0|    0|    0|    0|    0|    0|    0|    0|    0|    0|    0|    0|    0|    0|    0|    0|    0|  117|  255|  147|    0|    0|    0|    0|    0|    0|    0|    0|    0|    0|    0|    0|    0|    0|    0|    0|    0|    0|    0|    0|    0|    0|    0|    0|   49|  249|  254|   40|    0|    0|    0|    0|    0|    0|    0|    0|    0|    0|    0|    0|    0|    0|    0|    0|    0|    0|    0|    0|    0|    0|    0|    0|   54|  255|  254|   29|    0|    0|    0|    0|    0|    0|    0|    0|    0|    0|    0|    0|    0|    0|    0|    0|    0|    0|    0|    0|    0|    0|    0|    0|   23|  217|  255|   29|    0|    3|   30|   79|    0|    0|    0|    0|    0|    0|   14|    0|    0|    0|    0|    0|    0|    0|    0|    0|    0|    0|    0|    0|    0|  168|  254|  107|   24|   68|  254|  118|    0|    0|    0|    0|    6|   70|  165|    0|    0|    0|    0|    0|    0|    0|    0|    0|    0|    0|    0|    0|    0|   72|  254|  225|  163|  254|  194|   22|    0|    0|    0|    0|  117|  254|  189|    0|    0|    0|    0|    0|    0|    0|    0|    0|    0|    0|    0|    0|    0|   15|  124|  254|  254|  254|  146|   25|    0|    0|    0|   43|  169|  198|   72|    0|    0|    0|    0|    0|    0|    0|    0|    0|    0|    0|    0|    0|    0|    0|   13|  140|  250|  254|  254|  230|  220|  220|  220|  238|  243|   70|    0|    0|    0|    0|    0|    0|    0|    0|    0|    0|    0|    0|    0|    0|    0|    0|    0|    0|   78|  254|  254|  227|  172|  154|  135|  135|   65|    0|    0|    0|    0|    0|    0|    0|    0|    0|    0|    0|    0|    0|    0|    0|    0|    0|    0|    0|    0|    0|    0|    0|    0|    0|    0|    0|    0|    0|    0|    0|    0|    0|    0|    0|    0|    0|    0|    0|    0|    0|    0|    0|    0|    0|    0|    0|    0|    0|    0|    0|    0|    0|    0|    0|    0|    0|    0|    0|    0|    0|    0|    0|    0|    0|    0|    0|    0|    0|    0|    0|    0|    0|    0|    0|    0|    0|    0|    0|    0|    0|    0|    0|    0|    0|    0|    0|    0|    0|    0|    0|    0|    0|    0|    0|    0|    0|    0|    0|    0|    0|    0|    0|    0|    0|    0|    0|    0|    0|    0|    0|    0|    0|    0|    0|    0|    0|    0|    0|    0|    0|    0|    0|    0|    0|    0|    0|    0|    0|    0|    0|    0|    0|    0|    0|    0|    0|    0|    0|    0|    0|    0|    0|    0|    0|    0|    0|    0|    0|    0|    0|    0|    0|    0|    0|    0|    0|    0|    0|    0|    0|    0|    0|    0|    0|    0|    0|    0|    0|    0|    0|    0|    0|    0|\n",
            "|  5|  0|  0|  0|  0|  0|  0|  0|  0|  0|   0|   0|   0|   0|   0|   0|   0|   0|   0|   0|   0|   0|   0|   0|   0|   0|   0|   0|   0|   0|   0|   0|   0|   0|   0|   0|   0|   0|   0|   0|   0|   0|   0|   0|   0|   0|   0|   0|   0|   0|   0|   0|   0|   0|   0|   0|   0|   0|   0|   0|   0|   0|   0|   0|   0|   0|   0|   0|   0|   0|   0|   0|   0|   0|   0|   0|   0|   0|   0|   0|   0|   0|   0|   0|   0|   0|   0|   0|   0|   0|   0|   0|   0|   0|   0|   0|   0|   0|   0|   0|    0|    0|    0|    0|    0|    0|    0|    0|    0|    0|    0|    0|    0|    0|    0|    0|    0|    0|    0|    0|    0|    0|    0|    0|    0|    0|    0|    0|    0|    0|    0|    0|    0|    0|    0|    0|    0|    0|    0|    0|    0|    0|    0|    0|    0|    0|    0|    0|    0|    0|    0|    0|    0|   36|  143|  143|   48|   34|   63|  143|  143|  143|  230|  253|  234|   52|    0|    0|    0|    0|    0|    0|    0|    0|    0|    0|    0|    0|    6|  138|  128|  246|  252|  252|  252|  253|  252|  252|  252|  252|  252|  252|  252|  175|    0|    0|    0|    0|    0|    0|    0|    0|    0|    0|    0|    0|  114|  252|  252|  252|  252|  252|  252|  253|  252|  252|  252|  252|  252|  248|  153|   59|    0|    0|    0|    0|    0|    0|    0|    0|    0|    0|    0|    9|  191|  252|  252|  252|  252|  252|  252|  231|  230|  230|  221|  121|   34|   10|    0|    0|    0|    0|    0|    0|    0|    0|    0|    0|    0|    0|    0|  124|  252|  252|  170|   88|   88|   88|   88|    0|    0|    0|    0|    0|    0|    0|    0|    0|    0|    0|    0|    0|    0|    0|    0|    0|    0|    0|   91|  243|  252|  233|   36|    0|    0|    0|    0|    0|    0|    0|    0|    0|    0|    0|    0|    0|    0|    0|    0|    0|    0|    0|    0|    0|    0|    0|  176|  252|  252|  200|    8|    0|    0|    0|    0|    0|    0|    0|    0|    0|    0|    0|    0|    0|    0|    0|    0|    0|    0|    0|    0|    0|    0|    0|  176|  252|  252|  252|  218|  102|   37|    0|    0|    0|    0|    0|    0|    0|    0|    0|    0|    0|    0|    0|    0|    0|    0|    0|    0|    0|    0|    0|  142|  252|  252|  252|  252|  252|  241|  153|   44|    0|    0|    0|    0|    0|    0|    0|    0|    0|    0|    0|    0|    0|    0|    0|    0|    0|    0|    0|    9|   76|  200|  252|  252|  252|  252|  252|  238|   97|    0|    0|    0|    0|    0|    0|    0|    0|    0|    0|    0|    0|    0|    0|    0|    0|    0|    0|    0|    0|    0|   25|  111|  163|  226|  253|  253|  255|  139|    0|    0|    0|    0|    0|    0|    0|    0|    0|    0|    0|    0|    0|    0|    0|    0|    0|    0|    0|    0|    0|    0|    0|   14|  158|  244|  253|  203|   12|    0|    0|    0|    0|    0|    0|    0|    0|    0|    0|    0|    0|    0|    0|    0|    0|    0|    0|    0|    0|    0|    0|    0|    0|  177|  253|  252|  173|    4|    0|    0|    0|    0|    0|    0|    0|    0|    0|    0|    0|    0|    0|    0|    0|    0|    0|    0|    0|    0|    0|    0|    0|   53|  253|  252|  252|   10|    0|    0|    0|    0|    0|    0|    0|    0|    0|    0|    0|    0|    0|    0|    0|    0|    0|    0|    0|    0|    0|    0|    0|    0|  253|  252|  252|   10|    0|    0|    0|    0|    0|    0|    0|    0|    0|    0|    0|    0|    0|    0|    0|    0|    0|    0|    0|    0|    0|    0|    0|    0|  253|  252|  252|   10|    0|    0|    0|    0|    0|    0|    0|    0|    0|    0|    0|    0|    0|    0|    2|  118|  188|   64|   12|   12|   12|   31|  122|  217|  253|  252|  252|   10|    0|    0|    0|    0|    0|    0|    0|    0|    0|    0|    0|    0|    0|    0|   34|  252|  252|  252|  252|  252|  252|  252|  252|  252|  253|  252|  172|    4|    0|    0|    0|    0|    0|    0|    0|    0|    0|    0|    0|    0|    0|    0|    9|  196|  252|  252|  252|  252|  252|  252|  252|  252|  253|  169|   12|    0|    0|    0|    0|    0|    0|    0|    0|    0|    0|    0|    0|    0|    0|    0|    0|   23|  124|  142|  142|  142|  243|  252|  252|  156|   81|   10|    0|    0|    0|    0|    0|    0|    0|    0|    0|    0|    0|    0|    0|    0|    0|    0|    0|    0|    0|    0|    0|    0|    0|    0|    0|    0|    0|    0|    0|    0|    0|    0|    0|    0|    0|    0|    0|    0|    0|    0|    0|    0|    0|    0|    0|    0|    0|    0|    0|    0|    0|    0|    0|    0|    0|    0|    0|    0|    0|    0|    0|    0|    0|    0|    0|    0|    0|    0|    0|    0|    0|    0|    0|    0|    0|    0|    0|    0|    0|    0|    0|    0|    0|    0|    0|    0|    0|    0|    0|    0|    0|    0|    0|    0|\n",
            "|  5|  0|  0|  0|  0|  0|  0|  0|  0|  0|   0|   0|   0|   0|   0|   0|   0|   0|   0|   0|   0|   0|   0|   0|   0|   0|   0|   0|   0|   0|   0|   0|   0|   0|   0|   0|   0|   0|   0|   0|   0|   0|   0|   0|   0|   0|   0|   0|   0|   0|   0|   0|   0|   0|   0|   0|   0|   0|   0|   0|   0|   0|   0|   0|   0|   0|   0|   0|   0|   0|   0|   0|   0|   0|   0|   0|   0|   0|   0|   0|   0|   0|   0|   0|   0|   0|   0|   0|   0|   0|   0|   0|   0|   0|   0|   0|   0|   0|   0|   0|    0|    0|    0|    0|    0|    0|    0|    0|    0|    0|    0|    0|    0|    0|    0|    0|    0|    0|    0|    0|    0|    0|    0|    0|    0|    0|  110|  109|  212|  253|  110|  109|   94|    0|    0|    0|    0|    0|    0|    0|    0|    0|    0|    0|    0|    0|    0|    0|    0|    0|    0|   63|   94|  217|  253|  252|  252|  252|  253|  252|  247|   93|    0|    0|    0|    0|    0|    0|    0|    0|    0|    0|    0|    0|    0|    0|    0|    0|   16|  222|  252|  252|  253|  252|  226|  215|  217|  215|  215|   92|    0|    0|    0|    0|    0|    0|    0|    0|    0|    0|    0|    0|    0|    0|    0|    0|  109|  252|  252|  252|  191|  108|   31|    0|    0|    0|    0|    0|    0|    0|    0|    0|    0|    0|    0|    0|    0|    0|    0|    0|    0|    0|    0|    0|   62|  237|  252|  252|    0|    0|    0|    0|    0|    0|    0|    0|    0|    0|    0|    0|    0|    0|    0|    0|    0|    0|    0|    0|    0|    0|    0|    0|   32|  227|  252|  210|    0|    0|    0|    0|    0|    0|    0|    0|    0|    0|    0|    0|    0|    0|    0|    0|    0|    0|    0|    0|    0|    0|    0|    1|  129|  252|  252|  108|    0|    0|    0|    0|    0|    0|    0|    0|    0|    0|    0|    0|    0|    0|    0|    0|    0|    0|    0|    0|    0|    0|    0|    1|  252|  252|  231|   46|    0|    0|    0|    0|    0|    0|    0|    0|    0|    0|    0|    0|    0|    0|    0|    0|    0|    0|    0|    0|    0|    0|    0|    1|  253|  253|  217|    0|    0|   94|  212|  253|  255|  211|  109|   47|    0|    0|    0|    0|    0|    0|    0|    0|    0|    0|    0|    0|    0|    0|    0|   42|  252|  252|  226|   73|  218|  247|  252|  252|  253|  252|  252|  148|    0|    0|    0|    0|    0|    0|    0|    0|    0|    0|    0|    0|    0|    0|    0|  144|  252|  252|  252|  252|  253|  252|  252|  231|  217|  247|  252|  252|  105|    0|    0|    0|    0|    0|    0|    0|    0|    0|    0|    0|    0|    0|    0|  144|  252|  252|  252|  252|  253|  252|  148|   46|    0|  134|  252|  252|  144|    0|    0|    0|    0|    0|    0|    0|    0|    0|    0|    0|    0|    0|    0|  145|  253|  253|  253|  191|   84|    0|    0|    0|    0|   73|  253|  253|  145|    0|    0|    0|    0|    0|    0|    0|    0|    0|    0|    0|    0|    0|    0|   20|   98|  179|  158|   15|    0|    0|    0|    0|    0|  115|  252|  252|  144|    0|    0|    0|    0|    0|    0|    0|    0|    0|    0|    0|    0|    0|    0|    0|    0|    0|    0|    0|    0|    0|    0|    0|   37|  222|  252|  252|  125|    0|    0|    0|    0|    0|    0|    0|    0|    0|    0|    0|    0|    0|    0|    0|    0|    0|    0|    0|    0|    0|    0|    0|  253|  252|  252|  168|    0|    0|    0|    0|    0|    0|    0|    0|    0|    0|    0|    0|    0|    0|    0|    0|    0|    0|    0|    0|    0|    0|   16|  191|  255|  253|  253|  108|    0|    0|    0|    0|    0|    0|    0|    0|    0|    0|    0|    0|    0|    0|    0|    0|    0|    0|   32|  217|  218|  217|  222|  252|  253|  252|  179|   15|    0|    0|    0|    0|    0|    0|    0|    0|    0|    0|    0|    0|    0|    0|    0|    0|    0|    0|   37|  252|  253|  252|  252|  252|  237|  174|   20|    0|    0|    0|    0|    0|    0|    0|    0|    0|    0|    0|    0|    0|    0|    0|    0|    0|    0|    0|   16|  190|  253|  252|  252|  252|   62|    0|    0|    0|    0|    0|    0|    0|    0|    0|    0|    0|    0|    0|    0|    0|    0|    0|    0|    0|    0|    0|    0|    0|    0|    0|    0|    0|    0|    0|    0|    0|    0|    0|    0|    0|    0|    0|    0|    0|    0|    0|    0|    0|    0|    0|    0|    0|    0|    0|    0|    0|    0|    0|    0|    0|    0|    0|    0|    0|    0|    0|    0|    0|    0|    0|    0|    0|    0|    0|    0|    0|    0|    0|    0|    0|    0|    0|    0|    0|    0|    0|    0|    0|    0|    0|    0|    0|    0|    0|    0|    0|    0|    0|    0|    0|    0|    0|    0|    0|    0|    0|    0|    0|    0|    0|    0|    0|    0|    0|    0|    0|    0|    0|    0|    0|    0|    0|    0|    0|    0|    0|    0|\n",
            "|  2|  0|  0|  0|  0|  0|  0|  0|  0|  0|   0|   0|   0|   0|   0|   0|   0|   0|   0|   0|   0|   0|   0|   0|   0|   0|   0|   0|   0|   0|   0|   0|   0|   0|   0|   0|   0|   0|   0|   0|   0|   0|   0|   0|   0|   0|   0|   0|   0|   0|   0|   0|   0|   0|   0|   0|   0|   0|   0|   0|   0|   0|   0|   0|   0|   0|   0|   0|   0|   0|   0|   0|   0|   0|   0|   0|   0|   0|   0|   0|   0|   0|   0|   0|   0|   0|   0|   0|   0|   0|   0|   0|   0|   0|   0|   0|   0|   0|   0|   0|    0|    0|    0|    0|    0|    0|    0|    0|    0|    0|    0|    0|    0|    0|    0|    0|    0|    0|    0|    0|    0|    0|    0|    0|    0|    0|    0|    0|    0|    0|    0|    0|    0|    0|    0|    0|    0|    0|    0|    0|    0|    0|    0|    0|    0|    0|    0|    0|    0|    0|   49|  238|  254|  254|  254|  254|  224|   35|    0|    0|    0|    0|    0|    0|    0|    0|    0|    0|    0|    0|    0|    0|    0|    0|    0|    0|    0|    0|   99|  253|  253|  253|  253|  253|  253|  222|   97|    0|    0|    0|    0|    0|    0|    0|    0|    0|    0|    0|    0|    0|    0|    0|    0|    0|  106|  112|  166|  253|  253|  253|  253|  253|  253|  253|  251|  137|    0|    0|    0|    0|    0|    0|    0|    0|    0|    0|    0|    0|    0|    0|    0|    0|  187|  253|  253|  253|  253|  253|  253|  253|  253|  253|  253|  230|   38|    0|    0|    0|    0|    0|    0|    0|    0|    0|    0|    0|    0|    0|    0|    0|   69|  246|  253|  253|  253|  253|  253|  253|  253|  253|  253|  238|   56|    0|    0|    0|    0|    0|    0|    0|    0|    0|    0|    0|    0|    0|    0|    0|    0|  150|  162|  162|  209|  237|  253|  253|  253|  253|  253|  248|   80|    0|    0|    0|    0|    0|    0|    0|    0|    0|    0|    0|    0|    0|    0|    0|    0|    0|    0|    0|   20|   58|  227|  253|  253|  253|  253|  240|   60|    0|    0|    0|    0|    0|    0|    0|    0|    0|    0|    0|    0|    0|    0|    0|    0|    0|    0|    0|    0|   79|  253|  253|  253|  253|  253|  214|    0|    0|    0|    0|    0|    0|    0|    0|    0|    0|    0|    0|    0|    0|    0|    0|    0|    0|    0|    0|    0|  116|  253|  253|  253|  253|  253|  177|    0|    0|    0|    0|    0|    0|    0|    0|    0|    0|    0|    0|    0|    0|    0|    0|    0|    0|    0|    0|   66|  243|  253|  253|  253|  253|  253|  151|    0|    0|    0|    0|    0|    0|    0|    0|    0|    0|    0|    0|    0|    0|    0|    0|    0|    0|    0|   52|  191|  253|  253|  253|  253|  253|  243|   65|    0|    0|    0|    0|    0|    0|    0|    0|    0|    0|    0|    0|    0|    0|    0|    0|    0|    0|   98|  244|  253|  253|  253|  253|  253|  253|  114|    0|    0|    0|    0|    0|    0|    0|    0|    0|    0|    0|    0|    0|    0|    0|    0|    0|    0|    0|  228|  253|  253|  253|  253|  253|  253|  253|  101|    0|    0|    0|    0|    0|    0|    0|    0|    0|    0|    0|    0|    0|    0|    0|    0|    0|    0|   71|  245|  253|  253|  253|  253|  253|  253|  253|  238|   77|    0|    0|    0|    0|    0|    0|    0|    0|    0|    0|    0|    0|    0|    0|    0|    0|    0|   92|  250|  253|  253|  253|  253|  253|  253|  253|  253|  239|  146|   13|    0|    0|    0|    0|    0|    0|    0|    0|    0|    0|    0|    0|    0|    0|    0|    0|  228|  253|  253|  253|  253|  199|  200|  253|  253|  253|  253|  193|  156|  148|    0|    0|    0|    0|    0|    0|    0|    0|    0|    0|    0|    0|    0|    0|  151|  253|  253|  253|  248|   54|   24|  201|  253|  253|  253|  253|  252|  154|    0|    0|    0|    0|    0|    0|    0|    0|    0|    0|    0|    0|    0|    0|   99|  253|  253|  253|  181|    0|    0|   23|  110|  197|  223|  110|  102|    0|    0|    0|    0|    0|    0|    0|    0|    0|    0|    0|    0|    0|    0|    0|   45|  233|  253|  253|  178|    0|    0|    0|    0|    0|    0|    0|    0|    0|    0|    0|    0|    0|    0|    0|    0|    0|    0|    0|    0|    0|    0|    0|    0|   45|  123|  190|   25|    0|    0|    0|    0|    0|    0|    0|    0|    0|    0|    0|    0|    0|    0|    0|    0|    0|    0|    0|    0|    0|    0|    0|    0|    0|    0|    0|    0|    0|    0|    0|    0|    0|    0|    0|    0|    0|    0|    0|    0|    0|    0|    0|    0|    0|    0|    0|    0|    0|    0|    0|    0|    0|    0|    0|    0|    0|    0|    0|    0|    0|    0|    0|    0|    0|    0|    0|    0|    0|    0|    0|    0|    0|    0|    0|    0|    0|    0|    0|    0|    0|    0|    0|    0|    0|    0|    0|    0|    0|    0|    0|    0|    0|    0|    0|    0|    0|    0|\n",
            "|  7|  0|  0|  0|  0|  0|  0|  0|  0|  0|   0|   0|   0|   0|   0|   0|   0|   0|   0|   0|   0|   0|   0|   0|   0|   0|   0|   0|   0|   0|   0|   0|   0|   0|   0|   0|   0|   0|   0|   0|   0|   0|   0|   0|   0|   0|   0|   0|   0|   0|   0|   0|   0|   0|   0|   0|   0|   0|   0|   0|   0|   0|   0|   0|   0|   0|   0|   0|   0|   0|   0|   0|   0|   0|   0|   0|   0|   0|   0|   0|   0|   0|   0|   0|   0|   0|   0|   0|   0|   0|   0|   0|   0|   0|   0|   0|   0|   0|   0|   0|    0|    0|    0|    0|    0|    0|    0|    0|    0|    0|    0|    0|    0|    0|    0|    0|    0|    0|    0|    0|    0|    0|    0|    0|    0|    0|    0|    0|    0|    0|    0|    0|    0|    0|    0|    0|    0|    0|    0|    0|    0|    0|    0|    0|    0|    0|    0|    0|    0|    0|    0|    0|    0|    0|    0|    0|    0|    0|    0|    0|    0|    0|    0|    0|    0|    0|    0|    0|    0|    0|    0|    0|    0|    0|    0|    0|    0|    0|    0|    0|    0|    0|    0|    0|    0|    0|    0|    0|    0|    0|    0|    0|    0|    0|    0|    0|    0|    0|    0|    0|    0|    0|    0|    0|    0|    0|    0|  152|  233|  254|  172|   92|   51|    0|    0|    0|    0|    0|    0|    0|    0|    0|    0|    0|    0|    0|    0|    0|    0|    0|    0|    0|    0|   21|  142|  253|  252|  253|  252|  253|  252|  123|    0|    0|    0|    0|    0|    0|    0|    0|    0|    0|    0|    0|    0|    0|    0|    0|    0|    0|   21|  173|  253|  254|  253|  254|  253|  254|  253|  234|  112|  152|  152|  123|    0|    0|    0|    0|    0|    0|    0|    0|    0|    0|    0|    0|    0|  123|  223|  253|  252|  253|  252|  233|  151|  151|  232|  253|  252|  253|  252|  243|   40|    0|    0|    0|    0|    0|    0|    0|    0|    0|    0|    0|    0|  173|  253|  254|  253|  224|  122|   41|    0|    0|    0|  102|  203|  254|  253|  255|  233|    0|    0|    0|    0|    0|    0|    0|    0|    0|    0|    0|    0|  131|  252|  253|  212|   20|    0|    0|    0|    0|    0|    0|   61|  253|  252|  253|  232|    0|    0|    0|    0|    0|    0|    0|    0|    0|    0|    0|    0|   21|  102|   41|    0|    0|    0|    0|    0|    0|    0|   92|  253|  254|  253|  224|   40|    0|    0|    0|    0|    0|    0|    0|    0|    0|    0|    0|    0|    0|    0|    0|    0|    0|    0|    0|    0|    0|    0|  253|  252|  253|  252|  142|    0|    0|    0|    0|    0|    0|    0|    0|    0|    0|    0|    0|    0|    0|    0|    0|    0|    0|    0|    0|    0|   11|  173|  254|  253|  254|  192|    0|    0|    0|    0|    0|    0|    0|    0|    0|    0|    0|    0|    0|    0|    0|    0|    0|    0|    0|    0|    0|    0|  132|  252|  253|  252|  172|   30|    0|    0|    0|    0|    0|    0|    0|    0|    0|    0|    0|    0|    0|    0|    0|    0|    0|    0|    0|    0|    0|   82|  254|  253|  254|  213|   41|    0|    0|    0|    0|    0|    0|    0|    0|    0|    0|    0|    0|    0|    0|    0|    0|    0|    0|    0|    0|    0|   62|  223|  253|  252|  192|   30|    0|    0|    0|    0|    0|    0|    0|    0|    0|    0|    0|    0|    0|    0|    0|    0|    0|    0|    0|    0|    0|    0|  132|  253|  254|  253|   41|    0|    0|    0|    0|    0|    0|    0|    0|    0|    0|    0|    0|    0|    0|    0|    0|    0|    0|    0|    0|    0|    0|    0|  253|  252|  253|  171|    0|    0|    0|    0|    0|    0|    0|    0|    0|    0|    0|    0|    0|    0|    0|    0|    0|    0|    0|    0|    0|    0|    0|  142|  254|  253|  224|   20|    0|    0|    0|    0|    0|    0|    0|    0|    0|    0|    0|    0|    0|    0|    0|    0|    0|    0|    0|    0|    0|    0|   21|  203|  253|  252|   40|    0|    0|    0|    0|    0|    0|    0|    0|    0|    0|    0|    0|    0|    0|    0|    0|    0|    0|    0|    0|    0|    0|    0|  152|  253|  254|  213|    0|    0|    0|    0|    0|    0|    0|    0|    0|    0|    0|    0|    0|    0|    0|    0|    0|    0|    0|    0|    0|    0|    0|    0|  233|  252|  253|   90|    0|    0|    0|    0|    0|    0|    0|    0|    0|    0|    0|    0|    0|    0|    0|    0|    0|    0|    0|    0|    0|    0|    0|    0|  214|  253|  163|   20|    0|    0|    0|    0|    0|    0|    0|    0|    0|    0|    0|    0|    0|    0|    0|    0|    0|    0|    0|    0|    0|    0|    0|    0|  213|  252|  102|    0|    0|    0|    0|    0|    0|    0|    0|    0|    0|    0|    0|    0|    0|    0|    0|    0|    0|    0|    0|    0|    0|    0|    0|    0|    0|    0|    0|    0|    0|    0|    0|    0|    0|    0|    0|    0|    0|    0|    0|    0|    0|    0|\n",
            "|  7|  0|  0|  0|  0|  0|  0|  0|  0|  0|   0|   0|   0|   0|   0|   0|   0|   0|   0|   0|   0|   0|   0|   0|   0|   0|   0|   0|   0|   0|   0|   0|   0|   0|   0|   0|   0|   0|   0|   0|   0|   0|   0|   0|   0|   0|   0|   0|   0|   0|   0|   0|   0|   0|   0|   0|   0|   0|   0|   0|   0|   0|   0|   0|   0|   0|   0|   0|   0|   0|   0|   0|   0|   0|   0|   0|   0|   0|   0|   0|   0|   0|   0|   0|   0|   0|   0|   0|   0|   0|   0|   0|   0|   0|   0|   0|   0|   0|   0|   0|    0|    0|    0|    0|    0|    0|    0|    0|    0|    0|    0|    0|    0|    0|    0|    0|    0|    0|    0|    0|    0|    0|    0|    0|    0|    0|    0|    0|    0|    0|    0|    0|    0|    0|    0|    0|    0|    0|    0|    0|    0|    0|    0|    0|    0|    0|    0|    0|    0|    0|    0|    0|    0|    0|    0|    0|    0|    0|    0|    0|    0|    0|    0|    0|    0|    0|    0|    0|    0|    0|    0|    0|    0|    0|    0|    0|    0|    0|    0|    0|    0|    0|    0|    0|    0|    3|   94|  247|  177|   72|    0|    0|    0|    0|    0|    0|    0|    0|    0|    0|    0|    0|    0|    0|    0|    0|    0|    0|    0|    0|   28|   63|  180|  226|  253|  253|  253|  243|    8|    0|    0|    0|    0|    0|    0|    0|    0|    0|    0|    0|    0|    0|    3|   97|  104|  104|  194|  197|  238|  254|  253|  253|  253|  253|  253|  249|    9|    0|    0|    0|    0|    0|    0|    0|    0|    0|    0|    0|    0|    0|  104|  253|  253|  253|  253|  253|  253|  254|  253|  253|  253|  253|  253|  106|    0|    0|    0|    0|    0|    0|    0|    0|    0|    0|    0|    0|    0|    0|  117|  253|  253|  253|  253|  253|  235|  147|  112|  187|  253|  253|  249|   61|    0|    0|    0|    0|    0|    0|    0|    0|    0|    0|    0|    0|    0|    0|   14|  221|  234|  167|  140|   95|   29|    0|   17|  222|  253|  253|  185|    0|    0|    0|    0|    0|    0|    0|    0|    0|    0|    0|    0|    0|    0|    0|    0|    0|    0|    0|    0|    0|    0|    0|   70|  253|  253|  237|   31|    0|    0|    0|    0|    0|    0|    0|    0|    0|    0|    0|    0|    0|    0|    0|    0|    0|    0|    0|    0|    0|    0|   15|  228|  253|  253|   95|    0|    0|    0|    0|    0|    0|    0|    0|    0|    0|    0|    0|    0|    0|    0|    0|    0|    0|    0|    0|    0|    0|    0|   87|  253|  253|  253|   45|   71|   56|   12|    0|    0|    0|    0|    0|    0|    0|    0|    0|    0|    0|    0|    0|   63|   95|   25|   95|   95|  174|  188|  254|  253|  253|  253|  253|  253|  253|  137|    0|    0|    0|    0|    0|    0|    0|    0|    0|    0|    0|   63|  254|  254|  254|  254|  254|  254|  254|  254|  255|  254|  254|  254|  254|  254|  254|  254|   37|    0|    0|    0|    0|    0|    0|    0|    0|    0|    0|  131|  253|  253|  253|  253|  253|  253|  253|  253|  254|  247|  215|  187|  208|  215|  215|  104|    4|    0|    0|    0|    0|    0|    0|    0|    0|    0|    0|   57|  247|  253|  244|  166|  119|   56|  154|  253|  254|  176|    0|    0|    0|    0|    0|    0|    0|    0|    0|    0|    0|    0|    0|    0|    0|    0|    0|    0|   35|   84|    6|    0|    0|   17|  227|  253|  234|   51|    0|    0|    0|    0|    0|    0|    0|    0|    0|    0|    0|    0|    0|    0|    0|    0|    0|    0|    0|    0|    0|    0|    0|  143|  253|  253|  170|    0|    0|    0|    0|    0|    0|    0|    0|    0|    0|    0|    0|    0|    0|    0|    0|    0|    0|    0|    0|    0|    0|    0|    0|  157|  253|  253|   95|    0|    0|    0|    0|    0|    0|    0|    0|    0|    0|    0|    0|    0|    0|    0|    0|    0|    0|    0|    0|    0|    0|    0|   60|  250|  253|  253|  160|    0|    0|    0|    0|    0|    0|    0|    0|    0|    0|    0|    0|    0|    0|    0|    0|    0|    0|    0|    0|    0|    0|    0|   85|  253|  253|  253|  188|    0|    0|    0|    0|    0|    0|    0|    0|    0|    0|    0|    0|    0|    0|    0|    0|    0|    0|    0|    0|    0|    0|    0|   13|  245|  253|  253|  188|    0|    0|    0|    0|    0|    0|    0|    0|    0|    0|    0|    0|    0|    0|    0|    0|    0|    0|    0|    0|    0|    0|    0|    0|  119|  169|  183|   49|    0|    0|    0|    0|    0|    0|    0|    0|    0|    0|    0|    0|    0|    0|    0|    0|    0|    0|    0|    0|    0|    0|    0|    0|    0|    0|    0|    0|    0|    0|    0|    0|    0|    0|    0|    0|    0|    0|    0|    0|    0|    0|    0|    0|    0|    0|    0|    0|    0|    0|    0|    0|    0|    0|    0|    0|    0|    0|    0|    0|    0|    0|    0|    0|    0|    0|    0|    0|    0|\n",
            "|  6|  0|  0|  0|  0|  0|  0|  0|  0|  0|   0|   0|   0|   0|   0|   0|   0|   0|   0|   0|   0|   0|   0|   0|   0|   0|   0|   0|   0|   0|   0|   0|   0|   0|   0|   0|   0|   0|   0|   0|   0|   0|   0|   0|   0|   0|   0|   0|   0|   0|   0|   0|   0|   0|   0|   0|   0|   0|   0|   0|   0|   0|   0|   0|   0|   0|   0|   7| 154|  91|   0|   0|   0|   0|   0|   0|   0|   0|   0|   0|   0|   0|   0|   0|   0|   0|   0|   0|   0|   0|   0|   0|   0|   0|   0| 131| 252| 115|   0|   0|    0|    0|    0|    0|    0|    0|    0|    0|    0|    0|    0|    0|    0|    0|    0|    0|    0|    0|    0|    0|    0|    0|   23|  234|  186|    6|    0|    0|    0|    0|    0|    0|    0|    0|    0|    0|    0|    0|    0|    0|    0|    0|    0|    0|    0|    0|    0|    0|    0|    0|   79|  252|  168|    0|    0|    0|    0|    0|    0|    0|    0|    0|    0|    0|    0|    0|    0|    0|    0|    0|    0|    0|    0|    0|    0|    0|    0|    0|  255|  253|   56|    0|    0|    0|    0|    0|    0|    0|    0|    0|    0|    0|    0|    0|    0|    0|    0|    0|    0|    0|    0|    0|    0|    0|    0|    0|  253|  214|   19|    0|    0|    0|    0|    0|    0|    0|    0|    0|    0|    0|    0|    0|    0|    0|    0|    0|    0|    0|    0|    0|    0|    0|    0|   38|  253|  158|    0|    0|    0|    0|    0|    0|    0|    0|    0|    0|    0|    0|    0|    0|    0|    0|    0|    0|    0|    0|    0|    0|    0|    0|    0|  113|  253|   84|    0|    0|    0|    0|    0|    0|    0|    0|    0|    0|    0|    0|    0|    0|    0|    0|    0|    0|    0|    0|    0|    0|    0|    0|    0|  176|  254|   84|    0|    0|    0|    0|    0|    0|    0|    0|   60|  141|   29|   29|    7|    0|    0|    0|    0|    0|    0|    0|    0|    0|    0|    0|    0|  225|  253|   84|    0|    0|    7|   57|   95|  169|  169|  169|  234|  252|  253|  252|  130|    0|    0|    0|    0|    0|    0|    0|    0|    0|    0|    0|    0|  225|  244|   56|    0|   76|  204|  252|  252|  252|  253|  252|  224|  168|  178|  252|  234|   59|    0|    0|    0|    0|    0|    0|    0|    0|    0|    0|    0|  225|  225|   26|  150|  249|  253|  227|  139|   40|   28|   28|   19|    0|    4|  103|  228|  190|    0|    0|    0|    0|    0|    0|    0|    0|    0|    0|   85|  253|  254|  253|  244|  175|    0|    0|    0|    0|    0|    0|    0|    0|    0|    0|   85|  253|    0|    0|    0|    0|    0|    0|    0|    0|    0|    0|   85|  252|  253|  240|   81|    0|    0|    0|    0|    0|    0|    0|    0|    0|    0|   13|  172|  227|    0|    0|    0|    0|    0|    0|    0|    0|    0|   19|  191|  252|  253|  196|    0|    0|    0|    0|    0|    0|    0|    0|    0|    0|   48|  123|  224|   43|    0|    0|    0|    0|    0|    0|    0|    0|   13|  194|  214|  139|  253|  246|  100|    0|    0|    0|    0|    0|    0|    0|   38|  113|  241|  227|   43|    0|    0|    0|    0|    0|    0|    0|    0|    0|  204|  209|   76|    0|   76|  244|  216|   41|    0|    0|    0|    0|    0|   19|  154|  253|  239|   38|    0|    0|    0|    0|    0|    0|    0|    0|    0|    0|  247|   65|    0|    0|    0|  144|  252|  252|  169|  169|  131|   57|  169|  225|  252|  227|   75|    0|    0|    0|    0|    0|    0|    0|    0|    0|    0|    0|  100|    0|    0|    0|    0|   13|  171|  252|  253|  252|  252|  252|  253|  252|  186|   31|    0|    0|    0|    0|    0|    0|    0|    0|    0|    0|    0|    0|    0|    0|    0|    0|    0|    0|   10|   78|  140|  215|  214|  139|  140|  115|   19|    0|    0|    0|    0|    0|    0|    0|    0|    0|    0|    0|    0|    0|    0|    0|    0|    0|    0|    0|    0|    0|    0|    0|    0|    0|    0|    0|    0|    0|    0|    0|    0|    0|    0|    0|    0|    0|    0|    0|    0|    0|    0|    0|    0|    0|    0|    0|    0|    0|    0|    0|    0|    0|    0|    0|    0|    0|    0|    0|    0|    0|    0|    0|    0|    0|    0|    0|    0|    0|    0|    0|    0|    0|    0|    0|    0|    0|    0|    0|    0|    0|    0|    0|    0|    0|    0|    0|    0|    0|    0|    0|    0|    0|    0|    0|    0|    0|    0|    0|    0|    0|    0|    0|    0|    0|    0|    0|    0|    0|    0|    0|    0|    0|    0|    0|    0|    0|    0|    0|    0|    0|    0|    0|    0|    0|    0|    0|    0|    0|    0|    0|    0|    0|    0|    0|    0|    0|    0|    0|    0|    0|    0|    0|    0|    0|    0|    0|    0|    0|    0|    0|    0|    0|    0|    0|    0|    0|    0|    0|    0|    0|    0|    0|    0|    0|    0|    0|    0|    0|    0|    0|    0|    0|    0|    0|    0|\n",
            "|  8|  0|  0|  0|  0|  0|  0|  0|  0|  0|   0|   0|   0|   0|   0|   0|   0|   0|   0|   0|   0|   0|   0|   0|   0|   0|   0|   0|   0|   0|   0|   0|   0|   0|   0|   0|   0|   0|   0|   0|   0|   0|   0|   0|   0|   0|   0|   0|   0|   0|   0|   0|   0|   0|   0|   0|   0|   0|   0|   0|   0|   0|   0|   0|   0|   0|   0|   0|   0|   0|   0|   0|   0|   0|   0|   0|   0|   0|   0|   0|   0|   0|   0|   0|   0|   0|   0|   0|   0|   0|   0|   0|   0|   0|   0|   0|   0|   0|   0|   0|    0|    0|    0|    0|    0|    0|    0|    0|    0|    0|    0|    0|    0|    0|    0|    0|    0|    0|    0|    0|    0|    0|    0|    0|    0|    0|    0|    0|    0|    0|    0|    0|    0|    0|    0|    0|    0|    0|    0|    0|    0|    0|    0|    0|    0|    0|    0|    0|    0|    0|    0|    0|    0|    0|    0|    0|    0|    0|    0|    0|    0|    0|    0|    0|    0|    0|    0|    0|    0|    0|    0|    0|    0|    0|    0|    0|    0|    0|    0|    0|   13|  153|  220|  255|  254|  197|    0|    0|    0|    0|    0|    0|    0|    0|    0|    0|    0|    0|    0|    0|    0|    0|    0|    0|    0|    0|    0|   55|  193|  253|  253|  254|  253|  213|    0|    0|    0|    0|    0|    0|    0|    0|    0|    0|    0|    0|    0|    0|    0|    0|    0|    0|    0|    0|    0|  203|  253|  234|  196|  138|  200|  213|    0|    0|    0|    0|    9|    9|    0|    0|    0|    0|    0|    0|    0|    0|    0|    0|    0|    0|    0|    0|  102|  254|  151|   13|    0|    0|   38|   96|    0|    0|   17|  134|  209|  185|    9|    0|    0|    0|    0|    0|    0|    0|    0|    0|    0|    0|    0|    7|  204|  160|    0|    0|    0|    0|    0|    0|    0|   70|  212|  254|  254|  185|    9|    0|    0|    0|    0|    0|    0|    0|    0|    0|    0|    0|    0|   24|  253|  176|    0|    0|    0|    0|    0|   38|  147|  245|  253|  248|  139|    9|    0|    0|    0|    0|    0|    0|    0|    0|    0|    0|    0|    0|    0|    5|  188|  241|   19|    0|    0|    0|  155|  245|  253|  254|  164|   42|    0|    0|    0|    0|    0|    0|    0|    0|    0|    0|    0|    0|    0|    0|    0|    0|   25|  254|   90|    0|    0|  151|  247|  210|  160|   69|    6|    0|    0|    0|    0|    0|    0|    0|    0|    0|    0|    0|    0|    0|    0|    0|    0|    0|    0|  104|  254|  136|  170|  254|  241|  101|    0|    0|    0|    0|    0|    0|    0|    0|    0|    0|    0|    0|    0|    0|    0|    0|    0|    0|    0|    0|    0|    7|  216|  253|  253|  165|   60|    0|    0|    0|    0|    0|    0|    0|    0|    0|    0|    0|    0|    0|    0|    0|    0|    0|    0|    0|    0|    0|    0|    0|   63|  253|  253|   93|    0|    0|    0|    0|    0|    0|    0|    0|    0|    0|    0|    0|    0|    0|    0|    0|    0|    0|    0|    0|    0|    0|    0|    0|  114|  253|  253|  127|    0|    0|    0|    0|    0|    0|    0|    0|    0|    0|    0|    0|    0|    0|    0|    0|    0|    0|    0|    0|    0|    0|    0|    0|  231|  113|   68|  254|  115|    0|    0|    0|    0|    0|    0|    0|    0|    0|    0|    0|    0|    0|    0|    0|    0|    0|    0|    0|    0|    0|    0|    0|  222|   38|    0|  120|  139|   26|    0|    0|    0|    0|    0|    0|    0|    0|    0|    0|    0|    0|    0|    0|    0|    0|    0|    0|    0|    0|    0|    0|  184|    0|    0|   13|  188|  133|    0|    0|    0|    0|    0|    0|    0|    0|    0|    0|    0|    0|    0|    0|    0|    0|    0|    0|    0|    0|    0|    0|  218|   34|    0|    0|  110|   42|    0|    0|    0|    0|    0|    0|    0|    0|    0|    0|    0|    0|    0|    0|    0|    0|    0|    0|    0|    0|    0|    0|  231|   46|    0|    0|  139|  138|    0|    0|    0|    0|    0|    0|    0|    0|    0|    0|    0|    0|    0|    0|    0|    0|    0|    0|    0|    0|    0|    0|  163|  159|  138|  139|  235|  137|    0|    0|    0|    0|    0|    0|    0|    0|    0|    0|    0|    0|    0|    0|    0|    0|    0|    0|    0|    0|    0|    0|   42|  249|  253|  254|  248|   92|    0|    0|    0|    0|    0|    0|    0|    0|    0|    0|    0|    0|    0|    0|    0|    0|    0|    0|    0|    0|    0|    0|    0|  140|  253|  254|  106|    0|    0|    0|    0|    0|    0|    0|    0|    0|    0|    0|    0|    0|    0|    0|    0|    0|    0|    0|    0|    0|    0|    0|    0|    0|    0|    0|    0|    0|    0|    0|    0|    0|    0|    0|    0|    0|    0|    0|    0|    0|    0|    0|    0|    0|    0|    0|    0|    0|    0|    0|    0|    0|    0|    0|    0|    0|    0|    0|    0|    0|    0|    0|    0|    0|    0|    0|    0|\n",
            "|  9|  0|  0|  0|  0|  0|  0|  0|  0|  0|   0|   0|   0|   0|   0|   0|   0|   0|   0|   0|   0|   0|   0|   0|   0|   0|   0|   0|   0|   0|   0|   0|   0|   0|   0|   0|   0|   0|   0|   0|   0|   0|   0|   0|   0|   0|   0|   0|   0|   0|   0|   0|   0|   0|   0|   0|   0|   0|   0|   0|   0|   0|   0|   0|   0|   0|   0|   0|   0|   0|   0|   0|   0|   0|   0|   0|   0|   0|   0|   0|   0|   0|   0|   0|   0|   0|   0|   0|   0|   0|   0|   0|   0|   0|   0|   0|   0|   0|   0|   0|    0|    0|    0|    0|    0|    0|    0|    0|    0|    0|    0|    0|    0|    0|    0|    0|    0|    0|    0|    0|    0|    0|    0|    0|    0|    0|    0|    0|    0|    0|    0|    0|    0|    0|    0|    0|    0|    0|    0|    0|    0|    0|    0|    0|    0|    0|    0|    0|    0|    0|    0|    0|    0|    0|    0|    0|    0|    0|    0|    0|    0|    0|    0|    0|    0|    0|    0|    0|    0|    0|    0|    0|    0|    0|    0|    0|    0|    0|    0|    0|    0|    0|    0|    0|    0|    0|    0|    0|    0|    0|    0|    0|    0|    0|    0|    0|    0|    0|    0|    0|    0|    0|    0|    0|    0|    0|    0|    0|    0|    0|   82|  214|  253|  254|   71|    0|    0|    0|    0|    0|    0|    0|    0|    0|    0|    0|    0|    0|    0|    0|    0|    0|    0|    0|    0|    0|   82|  163|  243|  253|  252|  253|  232|    0|    0|    0|    0|    0|    0|    0|    0|    0|    0|    0|    0|    0|    0|    0|    0|    0|    0|    0|    0|  113|  233|  254|  253|  203|  203|  254|  253|   62|    0|    0|    0|    0|    0|    0|    0|    0|    0|    0|    0|    0|    0|    0|    0|    0|    0|    0|    0|  253|  252|  192|   70|    0|    0|  172|  252|  102|    0|    0|    0|    0|    0|    0|    0|    0|    0|    0|    0|    0|    0|    0|    0|    0|    0|    0|  102|  254|  192|   41|    0|    0|    0|  214|  253|  123|    0|    0|    0|    0|    0|    0|    0|    0|    0|    0|    0|    0|    0|    0|    0|    0|    0|    0|  183|  253|  192|    0|    0|    0|    0|  253|  252|  162|    0|    0|    0|    0|    0|    0|    0|    0|    0|    0|    0|    0|    0|    0|    0|    0|    0|    0|  183|  254|  253|  193|  112|  132|  173|  254|  253|  102|    0|    0|    0|    0|    0|    0|    0|    0|    0|    0|    0|    0|    0|    0|    0|    0|    0|    0|   20|  253|  252|  253|  252|  253|  252|  253|  252|   61|    0|    0|    0|    0|    0|    0|    0|    0|    0|    0|    0|    0|    0|    0|    0|    0|    0|    0|    0|   21|  102|  203|  223|  183|  102|  254|  192|    0|    0|    0|    0|    0|    0|    0|    0|    0|    0|    0|    0|    0|    0|    0|    0|    0|    0|    0|    0|    0|    0|    0|   20|    0|   82|  253|  151|    0|    0|    0|    0|    0|    0|    0|    0|    0|    0|    0|    0|    0|    0|    0|    0|    0|    0|    0|    0|    0|    0|    0|    0|    0|  102|  254|   50|    0|    0|    0|    0|    0|    0|    0|    0|    0|    0|    0|    0|    0|    0|    0|    0|    0|    0|    0|    0|    0|    0|    0|    0|    0|  183|  253|   50|    0|    0|    0|    0|    0|    0|    0|    0|    0|    0|    0|    0|    0|    0|    0|    0|    0|    0|    0|    0|    0|    0|    0|    0|   51|  253|  244|   40|    0|    0|    0|    0|    0|    0|    0|    0|    0|    0|    0|    0|    0|    0|    0|    0|    0|    0|    0|    0|    0|    0|    0|    0|   51|  252|  122|    0|    0|    0|    0|    0|    0|    0|    0|    0|    0|    0|    0|    0|    0|    0|    0|    0|    0|    0|    0|    0|    0|    0|    0|    0|  113|  253|  102|    0|    0|    0|    0|    0|    0|    0|    0|    0|    0|    0|    0|    0|    0|    0|    0|    0|    0|    0|    0|    0|    0|    0|    0|    0|  152|  252|   61|    0|    0|    0|    0|    0|    0|    0|    0|    0|    0|    0|    0|    0|    0|    0|    0|    0|    0|    0|    0|    0|    0|    0|    0|   21|  255|  253|    0|    0|    0|    0|    0|    0|    0|    0|    0|    0|    0|    0|    0|    0|    0|    0|    0|    0|    0|    0|    0|    0|    0|    0|    0|  102|  253|  252|    0|    0|    0|    0|    0|    0|    0|    0|    0|    0|    0|    0|    0|    0|    0|    0|    0|    0|    0|    0|    0|    0|    0|    0|    0|  103|  255|  233|    0|    0|    0|    0|    0|    0|    0|    0|    0|    0|    0|    0|    0|    0|    0|    0|    0|    0|    0|    0|    0|    0|    0|    0|    0|  102|  213|   30|    0|    0|    0|    0|    0|    0|    0|    0|    0|    0|    0|    0|    0|    0|    0|    0|    0|    0|    0|    0|    0|    0|    0|    0|    0|    0|    0|    0|    0|    0|    0|    0|    0|    0|    0|    0|    0|    0|    0|    0|\n",
            "|  3|  0|  0|  0|  0|  0|  0|  0|  0|  0|   0|   0|   0|   0|   0|   0|   0|   0|   0|   0|   0|   0|   0|   0|   0|   0|   0|   0|   0|   0|   0|   0|   0|   0|   0|   0|   0|   0|   0|   0|   0|   0|   0|   0|   0|   0|   0|   0|   0|   0|   0|   0|   0|   0|   0|   0|   0|   0|   0|   0|   0|   0|   0|   0|   0|   0|   0|   0|   0|   0|   0|   0|   0|   0|   0|   0|   0|   0|   0|   0|   0|   0|   0|   0|   0|   0|   0|   0|   0|   0|   0|   0|   0|   0|   0|   0|   0|   0|   0|   0|    0|    0|    0|    0|    0|    0|    0|    0|    0|    0|    0|    0|    0|    0|    0|    0|    0|    0|    0|    0|    0|    0|    0|    0|    0|    0|    0|    0|    0|   62|   50|  105|  210|  253|   76|    0|    0|    0|    0|    0|    0|    0|    0|    0|    0|    0|    0|    0|    0|    0|    0|    0|    0|    0|    0|    0|   85|  234|  229|  252|  252|  252|  236|   84|    0|    0|    0|    0|    0|    0|    0|    0|    0|    0|    0|    0|    0|    0|    0|    0|    0|    0|    0|    0|  208|  252|  252|  252|  252|  252|  252|  236|   67|    0|    0|    0|    0|    0|    0|    0|    0|    0|    0|    0|    0|    0|    0|    0|    0|    0|    0|    0|  208|  252|  252|  252|  252|  252|  252|  252|  103|    0|    0|    0|    0|    0|    0|    0|    0|    0|    0|    0|    0|    0|    0|    0|    0|    0|    0|    0|   59|  225|  252|  252|  252|  252|  252|  238|   73|    0|    0|    0|    0|    0|    0|    0|    0|    0|    0|    0|    0|    0|    0|    0|    0|    0|    0|    0|    0|  164|  252|  252|  252|  252|  252|  207|    0|    0|    0|    0|    0|    0|    0|    0|    0|    0|    0|    0|    0|    0|    0|    0|   80|    0|    0|   56|  134|  210|  252|  252|  252|  252|  252|  128|    0|    0|    0|    0|    0|    0|    0|    0|    0|    0|    0|    0|    0|    0|   64|  168|  246|  238|  238|  245|  252|  252|  252|  252|  252|  252|  115|    4|    0|    0|    0|    0|    0|    0|    0|    0|    0|    0|    0|    0|    0|    0|  178|  252|  252|  252|  252|  253|  252|  252|  252|  252|  202|   59|    4|    0|    0|    0|    0|    0|    0|    0|    0|    0|    0|    0|    0|    0|    0|    0|  178|  252|  252|  252|  252|  253|  252|  252|  252|  252|   74|    0|    0|    0|    0|    0|    0|    0|    0|    0|    0|    0|    0|    0|    0|    0|    0|   45|  223|  253|  253|  253|  253|  255|  253|  253|  253|  253|   74|    0|    0|    0|    0|    0|    0|    0|    0|    0|    0|    0|    0|    0|    0|    0|    0|    0|  136|  224|  230|  192|  192|  193|  192|  231|  252|  207|   30|    0|    0|    0|    0|    0|    0|    0|    0|    0|    0|    0|    0|    0|    0|    0|    0|    0|    0|   47|   57|    0|    0|    0|    4|  169|  252|  252|  161|    0|    0|    0|    0|    0|    0|    0|    0|    0|    0|    0|    0|    0|    0|    0|    0|    0|    0|    0|    0|    0|    0|    0|   60|  252|  252|  252|   74|    0|    0|    0|    0|    0|    0|    0|    0|    0|    0|    0|    0|  224|  101|   27|    0|    0|    0|   40|   49|   40|  135|  136|  230|  252|  252|  141|    9|    0|    0|    0|    0|    0|    0|    0|    0|    0|    0|    0|    0|  253|  252|  202|  163|   47|   27|  203|  226|  191|  252|  253|  252|  250|  222|   25|    0|    0|    0|    0|    0|    0|    0|    0|    0|    0|    0|    0|    0|  253|  252|  245|  189|  252|  168|  196|  252|  252|  252|  253|  252|  157|    0|    0|    0|    0|    0|    0|    0|    0|    0|    0|    0|    0|    0|    0|    0|  253|  252|  252|  252|  252|  252|  252|  252|  252|  252|  216|  128|    5|    0|    0|    0|    0|    0|    0|    0|    0|    0|    0|    0|    0|    0|    0|    0|  227|  252|  252|  252|  252|  252|  252|  252|  217|  207|  123|    0|    0|    0|    0|    0|    0|    0|    0|    0|    0|    0|    0|    0|    0|    0|    0|    0|   43|  191|  199|  252|  120|  103|  103|  191|   24|    0|    0|    0|    0|    0|    0|    0|    0|    0|    0|    0|    0|    0|    0|    0|    0|    0|    0|    0|    0|    0|    0|    0|    0|    0|    0|    0|    0|    0|    0|    0|    0|    0|    0|    0|    0|    0|    0|    0|    0|    0|    0|    0|    0|    0|    0|    0|    0|    0|    0|    0|    0|    0|    0|    0|    0|    0|    0|    0|    0|    0|    0|    0|    0|    0|    0|    0|    0|    0|    0|    0|    0|    0|    0|    0|    0|    0|    0|    0|    0|    0|    0|    0|    0|    0|    0|    0|    0|    0|    0|    0|    0|    0|    0|    0|    0|    0|    0|    0|    0|    0|    0|    0|    0|    0|    0|    0|    0|    0|    0|    0|    0|    0|    0|    0|    0|    0|    0|    0|    0|    0|    0|    0|    0|    0|    0|    0|\n",
            "|  5|  0|  0|  0|  0|  0|  0|  0|  0|  0|   0|   0|   0|   0|   0|   0|   0|   0|   0|   0|   0|   0|   0|   0|   0|   0|   0|   0|   0|   0|   0|   0|   0|   0|   0|   0|   0|   0|   0|   0|   0|   0|   0|   0|   0|   0|   0|   0|   0|   0|   0|   0|   0|   0|   0|   0|   0|   0|   0|   0|   0|   0|   0|   0|   0|   0|   0|   0|   0|   0|   0|   0|   0|   0|   0|   0|   0|   0|   0|   0|   0|   0|   0|   0|   0|   0|   0|   0|   0|   0|   0|   0|   0|   0|   0|   0|   0|   0|   0|   0|    0|    0|    0|    0|    0|    0|    0|    0|    0|    0|    0|    0|    0|    0|    0|    0|    0|    0|    0|    0|    0|    0|    0|    0|    0|    0|    0|    0|    0|    0|    0|    0|    0|    0|    0|    0|    0|    0|    0|    0|    0|    0|    0|    0|    0|    0|    0|    0|    0|    0|    0|    0|    0|    0|    0|    0|    0|    0|    0|    7|   56|   32|  123|  254|  113|   25|    0|    0|    0|    0|    0|    0|    0|    0|    0|    0|    0|    4|   61|   60|   60|   61|   61|   60|   60|   61|  184|  212|  232|  222|  253|  253|  253|   95|    0|    0|    0|    0|    0|    0|    0|    0|    0|    0|    0|  113|  253|  253|  253|  253|  253|  253|  253|  254|  253|  253|  253|  253|  253|  253|  253|  199|    0|    0|    0|    0|    0|    0|    0|    0|    0|    0|    0|  164|  253|  253|  253|  253|  253|  253|  253|  254|  253|  253|  253|  217|  133|  133|  133|   31|    0|    0|    0|    0|    0|    0|    0|    0|    0|    0|    0|  164|  253|  253|  253|  253|  253|  253|  209|  179|  178|  178|  178|  126|    0|    0|    0|    0|    0|    0|    0|    0|    0|    0|    0|    0|    0|    0|    8|  175|  253|  253|  249|  143|   74|   74|   31|    0|    0|    0|    0|    0|    0|    0|    0|    0|    0|    0|    0|    0|    0|    0|    0|    0|    0|    0|   29|  206|  253|  253|  223|    0|    0|    0|    0|    0|    0|    0|    0|    0|    0|    0|    0|    0|    0|    0|    0|    0|    0|    0|    0|    0|    0|    0|    0|  164|  253|  253|  134|    0|    0|    0|    0|    0|    0|    0|    0|    0|    0|    0|    0|    0|    0|    0|    0|    0|    0|    0|    0|    0|    0|    0|    0|  164|  253|  253|  246|  194|   53|   38|    0|    0|    0|    0|    0|    0|    0|    0|    0|    0|    0|    0|    0|    0|    0|    0|    0|    0|    0|    0|    0|   68|  174|  253|  253|  253|  253|  235|   62|    0|    0|    0|    0|    0|    0|    0|    0|    0|    0|    0|    0|    0|    0|    0|    0|    0|    0|    0|    0|    0|    0|  133|  162|  254|  255|  254|  254|  194|   19|    0|    0|    0|    0|    0|    0|    0|    0|    0|    0|    0|    0|    0|    0|    0|    0|    0|    0|    0|    0|    0|    6|   44|  185|  239|  253|  254|  181|   57|    0|    0|    0|    0|    0|    0|    0|    0|    0|    0|    0|    0|    0|    0|    0|    0|    0|    0|    0|    0|    0|    0|    0|   69|  186|  254|  253|  239|    8|    0|    0|    0|    0|    0|    0|    0|    0|    0|    0|    0|    0|    0|    0|    0|    0|    0|    0|    0|    0|    0|    0|   22|  198|  254|  253|  253|  133|    0|    0|    0|    0|    0|    0|    0|    0|    0|    0|    0|    0|    0|    0|    0|    0|    0|    0|    0|    0|    0|   72|  195|  253|  254|  253|  249|   95|    0|    0|    0|    0|    0|    0|    0|    0|    0|    0|    0|    0|    0|    0|    0|    0|   18|    0|   27|   48|  179|  249|  253|  253|  255|  253|  220|    0|    0|    0|    0|    0|    0|    0|    0|    0|    0|    0|    0|    0|    0|    0|    0|  112|  205|  134|  240|  253|  253|  253|  253|  253|  254|  221|   42|    0|    0|    0|    0|    0|    0|    0|    0|    0|    0|    0|    0|    0|    0|    0|    0|  210|  253|  253|  253|  253|  253|  253|  253|  253|  164|   37|    0|    0|    0|    0|    0|    0|    0|    0|    0|    0|    0|    0|    0|    0|    0|    0|    0|  183|  253|  253|  253|  253|  253|  237|  208|  120|    0|    0|    0|    0|    0|    0|    0|    0|    0|    0|    0|    0|    0|    0|    0|    0|    0|    0|    0|   25|  201|  253|  253|  235|  104|   67|    0|    0|    0|    0|    0|    0|    0|    0|    0|    0|    0|    0|    0|    0|    0|    0|    0|    0|    0|    0|    0|    0|    0|    0|    0|    0|    0|    0|    0|    0|    0|    0|    0|    0|    0|    0|    0|    0|    0|    0|    0|    0|    0|    0|    0|    0|    0|    0|    0|    0|    0|    0|    0|    0|    0|    0|    0|    0|    0|    0|    0|    0|    0|    0|    0|    0|    0|    0|    0|    0|    0|    0|    0|    0|    0|    0|    0|    0|    0|    0|    0|    0|    0|    0|    0|    0|    0|    0|    0|    0|    0|    0|    0|    0|    0|    0|    0|    0|\n",
            "|  7|  0|  0|  0|  0|  0|  0|  0|  0|  0|   0|   0|   0|   0|   0|   0|   0|   0|   0|   0|   0|   0|   0|   0|   0|   0|   0|   0|   0|   0|   0|   0|   0|   0|   0|   0|   0|   0|   0|   0|   0|   0|   0|   0|   0|   0|   0|   0|   0|   0|   0|   0|   0|   0|   0|   0|   0|   0|   0|   0|   0|   0|   0|   0|   0|   0|   0|   0|   0|   0|   0|   0|   0|   0|   0|   0|   0|   0|   0|   0|   0|   0|   0|   0|   0|   0|   0|   0|   0|   0|   0|   0|   0|   0|   0|   0|   0|   0|   0|   0|    0|    0|    0|    0|    0|    0|    0|    0|    0|    0|    0|    0|    0|    0|    0|    0|    0|    0|    0|    0|    0|    0|    0|    0|    0|    0|    0|    0|    0|    0|    0|    0|    0|    0|    0|    0|    0|    0|    0|    0|    0|    0|    0|    0|    0|    0|    0|    0|    0|    0|    0|    0|    0|    0|    0|    0|    0|    0|    0|    0|    0|    0|    0|    0|    0|    0|    0|    0|    0|    0|    0|    0|    0|    0|    0|    0|    0|    0|  109|  176|    0|    0|    0|    0|    0|    0|    0|    0|    0|    0|    0|    0|    0|    0|    0|    0|    0|    0|    0|    0|    0|    0|    0|    0|    0|    0|   62|  250|   62|    0|    0|    0|    0|    0|  134|   63|    0|    0|    0|    0|    0|    0|    0|    0|    0|    0|    0|    0|    0|    0|    0|    0|    0|    0|  107|  254|  250|  106|    0|    0|    0|   85|  242|  138|    0|    0|    0|    0|    0|    0|    0|    0|    0|    0|    0|    0|    0|    0|    0|    0|    0|    0|   23|  239|  127|  245|  200|  170|  207|  251|  254|   64|    0|    0|    0|    0|    0|    0|    0|    0|    0|    0|    0|    0|    0|    0|    0|    0|    0|    0|   47|  242|    0|   32|  109|  138|  101|  126|  254|   62|    0|    0|    0|    0|    0|    0|    0|    0|    0|    0|    0|    0|    0|    0|    0|    0|    0|    0|   10|   84|    0|    0|    0|    0|    0|  146|  222|   10|    0|    0|    0|    0|    0|    0|    0|    0|    0|    0|    0|    0|    0|    0|    0|    0|    0|    0|    0|    0|    0|    0|    0|    0|   30|  238|   89|    0|    0|    0|    0|    0|    0|    0|    0|    0|    0|    0|    0|    0|    0|    0|    0|    0|    0|    0|    0|    0|    0|    0|    0|    0|  103|  254|   28|    0|    0|    0|    0|    0|    0|    0|    0|    0|    0|    0|    0|    0|    0|    0|    0|    0|    0|    0|    0|    0|    0|    0|    0|    0|  163|  180|    2|    0|    0|    0|    0|    0|    0|    0|    0|    0|    0|    0|    0|    0|    0|    0|    0|    0|    0|    0|    0|    0|    0|    0|    0|   15|  233|  108|    0|    0|    0|    0|    0|    0|    0|    0|    0|    0|    0|    0|    0|    0|    0|    0|    0|    0|    0|    0|    0|    0|    0|    0|    0|  101|  250|   28|    0|    0|    0|    0|    0|    0|    0|    0|    0|    0|    0|    0|    0|    0|    0|    0|    0|    0|    0|    0|    0|    0|    0|    0|    0|  161|  170|    0|    0|    0|    0|    0|    0|    0|    0|    0|    0|    0|    0|    0|    0|    0|    0|    0|    0|    0|    0|    0|    0|    0|    0|    0|    0|  198|  130|    0|    0|    0|    0|    0|    0|    0|    0|    0|    0|    0|    0|    0|    0|    0|    0|    0|    0|    0|    0|    0|    0|    0|    0|    0|   29|  254|  103|    0|    0|    0|    0|    0|    0|    0|    0|    0|    0|    0|    0|    0|    0|    0|    0|    0|    0|    0|    0|    0|    0|    0|    0|    0|   19|  254|   54|    0|    0|    0|    0|    0|    0|    0|    0|    0|    0|    0|    0|    0|    0|    0|    0|    0|    0|    0|    0|    0|    0|    0|    0|    0|   66|  242|   25|    0|    0|    0|    0|    0|    0|    0|    0|    0|    0|    0|    0|    0|    0|    0|    0|    0|    0|    0|    0|    0|    0|    0|    0|    0|  150|  231|    0|    0|    0|    0|    0|    0|    0|    0|    0|    0|    0|    0|    0|    0|    0|    0|    0|    0|    0|    0|    0|    0|    0|    0|    0|    0|  145|  231|    0|    0|    0|    0|    0|    0|    0|    0|    0|    0|    0|    0|    0|    0|    0|    0|    0|    0|    0|    0|    0|    0|    0|    0|    0|    0|   78|  250|  147|    0|    0|    0|    0|    0|    0|    0|    0|    0|    0|    0|    0|    0|    0|    0|    0|    0|    0|    0|    0|    0|    0|    0|    0|    0|   31|  255|  137|    0|    0|    0|    0|    0|    0|    0|    0|    0|    0|    0|    0|    0|    0|    0|    0|    0|    0|    0|    0|    0|    0|    0|    0|    0|    0|    0|    0|    0|    0|    0|    0|    0|    0|    0|    0|    0|    0|    0|    0|    0|    0|    0|    0|    0|    0|    0|    0|    0|    0|    0|    0|    0|    0|    0|    0|    0|    0|    0|    0|    0|    0|    0|    0|    0|    0|    0|    0|\n",
            "|  6|  0|  0|  0|  0|  0|  0|  0|  0|  0|   0|   0|   0|   0|   0|   0|   0|   0|   0|   0|   0|   0|   0|   0|   0|   0|   0|   0|   0|   0|   0|   0|   0|   0|   0|   0|   0|   0|   0|   0|   0|   0|   0|   0|   0|   0|   0|   0|   0|   0|   0|   0|   0|   0|   0|   0|   0|   0|   0|   0|   0|   0|   0|   0|   0|   0|   0|   0|   0|   0|   0|   0|   0|   0|   0|   0|   0|   0|   0|   0|   0|   0|   0|   0|   0|   0|   0|   0|   0|   0|   0|   0|   0|   0|   0|   0|   0|   0|   0|   0|    0|   63|  221|   92|    0|    0|    0|    0|    0|    0|    0|    0|    0|    0|    0|    0|    0|    0|    0|    0|    0|    0|    0|    0|    0|    0|    0|    0|   49|  209|  240|   62|    0|    0|    0|    0|    0|    0|    0|    0|    0|    0|    0|    0|    0|    0|    0|    0|    0|    0|    0|    0|    0|    0|    0|    0|  165|  253|   96|    0|    0|    0|    0|    0|    0|    0|    0|    0|    0|    0|    0|    0|    0|    0|    0|    0|    0|    0|    0|    0|    0|    0|    0|   80|  254|  171|   10|    0|    0|    0|    0|    0|    0|    0|    0|    0|    0|    0|    0|    0|    0|    0|    0|    0|    0|    0|    0|    0|    0|    0|   25|  222|  254|   96|    0|    0|    0|    0|    0|    0|    0|    0|    0|    0|    0|    0|    0|    0|    0|    0|    0|    0|    0|    0|    0|    0|    0|    0|   97|  253|  192|    8|    0|    0|    0|    0|    0|    0|    0|    0|    0|    0|    0|    0|    0|    0|    0|    0|    0|    0|    0|    0|    0|    0|    0|   11|  218|  251|   56|    0|    0|    0|    0|    0|    0|    0|    0|    0|    0|    0|    0|    0|    0|    0|    0|    0|    0|    0|    0|    0|    0|    0|    0|   31|  253|  167|    0|    0|    0|    0|    0|    0|    0|    0|    0|    0|    0|    0|    0|    0|    0|    0|    0|    0|    0|    0|    0|    0|    0|    0|    2|  148|  253|   37|    0|    0|    0|    0|    0|    0|    0|    0|    0|    0|    0|    0|    0|    0|    0|    0|    0|    0|    0|    0|    0|    0|    0|    0|    8|  253|  253|  209|  147|   40|    0|    0|    0|    0|    0|    0|    0|    0|    0|    0|    0|    0|    0|    0|    0|    0|    0|    0|    0|    0|    0|    0|   62|  254|  254|  254|  255|  240|   52|    0|    0|    0|    0|    0|    0|    0|    0|    0|    0|    0|    0|    0|    0|    0|    0|    0|    0|    0|    0|    0|   99|  253|  253|  201|   84|  213|  201|    4|    0|    0|    0|    0|    0|    0|    0|    0|    0|    0|    0|    0|    0|    0|    0|    0|    0|    0|    0|    0|  161|  235|   44|   12|    0|  124|  253|   29|    0|    0|    0|    0|    0|    0|    0|    0|    0|    0|    0|    0|    0|    0|    0|    0|    0|    0|    0|    0|  236|  222|    0|    0|    0|  174|  249|   56|    0|    0|    0|    0|    0|    0|    0|    0|    0|    0|    0|    0|    0|    0|    0|    0|    0|    0|    0|    0|  238|  187|    0|    0|   53|  240|  184|    0|    0|    0|    0|    0|    0|    0|    0|    0|    0|    0|    0|    0|    0|    0|    0|    0|    0|    0|    0|    0|  238|  192|    0|    0|  161|  253|  119|    0|    0|    0|    0|    0|    0|    0|    0|    0|    0|    0|    0|    0|    0|    0|    0|    0|    0|    0|    0|    0|  238|  171|    0|   52|  254|  235|   48|    0|    0|    0|    0|    0|    0|    0|    0|    0|    0|    0|    0|    0|    0|    0|    0|    0|    0|    0|    0|    0|  238|  175|   49|  226|  251|   91|    0|    0|    0|    0|    0|    0|    0|    0|    0|    0|    0|    0|    0|    0|    0|    0|    0|    0|    0|    0|    0|    0|  222|  247|  231|  253|  191|    0|    0|    0|    0|    0|    0|    0|    0|    0|    0|    0|    0|    0|    0|    0|    0|    0|    0|    0|    0|    0|    0|    0|   69|  253|  237|  153|   37|    0|    0|    0|    0|    0|    0|    0|    0|    0|    0|    0|    0|    0|    0|    0|    0|    0|    0|    0|    0|    0|    0|    0|    0|    0|    0|    0|    0|    0|    0|    0|    0|    0|    0|    0|    0|    0|    0|    0|    0|    0|    0|    0|    0|    0|    0|    0|    0|    0|    0|    0|    0|    0|    0|    0|    0|    0|    0|    0|    0|    0|    0|    0|    0|    0|    0|    0|    0|    0|    0|    0|    0|    0|    0|    0|    0|    0|    0|    0|    0|    0|    0|    0|    0|    0|    0|    0|    0|    0|    0|    0|    0|    0|    0|    0|    0|    0|    0|    0|    0|    0|    0|    0|    0|    0|    0|    0|    0|    0|    0|    0|    0|    0|    0|    0|    0|    0|    0|    0|    0|    0|    0|    0|    0|    0|    0|    0|    0|    0|    0|    0|    0|    0|    0|    0|    0|    0|    0|    0|    0|    0|    0|    0|    0|    0|    0|    0|    0|    0|    0|    0|    0|\n",
            "+---+---+---+---+---+---+---+---+---+---+----+----+----+----+----+----+----+----+----+----+----+----+----+----+----+----+----+----+----+----+----+----+----+----+----+----+----+----+----+----+----+----+----+----+----+----+----+----+----+----+----+----+----+----+----+----+----+----+----+----+----+----+----+----+----+----+----+----+----+----+----+----+----+----+----+----+----+----+----+----+----+----+----+----+----+----+----+----+----+----+----+----+----+----+----+----+----+----+----+----+-----+-----+-----+-----+-----+-----+-----+-----+-----+-----+-----+-----+-----+-----+-----+-----+-----+-----+-----+-----+-----+-----+-----+-----+-----+-----+-----+-----+-----+-----+-----+-----+-----+-----+-----+-----+-----+-----+-----+-----+-----+-----+-----+-----+-----+-----+-----+-----+-----+-----+-----+-----+-----+-----+-----+-----+-----+-----+-----+-----+-----+-----+-----+-----+-----+-----+-----+-----+-----+-----+-----+-----+-----+-----+-----+-----+-----+-----+-----+-----+-----+-----+-----+-----+-----+-----+-----+-----+-----+-----+-----+-----+-----+-----+-----+-----+-----+-----+-----+-----+-----+-----+-----+-----+-----+-----+-----+-----+-----+-----+-----+-----+-----+-----+-----+-----+-----+-----+-----+-----+-----+-----+-----+-----+-----+-----+-----+-----+-----+-----+-----+-----+-----+-----+-----+-----+-----+-----+-----+-----+-----+-----+-----+-----+-----+-----+-----+-----+-----+-----+-----+-----+-----+-----+-----+-----+-----+-----+-----+-----+-----+-----+-----+-----+-----+-----+-----+-----+-----+-----+-----+-----+-----+-----+-----+-----+-----+-----+-----+-----+-----+-----+-----+-----+-----+-----+-----+-----+-----+-----+-----+-----+-----+-----+-----+-----+-----+-----+-----+-----+-----+-----+-----+-----+-----+-----+-----+-----+-----+-----+-----+-----+-----+-----+-----+-----+-----+-----+-----+-----+-----+-----+-----+-----+-----+-----+-----+-----+-----+-----+-----+-----+-----+-----+-----+-----+-----+-----+-----+-----+-----+-----+-----+-----+-----+-----+-----+-----+-----+-----+-----+-----+-----+-----+-----+-----+-----+-----+-----+-----+-----+-----+-----+-----+-----+-----+-----+-----+-----+-----+-----+-----+-----+-----+-----+-----+-----+-----+-----+-----+-----+-----+-----+-----+-----+-----+-----+-----+-----+-----+-----+-----+-----+-----+-----+-----+-----+-----+-----+-----+-----+-----+-----+-----+-----+-----+-----+-----+-----+-----+-----+-----+-----+-----+-----+-----+-----+-----+-----+-----+-----+-----+-----+-----+-----+-----+-----+-----+-----+-----+-----+-----+-----+-----+-----+-----+-----+-----+-----+-----+-----+-----+-----+-----+-----+-----+-----+-----+-----+-----+-----+-----+-----+-----+-----+-----+-----+-----+-----+-----+-----+-----+-----+-----+-----+-----+-----+-----+-----+-----+-----+-----+-----+-----+-----+-----+-----+-----+-----+-----+-----+-----+-----+-----+-----+-----+-----+-----+-----+-----+-----+-----+-----+-----+-----+-----+-----+-----+-----+-----+-----+-----+-----+-----+-----+-----+-----+-----+-----+-----+-----+-----+-----+-----+-----+-----+-----+-----+-----+-----+-----+-----+-----+-----+-----+-----+-----+-----+-----+-----+-----+-----+-----+-----+-----+-----+-----+-----+-----+-----+-----+-----+-----+-----+-----+-----+-----+-----+-----+-----+-----+-----+-----+-----+-----+-----+-----+-----+-----+-----+-----+-----+-----+-----+-----+-----+-----+-----+-----+-----+-----+-----+-----+-----+-----+-----+-----+-----+-----+-----+-----+-----+-----+-----+-----+-----+-----+-----+-----+-----+-----+-----+-----+-----+-----+-----+-----+-----+-----+-----+-----+-----+-----+-----+-----+-----+-----+-----+-----+-----+-----+-----+-----+-----+-----+-----+-----+-----+-----+-----+-----+-----+-----+-----+-----+-----+-----+-----+-----+-----+-----+-----+-----+-----+-----+-----+-----+-----+-----+-----+-----+-----+-----+-----+-----+-----+-----+-----+-----+-----+-----+-----+-----+-----+-----+-----+-----+-----+-----+-----+-----+-----+-----+-----+-----+-----+-----+-----+-----+-----+-----+-----+-----+-----+-----+-----+-----+-----+-----+-----+-----+-----+-----+-----+-----+-----+-----+-----+-----+-----+-----+-----+-----+-----+-----+-----+-----+-----+-----+-----+-----+-----+-----+-----+-----+-----+-----+-----+-----+-----+-----+-----+-----+-----+-----+-----+-----+-----+-----+-----+-----+-----+-----+-----+-----+-----+-----+-----+-----+-----+-----+-----+-----+-----+-----+-----+-----+-----+-----+-----+-----+-----+-----+-----+-----+-----+-----+-----+-----+-----+-----+-----+-----+-----+-----+-----+-----+-----+-----+-----+-----+-----+-----+-----+-----+-----+-----+-----+-----+-----+-----+-----+-----+-----+-----+-----+-----+-----+-----+-----+-----+-----+-----+-----+-----+\n",
            "only showing top 20 rows\n",
            "\n"
          ]
        }
      ]
    },
    {
      "cell_type": "code",
      "source": [
        "df.count()"
      ],
      "metadata": {
        "colab": {
          "base_uri": "https://localhost:8080/"
        },
        "id": "9tn_3FzhzJxy",
        "outputId": "cf2b568c-99c2-46cc-e61c-c12c894299ec"
      },
      "execution_count": null,
      "outputs": [
        {
          "output_type": "execute_result",
          "data": {
            "text/plain": [
              "20000"
            ]
          },
          "metadata": {},
          "execution_count": 23
        }
      ]
    },
    {
      "cell_type": "code",
      "source": [
        "from pyspark.sql.functions import col, array\n",
        "from pyspark.ml.linalg import Vectors\n",
        "\n",
        "df = df.rdd.map(lambda x: (x[0], Vectors.dense([float(it) for it in x[1:]])))\\\n",
        "           .toDF() \\\n",
        "           .select(col('_1').alias('label'), col('_2').alias('features'))\n",
        "df.show()"
      ],
      "metadata": {
        "id": "izm7oRBV-lkP",
        "colab": {
          "base_uri": "https://localhost:8080/"
        },
        "outputId": "5b24017b-8a17-4a35-fee2-4d1b876a94b6"
      },
      "execution_count": null,
      "outputs": [
        {
          "output_type": "stream",
          "name": "stdout",
          "text": [
            "+-----+--------------------+\n",
            "|label|            features|\n",
            "+-----+--------------------+\n",
            "|    6|[0.0,0.0,0.0,0.0,...|\n",
            "|    5|[0.0,0.0,0.0,0.0,...|\n",
            "|    7|[0.0,0.0,0.0,0.0,...|\n",
            "|    9|[0.0,0.0,0.0,0.0,...|\n",
            "|    5|[0.0,0.0,0.0,0.0,...|\n",
            "|    2|[0.0,0.0,0.0,0.0,...|\n",
            "|    0|[0.0,0.0,0.0,0.0,...|\n",
            "|    6|[0.0,0.0,0.0,0.0,...|\n",
            "|    5|[0.0,0.0,0.0,0.0,...|\n",
            "|    5|[0.0,0.0,0.0,0.0,...|\n",
            "|    2|[0.0,0.0,0.0,0.0,...|\n",
            "|    7|[0.0,0.0,0.0,0.0,...|\n",
            "|    7|[0.0,0.0,0.0,0.0,...|\n",
            "|    6|[0.0,0.0,0.0,0.0,...|\n",
            "|    8|[0.0,0.0,0.0,0.0,...|\n",
            "|    9|[0.0,0.0,0.0,0.0,...|\n",
            "|    3|[0.0,0.0,0.0,0.0,...|\n",
            "|    5|[0.0,0.0,0.0,0.0,...|\n",
            "|    7|[0.0,0.0,0.0,0.0,...|\n",
            "|    6|[0.0,0.0,0.0,0.0,...|\n",
            "+-----+--------------------+\n",
            "only showing top 20 rows\n",
            "\n"
          ]
        }
      ]
    },
    {
      "cell_type": "code",
      "source": [
        "from pyspark.ml.clustering import KMeans, KMeansModel\n",
        "\n",
        "kmeans = KMeans(k=10)\n",
        "kmeans.setMaxIter(10)"
      ],
      "metadata": {
        "id": "2GmBdcDN-B_7",
        "colab": {
          "base_uri": "https://localhost:8080/"
        },
        "outputId": "f9dfa9b3-8d2c-45de-e803-dcd8a9f91918"
      },
      "execution_count": null,
      "outputs": [
        {
          "output_type": "execute_result",
          "data": {
            "text/plain": [
              "KMeans_be03da002f10"
            ]
          },
          "metadata": {},
          "execution_count": 26
        }
      ]
    },
    {
      "cell_type": "code",
      "source": [
        "df.printSchema()"
      ],
      "metadata": {
        "id": "q46t4Hl4DT4F",
        "colab": {
          "base_uri": "https://localhost:8080/"
        },
        "outputId": "1a6de76b-b3ae-4e7b-8d06-8f61b8fcfcf2"
      },
      "execution_count": null,
      "outputs": [
        {
          "output_type": "stream",
          "name": "stdout",
          "text": [
            "root\n",
            " |-- label: string (nullable = true)\n",
            " |-- features: vector (nullable = true)\n",
            "\n"
          ]
        }
      ]
    },
    {
      "cell_type": "code",
      "source": [
        "model = kmeans.fit(df)"
      ],
      "metadata": {
        "id": "jUsb9kDa_1Fb"
      },
      "execution_count": null,
      "outputs": []
    },
    {
      "cell_type": "code",
      "source": [
        "model.setPredictionCol('prediction')\n",
        "transformed = model.transform(df)\n",
        "transformed.show()"
      ],
      "metadata": {
        "id": "Fxg_RAt-IJ-n",
        "colab": {
          "base_uri": "https://localhost:8080/"
        },
        "outputId": "5bff097d-4c48-4330-91ac-d578c53dfaa6"
      },
      "execution_count": null,
      "outputs": [
        {
          "output_type": "stream",
          "name": "stdout",
          "text": [
            "+-----+--------------------+----------+\n",
            "|label|            features|prediction|\n",
            "+-----+--------------------+----------+\n",
            "|    6|[0.0,0.0,0.0,0.0,...|         5|\n",
            "|    5|[0.0,0.0,0.0,0.0,...|         0|\n",
            "|    7|[0.0,0.0,0.0,0.0,...|         3|\n",
            "|    9|[0.0,0.0,0.0,0.0,...|         4|\n",
            "|    5|[0.0,0.0,0.0,0.0,...|         1|\n",
            "|    2|[0.0,0.0,0.0,0.0,...|         7|\n",
            "|    0|[0.0,0.0,0.0,0.0,...|         3|\n",
            "|    6|[0.0,0.0,0.0,0.0,...|         2|\n",
            "|    5|[0.0,0.0,0.0,0.0,...|         0|\n",
            "|    5|[0.0,0.0,0.0,0.0,...|         6|\n",
            "|    2|[0.0,0.0,0.0,0.0,...|         6|\n",
            "|    7|[0.0,0.0,0.0,0.0,...|         9|\n",
            "|    7|[0.0,0.0,0.0,0.0,...|         9|\n",
            "|    6|[0.0,0.0,0.0,0.0,...|         2|\n",
            "|    8|[0.0,0.0,0.0,0.0,...|         4|\n",
            "|    9|[0.0,0.0,0.0,0.0,...|         4|\n",
            "|    3|[0.0,0.0,0.0,0.0,...|         7|\n",
            "|    5|[0.0,0.0,0.0,0.0,...|         0|\n",
            "|    7|[0.0,0.0,0.0,0.0,...|         2|\n",
            "|    6|[0.0,0.0,0.0,0.0,...|         2|\n",
            "+-----+--------------------+----------+\n",
            "only showing top 20 rows\n",
            "\n"
          ]
        }
      ]
    },
    {
      "cell_type": "markdown",
      "source": [
        "# Hướng dẫn bài tập"
      ],
      "metadata": {
        "id": "f2ZkMoAiEJJ2"
      }
    },
    {
      "cell_type": "markdown",
      "source": [
        "## Submission 04a"
      ],
      "metadata": {
        "id": "Z1LMjJadEMCH"
      }
    },
    {
      "cell_type": "code",
      "source": [
        "!pwd"
      ],
      "metadata": {
        "colab": {
          "base_uri": "https://localhost:8080/"
        },
        "id": "MKxoMndgEOs-",
        "outputId": "a2078cf2-d62a-4772-8477-22479895f6ee"
      },
      "execution_count": null,
      "outputs": [
        {
          "output_type": "stream",
          "name": "stdout",
          "text": [
            "/content\n"
          ]
        }
      ]
    },
    {
      "cell_type": "code",
      "source": [
        "from pyspark import SparkContext\n",
        "\n",
        "sc = SparkContext(\"local\", \"4a\")"
      ],
      "metadata": {
        "id": "zonJyZYWEqs7"
      },
      "execution_count": null,
      "outputs": []
    },
    {
      "cell_type": "code",
      "source": [
        "sc = SparkContext.getOrCreate(\"local\")"
      ],
      "metadata": {
        "id": "dQR2D1QjFBXN"
      },
      "execution_count": null,
      "outputs": []
    },
    {
      "cell_type": "code",
      "source": [
        "data = sc.textFile('/content/WHO-COVID-19-global.tsv')"
      ],
      "metadata": {
        "id": "d4qIvpTVFKsO"
      },
      "execution_count": null,
      "outputs": []
    },
    {
      "cell_type": "code",
      "source": [
        "def preprocessLine(x):\n",
        "  items = x.strip().split('\\t')[1:]\n",
        "  region = items[0]\n",
        "  values = [float(it) for it in items[1:]]\n",
        "  return (region, values)\n",
        "\n",
        "import numpy as np\n",
        "def sumAll(x, y):\n",
        "  x = np.array(x)\n",
        "  y = np.array(y)\n",
        "  return list(x + y)\n",
        "\n",
        "!rm -rf result/\n",
        "data.map(preprocessLine) \\\n",
        "    .reduceByKey(sumAll) \\\n",
        "    .saveAsTextFile('result')"
      ],
      "metadata": {
        "id": "VvGH2B1GFfX-"
      },
      "execution_count": null,
      "outputs": []
    },
    {
      "cell_type": "code",
      "source": [
        "import numpy as np\n",
        "\n",
        "a = np.array([1, 2])\n",
        "b = np.array([2, 3])\n",
        "print(a+b)"
      ],
      "metadata": {
        "id": "Yb-zo_PUKMwu"
      },
      "execution_count": null,
      "outputs": []
    },
    {
      "cell_type": "markdown",
      "source": [
        "## Submission 04b"
      ],
      "metadata": {
        "id": "DIeup1DYML6g"
      }
    },
    {
      "cell_type": "code",
      "source": [
        "from pyspark import SparkContext\n",
        "from pyspark.sql import SQLContext\n",
        "\n",
        "sc = SparkContext.getOrCreate('local')\n",
        "sqlc = SQLContext(sc)"
      ],
      "metadata": {
        "id": "VvsG8C_QMQBn"
      },
      "execution_count": null,
      "outputs": []
    },
    {
      "cell_type": "code",
      "source": [
        "df = sqlc.read.option(\"header\", True) \\\n",
        "  .option(\"delimiter\", \",\") \\\n",
        "  .option(\"inferSchema\", True) \\\n",
        "  .csv('/content/WHO-COVID-19-global.csv')\n",
        "\n",
        "df.show()"
      ],
      "metadata": {
        "colab": {
          "base_uri": "https://localhost:8080/"
        },
        "id": "ELAO9tOpMlXI",
        "outputId": "fa5c5687-1cf5-4bd8-9d9a-f0e1f333c426"
      },
      "execution_count": null,
      "outputs": [
        {
          "output_type": "stream",
          "name": "stdout",
          "text": [
            "+--------------------+--------------------+------------------------+----------------------------------------------+-------------------------------------+-----------------------------------------------------------+---------------------------------------+-------------------------+-----------------------------------------------+--------------------------------------+------------------------------------------------------------+----------------------------------------+\n",
            "|                Name|          WHO Region|Cases - cumulative total|Cases - cumulative total per 100000 population|Cases - newly reported in last 7 days|Cases - newly reported in last 7 days per 100000 population|Cases - newly reported in last 24 hours|Deaths - cumulative total|Deaths - cumulative total per 100000 population|Deaths - newly reported in last 7 days|Deaths - newly reported in last 7 days per 100000 population|Deaths - newly reported in last 24 hours|\n",
            "+--------------------+--------------------+------------------------+----------------------------------------------+-------------------------------------+-----------------------------------------------------------+---------------------------------------+-------------------------+-----------------------------------------------+--------------------------------------+------------------------------------------------------------+----------------------------------------+\n",
            "|United States of ...|            Americas|                93580725|                                     28271.896|                               476675|                                                    144.009|                                  25686|                  1036949|                                        313.275|                                  2423|                                                       0.732|                                      67|\n",
            "|               India|     South-East Asia|                44472241|                                      3222.616|                                43848|                                                      3.177|                                   5379|                   528057|                                         38.265|                                   183|                                                       0.013|                                      27|\n",
            "|              Brazil|            Americas|                34477539|                                     16220.189|                                80334|                                                     37.794|                                      0|                   684425|                                        321.992|                                   803|                                                       0.378|                                       0|\n",
            "|              France|              Europe|                33599863|                                     51660.815|                               105883|                                                    162.798|                                  26918|                   150804|                                        231.866|                                   281|                                                       0.432|                                      60|\n",
            "|             Germany|              Europe|                32344032|                                     38890.599|                               181064|                                                    217.712|                                  33311|                   147981|                                        177.933|                                    45|                                                       0.054|                                       4|\n",
            "|   Republic of Korea|     Western Pacific|                23791961|                                     46405.967|                               545637|                                                   1064.259|                                  85540|                    27249|                                         53.149|                                   485|                                                       0.946|                                      56|\n",
            "|  The United Kingdom|              Europe|                23522244|                                     34649.622|                                 2853|                                                      4.203|                                      0|                   188242|                                        277.291|                                     0|                                                         0.0|                                       0|\n",
            "|               Italy|              Europe|                21969725|                                     36836.313|                               123782|                                                    207.543|                                  24848|                   175952|                                        295.016|                                   447|                                                       0.749|                                      80|\n",
            "|  Russian Federation|              Europe|                19857571|                                     13607.184|                               328602|                                                    225.171|                                  47958|                   384976|                                        263.801|                                   630|                                                       0.432|                                      94|\n",
            "|               Japan|     Western Pacific|                19635246|                                     15524.822|                               863242|                                                    682.532|                                 100729|                    41575|                                         32.872|                                  2011|                                                        1.59|                                     282|\n",
            "|             Türkiye|              Europe|                16797750|                                     19916.927|                                    0|                                                        0.0|                                      0|                   100840|                                        119.565|                                     0|                                                         0.0|                                       0|\n",
            "|               Spain|              Europe|                13358722|                                     28223.081|                                16192|                                                     34.209|                                   6703|                   112903|                                        238.531|                                   303|                                                        0.64|                                      99|\n",
            "|            Viet Nam|     Western Pacific|                11424754|                                     11737.128|                                15802|                                                     16.234|                                   3699|                    43123|                                         44.302|                                     6|                                                       0.006|                                       1|\n",
            "|           Australia|     Western Pacific|                10084917|                                     39548.874|                                67015|                                                    262.805|                                   9251|                    14152|                                         55.498|                                   318|                                                       1.247|                                      75|\n",
            "|           Argentina|            Americas|                 9689861|                                      21439.75|                                11636|                                                     25.746|                                      0|                   129769|                                        287.126|                                    58|                                                       0.128|                                       0|\n",
            "|         Netherlands|              Europe|                 8392953|                                     48214.344|                                 7856|                                                      45.13|                                   1453|                    22609|                                         129.88|                                    10|                                                       0.057|                                       4|\n",
            "|Iran (Islamic Rep...|Eastern Mediterra...|                 7535272|                                      8971.315|                                 7773|                                                      9.254|                                   1090|                   144048|                                          171.5|                                   228|                                                       0.271|                                      29|\n",
            "|              Mexico|            Americas|                 7041181|                                      5461.127|                                 7299|                                                      5.661|                                      0|                   329622|                                        255.654|                                    54|                                                       0.042|                                       0|\n",
            "|               China|     Western Pacific|                 6655733|                                       452.375|                               254259|                                                     17.281|                                  39674|                    25088|                                          1.705|                                   282|                                                       0.019|                                      30|\n",
            "|           Indonesia|     South-East Asia|                 6382002|                                      2333.254|                                23194|                                                       8.48|                                   3513|                   157717|                                         57.661|                                   151|                                                       0.055|                                      21|\n",
            "+--------------------+--------------------+------------------------+----------------------------------------------+-------------------------------------+-----------------------------------------------------------+---------------------------------------+-------------------------+-----------------------------------------------+--------------------------------------+------------------------------------------------------------+----------------------------------------+\n",
            "only showing top 20 rows\n",
            "\n"
          ]
        }
      ]
    },
    {
      "cell_type": "code",
      "source": [
        "df.printSchema()"
      ],
      "metadata": {
        "colab": {
          "base_uri": "https://localhost:8080/"
        },
        "id": "RNEx5_jWNEex",
        "outputId": "0f779978-6e64-482b-9468-b40ebc074461"
      },
      "execution_count": null,
      "outputs": [
        {
          "output_type": "stream",
          "name": "stdout",
          "text": [
            "root\n",
            " |-- Name: string (nullable = true)\n",
            " |-- WHO Region: string (nullable = true)\n",
            " |-- Cases - cumulative total: integer (nullable = true)\n",
            " |-- Cases - cumulative total per 100000 population: double (nullable = true)\n",
            " |-- Cases - newly reported in last 7 days: integer (nullable = true)\n",
            " |-- Cases - newly reported in last 7 days per 100000 population: double (nullable = true)\n",
            " |-- Cases - newly reported in last 24 hours: integer (nullable = true)\n",
            " |-- Deaths - cumulative total: integer (nullable = true)\n",
            " |-- Deaths - cumulative total per 100000 population: double (nullable = true)\n",
            " |-- Deaths - newly reported in last 7 days: integer (nullable = true)\n",
            " |-- Deaths - newly reported in last 7 days per 100000 population: double (nullable = true)\n",
            " |-- Deaths - newly reported in last 24 hours: integer (nullable = true)\n",
            "\n"
          ]
        }
      ]
    },
    {
      "cell_type": "code",
      "source": [
        "dfResutl = df.groupBy('WHO Region') \\\n",
        "             .sum('Cases - cumulative total') \\\n",
        "             .show()"
      ],
      "metadata": {
        "colab": {
          "base_uri": "https://localhost:8080/"
        },
        "id": "cbdSHFWMOa5c",
        "outputId": "000dda6d-5b9f-4c7d-ca43-389b10409dd8"
      },
      "execution_count": null,
      "outputs": [
        {
          "output_type": "stream",
          "name": "stdout",
          "text": [
            "+--------------------+-----------------------------+\n",
            "|          WHO Region|sum(Cases - cumulative total)|\n",
            "+--------------------+-----------------------------+\n",
            "|              Europe|                    249105808|\n",
            "|     Western Pacific|                     85868508|\n",
            "|              Africa|                      9298893|\n",
            "|Eastern Mediterra...|                     23011442|\n",
            "|               Other|                          764|\n",
            "|            Americas|                    176342137|\n",
            "|     South-East Asia|                     60084208|\n",
            "+--------------------+-----------------------------+\n",
            "\n"
          ]
        }
      ]
    },
    {
      "cell_type": "markdown",
      "source": [
        "## Submission 05"
      ],
      "metadata": {
        "id": "-PjviSxCGWBe"
      }
    },
    {
      "cell_type": "code",
      "source": [
        "df = sqlc.read.csv('/content/data.csv',\n",
        "                   sep=';', header=True) \\\n",
        "               .select('BillNo', 'Itemname') \\\n",
        "               .rdd \\\n",
        "               .groupByKey() \\\n",
        "               .map(lambda x: (x[0], ','.join([str(it) for it in x[1]]))) \\\n",
        "               .toDF() \\\n",
        "               .withColumnRenamed('_1', 'BillNo') \\\n",
        "               .withColumnRenamed('_2', 'ItemList')\n",
        "\n",
        "df.show()"
      ],
      "metadata": {
        "id": "khdLd4uK85MA",
        "colab": {
          "base_uri": "https://localhost:8080/"
        },
        "outputId": "76c69eb1-55c2-4b56-9f85-719f3c2dc435"
      },
      "execution_count": null,
      "outputs": [
        {
          "output_type": "stream",
          "name": "stdout",
          "text": [
            "+------+--------------------+\n",
            "|BillNo|            ItemList|\n",
            "+------+--------------------+\n",
            "|536365|WHITE HANGING HEA...|\n",
            "|536366|HAND WARMER UNION...|\n",
            "|536367|ASSORTED COLOUR B...|\n",
            "|536368|JAM MAKING SET WI...|\n",
            "|536369|BATH BUILDING BLO...|\n",
            "|536370|ALARM CLOCK BAKEL...|\n",
            "|536371|PAPER CHAIN KIT 5...|\n",
            "|536372|HAND WARMER RED P...|\n",
            "|536373|WHITE HANGING HEA...|\n",
            "|536374|VICTORIAN SEWING ...|\n",
            "|536375|WHITE HANGING HEA...|\n",
            "|536376|HOT WATER BOTTLE ...|\n",
            "|536377|HAND WARMER RED P...|\n",
            "|536378|JUMBO BAG PINK PO...|\n",
            "|536380|JAM MAKING SET PR...|\n",
            "|536381|RETROSPOT TEA SET...|\n",
            "|536382|INFLATABLE POLITI...|\n",
            "|536384|WOOD BLACK BOARD ...|\n",
            "|536385|SET 3 WICKER OVAL...|\n",
            "|536386|WHITE WIRE EGG HO...|\n",
            "+------+--------------------+\n",
            "only showing top 20 rows\n",
            "\n"
          ]
        }
      ]
    },
    {
      "cell_type": "markdown",
      "source": [
        "# Gợi ý cho đồ án giữa kỳ"
      ],
      "metadata": {
        "id": "uhfS2yAGQLpQ"
      }
    },
    {
      "cell_type": "code",
      "source": [
        "items = ['a', 'b', 'c', 'd', 'e', 'f']\n",
        "items.sort()\n",
        "print(items)"
      ],
      "metadata": {
        "colab": {
          "base_uri": "https://localhost:8080/"
        },
        "id": "gr_WGbTOQC8R",
        "outputId": "fdc3c627-2678-49b3-f628-01ba82501b5b"
      },
      "execution_count": null,
      "outputs": [
        {
          "output_type": "stream",
          "name": "stdout",
          "text": [
            "['a', 'b', 'c', 'd', 'e', 'f']\n"
          ]
        }
      ]
    },
    {
      "cell_type": "code",
      "source": [
        "dd = {}\n",
        "for i in range(len(items)):\n",
        "  dd[items[i]] = i\n",
        "print(dd)"
      ],
      "metadata": {
        "colab": {
          "base_uri": "https://localhost:8080/"
        },
        "id": "QkldeloSQOge",
        "outputId": "09d75e3d-44b0-4232-df37-b4bd6f3490c6"
      },
      "execution_count": null,
      "outputs": [
        {
          "output_type": "stream",
          "name": "stdout",
          "text": [
            "{'a': 0, 'b': 1, 'c': 2, 'd': 3, 'e': 4, 'f': 5}\n"
          ]
        }
      ]
    },
    {
      "cell_type": "code",
      "source": [
        "dd = {it:i for i, it in enumerate(items)}\n",
        "print(dd)"
      ],
      "metadata": {
        "colab": {
          "base_uri": "https://localhost:8080/"
        },
        "id": "Hpr3WTyHQuyC",
        "outputId": "49f370f6-547c-4daf-e7b4-04340e6939b4"
      },
      "execution_count": null,
      "outputs": [
        {
          "output_type": "stream",
          "name": "stdout",
          "text": [
            "{'a': 0, 'b': 1, 'c': 2, 'd': 3, 'e': 4, 'f': 5}\n"
          ]
        }
      ]
    },
    {
      "cell_type": "markdown",
      "source": [
        "# Dimensionality Reduction"
      ],
      "metadata": {
        "id": "fViOk9dkNemI"
      }
    },
    {
      "cell_type": "code",
      "source": [
        "from pyspark import SparkContext\n",
        "\n",
        "sc = SparkContext('local', 'DR')"
      ],
      "metadata": {
        "id": "t6DeJo1RNnOH"
      },
      "execution_count": null,
      "outputs": []
    },
    {
      "cell_type": "code",
      "source": [
        "from pyspark.mllib.linalg import Vectors\n",
        "from pyspark.mllib.linalg.distributed import RowMatrix\n",
        "\n",
        "rows = sc.parallelize([                 # RDD\n",
        "    Vectors.sparse(5, {1: 1.0, 3: 7.0}),\n",
        "    Vectors.dense(2.0, 0.0, 3.0, 4.0, 5.0),\n",
        "    Vectors.dense(4.0, 0.0, 0.0, 6.0, 7.0)\n",
        "])\n",
        "\n",
        "mat = RowMatrix(rows)\n",
        "\n",
        "svd = mat.computeSVD(3, computeU=True)\n",
        "U = svd.U\n",
        "s = svd.s\n",
        "V = svd.V"
      ],
      "metadata": {
        "id": "oMLOCY2wNjqh"
      },
      "execution_count": null,
      "outputs": []
    },
    {
      "cell_type": "code",
      "source": [
        "import numpy as np\n",
        "\n",
        "np.set_printoptions(precision=2)\n",
        "print(np.array(U.rows.collect()))\n",
        "print(np.array(s))\n",
        "print(V)"
      ],
      "metadata": {
        "colab": {
          "base_uri": "https://localhost:8080/"
        },
        "id": "BCiJ9whiONIf",
        "outputId": "c30bb679-0b9d-4576-b67e-f8ea252610f2"
      },
      "execution_count": null,
      "outputs": [
        {
          "output_type": "stream",
          "name": "stdout",
          "text": [
            "[[-0.39 -0.92 -0.06]\n",
            " [-0.53  0.27 -0.8 ]\n",
            " [-0.75  0.28  0.59]]\n",
            "[13.03  5.37  2.53]\n",
            "DenseMatrix([[-0.31,  0.31,  0.3 ],\n",
            "             [-0.03, -0.17, -0.02],\n",
            "             [-0.12,  0.15, -0.95],\n",
            "             [-0.72, -0.68, -0.02],\n",
            "             [-0.61,  0.62,  0.06]])\n"
          ]
        }
      ]
    },
    {
      "cell_type": "markdown",
      "source": [
        "# Recommender System"
      ],
      "metadata": {
        "id": "F5yy6dwTouZq"
      }
    },
    {
      "cell_type": "markdown",
      "source": [
        "## Collaborative Filtering"
      ],
      "metadata": {
        "id": "om4px7LnAuRr"
      }
    },
    {
      "cell_type": "code",
      "source": [
        "from pyspark import SparkContext\n",
        "from pyspark.sql import SQLContext\n",
        "from pyspark.ml.evaluation import RegressionEvaluator\n",
        "from pyspark.ml.recommendation import ALS\n",
        "from pyspark.sql import Row\n",
        "\n",
        "spark = SQLContext(SparkContext('local', 'CF'))"
      ],
      "metadata": {
        "id": "jGlSFhuRAw8u"
      },
      "execution_count": null,
      "outputs": []
    },
    {
      "cell_type": "code",
      "source": [
        "lines = spark.read.text(\"drive/MyDrive/tmp/ratings10k.csv\").rdd\n",
        "parts = lines.map(lambda row: row.value.split(\",\"))\n",
        "ratingsRDD = parts.map(lambda p: Row(userId=int(p[0]), movieId=int(p[1]),\n",
        "                                     rating=float(p[2]), timestamp=float(p[3])))\n",
        "ratings = spark.createDataFrame(ratingsRDD)"
      ],
      "metadata": {
        "id": "8o9juetyBS9B"
      },
      "execution_count": null,
      "outputs": []
    },
    {
      "cell_type": "code",
      "source": [
        "ratings.show()"
      ],
      "metadata": {
        "colab": {
          "base_uri": "https://localhost:8080/"
        },
        "id": "lLzMGSByPYuN",
        "outputId": "a5ce3923-bf3d-410a-e781-9ea053767ccc"
      },
      "execution_count": null,
      "outputs": [
        {
          "output_type": "stream",
          "name": "stdout",
          "text": [
            "+------+-------+------+-------------+\n",
            "|userId|movieId|rating|    timestamp|\n",
            "+------+-------+------+-------------+\n",
            "|     1|    296|   5.0|1.147880044E9|\n",
            "|     1|    306|   3.5|1.147868817E9|\n",
            "|     1|    307|   5.0|1.147868828E9|\n",
            "|     1|    665|   5.0| 1.14787882E9|\n",
            "|     1|    899|   3.5| 1.14786851E9|\n",
            "|     1|   1088|   4.0|1.147868495E9|\n",
            "|     1|   1175|   3.5|1.147868826E9|\n",
            "|     1|   1217|   3.5|1.147878326E9|\n",
            "|     1|   1237|   5.0|1.147868839E9|\n",
            "|     1|   1250|   4.0|1.147868414E9|\n",
            "|     1|   1260|   3.5|1.147877857E9|\n",
            "|     1|   1653|   4.0|1.147868097E9|\n",
            "|     1|   2011|   2.5|1.147868079E9|\n",
            "|     1|   2012|   2.5|1.147868068E9|\n",
            "|     1|   2068|   2.5|1.147869044E9|\n",
            "|     1|   2161|   3.5|1.147868609E9|\n",
            "|     1|   2351|   4.5|1.147877957E9|\n",
            "|     1|   2573|   4.0|1.147878923E9|\n",
            "|     1|   2632|   5.0|1.147878248E9|\n",
            "|     1|   2692|   5.0|  1.1478691E9|\n",
            "+------+-------+------+-------------+\n",
            "only showing top 20 rows\n",
            "\n"
          ]
        }
      ]
    },
    {
      "cell_type": "code",
      "source": [
        "(training, test) = ratings.randomSplit([0.8, 0.2])"
      ],
      "metadata": {
        "id": "LpTVH2a1PfgY"
      },
      "execution_count": null,
      "outputs": []
    },
    {
      "cell_type": "code",
      "source": [
        "als = ALS(userCol=\"userId\",\n",
        "          itemCol=\"movieId\",\n",
        "          ratingCol=\"rating\")\n",
        "model = als.fit(training)"
      ],
      "metadata": {
        "id": "xuKPHEJlPik2"
      },
      "execution_count": null,
      "outputs": []
    },
    {
      "cell_type": "code",
      "source": [
        "predictions = model.transform(test)\n",
        "evaluator = RegressionEvaluator(metricName=\"rmse\", labelCol=\"rating\",\n",
        "                                predictionCol=\"prediction\")\n",
        "rmse = evaluator.evaluate(predictions)\n",
        "print(\"Root-mean-square error = \" + str(rmse))"
      ],
      "metadata": {
        "colab": {
          "base_uri": "https://localhost:8080/"
        },
        "id": "Zf49QaWFPoTp",
        "outputId": "0b8cdc78-2bda-453e-d477-c7906e4749c6"
      },
      "execution_count": null,
      "outputs": [
        {
          "output_type": "stream",
          "name": "stdout",
          "text": [
            "Root-mean-square error = nan\n"
          ]
        }
      ]
    },
    {
      "cell_type": "code",
      "source": [
        "# Generate top 10 movie recommendations for each user\n",
        "userRecs = model.recommendForAllUsers(10)\n",
        "userRecs.show()"
      ],
      "metadata": {
        "colab": {
          "base_uri": "https://localhost:8080/"
        },
        "id": "7_BIhErfPp3S",
        "outputId": "ee13c832-8381-46d2-a20f-1f4b9f9c5c9e"
      },
      "execution_count": null,
      "outputs": [
        {
          "output_type": "stream",
          "name": "stdout",
          "text": [
            "+------+--------------------+\n",
            "|userId|     recommendations|\n",
            "+------+--------------------+\n",
            "|    31|[{909, 4.316601},...|\n",
            "|    65|[{1287, 5.006938}...|\n",
            "|    53|[{2243, 5.3845453...|\n",
            "|    34|[{920, 4.378617},...|\n",
            "|    28|[{2395, 6.052067}...|\n",
            "|    26|[{52604, 4.808017...|\n",
            "|    27|[{2922, 4.9534974...|\n",
            "|    44|[{50, 5.7461176},...|\n",
            "|    12|[{2863, 4.8744926...|\n",
            "|    22|[{5064, 5.987762}...|\n",
            "|    47|[{2686, 5.0876703...|\n",
            "|     1|[{2686, 5.2387905...|\n",
            "|    52|[{4027, 4.9775543...|\n",
            "|    13|[{2395, 5.143259}...|\n",
            "|     6|[{2395, 5.077206}...|\n",
            "|    16|[{2395, 5.095131}...|\n",
            "|     3|[{5291, 4.9394717...|\n",
            "|    20|[{2395, 5.676665}...|\n",
            "|    40|[{2395, 5.2505617...|\n",
            "|    57|[{68848, 5.154612...|\n",
            "+------+--------------------+\n",
            "only showing top 20 rows\n",
            "\n"
          ]
        }
      ]
    },
    {
      "cell_type": "code",
      "source": [
        "for it in userRecs.first():\n",
        "  print(it)"
      ],
      "metadata": {
        "colab": {
          "base_uri": "https://localhost:8080/"
        },
        "id": "svDkuZXgQsGV",
        "outputId": "88c4508f-24c3-440f-9be6-1bc767aca0d5"
      },
      "execution_count": null,
      "outputs": [
        {
          "output_type": "stream",
          "name": "stdout",
          "text": [
            "31\n",
            "[Row(movieId=909, rating=4.316600799560547), Row(movieId=3801, rating=3.7783541679382324), Row(movieId=6787, rating=3.7375359535217285), Row(movieId=899, rating=3.65205717086792), Row(movieId=1292, rating=3.5926902294158936), Row(movieId=55765, rating=3.5047097206115723), Row(movieId=1269, rating=3.427597761154175), Row(movieId=412, rating=3.357356071472168), Row(movieId=49007, rating=3.357356071472168), Row(movieId=7121, rating=3.357356071472168)]\n"
          ]
        }
      ]
    },
    {
      "cell_type": "code",
      "source": [
        "# Generate top 10 user recommendations for each movie\n",
        "movieRecs = model.recommendForAllItems(10)\n",
        "movieRecs.show()"
      ],
      "metadata": {
        "colab": {
          "base_uri": "https://localhost:8080/"
        },
        "id": "Ak7cO5PUPvKu",
        "outputId": "f61472d2-40fa-43d3-932d-9d8d9e93b071"
      },
      "execution_count": null,
      "outputs": [
        {
          "output_type": "stream",
          "name": "stdout",
          "text": [
            "+-------+--------------------+\n",
            "|movieId|     recommendations|\n",
            "+-------+--------------------+\n",
            "|   1580|[{49, 5.0077558},...|\n",
            "|   6620|[{49, 1.7447889},...|\n",
            "|  54190|[{58, 4.9675364},...|\n",
            "|    471|[{72, 4.841337}, ...|\n",
            "|   1591|[{72, 1.9739544},...|\n",
            "|   1342|[{72, 3.9479089},...|\n",
            "|   2142|[{69, 2.0460105},...|\n",
            "|  33722|[{12, 2.9492002},...|\n",
            "|   3794|[{12, 1.9661336},...|\n",
            "|   1645|[{72, 3.9479089},...|\n",
            "|   3175|[{58, 4.5619974},...|\n",
            "|  68135|[{48, 4.302857}, ...|\n",
            "|   2366|[{28, 3.7048938},...|\n",
            "| 175197|[{15, 3.6599078},...|\n",
            "|   1088|[{9, 4.7020965}, ...|\n",
            "|   3918|[{14, 3.0727856},...|\n",
            "|   6658|[{58, 4.853922}, ...|\n",
            "|   8638|[{28, 4.296291}, ...|\n",
            "|   1959|[{23, 4.7651267},...|\n",
            "|    540|[{32, 3.1897814},...|\n",
            "+-------+--------------------+\n",
            "only showing top 20 rows\n",
            "\n"
          ]
        }
      ]
    },
    {
      "cell_type": "code",
      "source": [
        "for it in movieRecs.first():\n",
        "  print(it)"
      ],
      "metadata": {
        "id": "gblf4q8HQyFp",
        "outputId": "cc552c50-31f4-47fb-f8db-5f6636fc803c",
        "colab": {
          "base_uri": "https://localhost:8080/"
        }
      },
      "execution_count": null,
      "outputs": [
        {
          "output_type": "stream",
          "name": "stdout",
          "text": [
            "1580\n",
            "[Row(userId=49, rating=5.007755756378174), Row(userId=22, rating=4.883993148803711), Row(userId=28, rating=4.774200439453125), Row(userId=8, rating=4.5050787925720215), Row(userId=21, rating=4.480583190917969), Row(userId=2, rating=4.419493675231934), Row(userId=48, rating=4.370579719543457), Row(userId=44, rating=4.2683892250061035), Row(userId=20, rating=4.265716075897217), Row(userId=53, rating=4.236225605010986)]\n"
          ]
        }
      ]
    },
    {
      "cell_type": "markdown",
      "source": [
        "# Neural Networks"
      ],
      "metadata": {
        "id": "iy463iLco0M7"
      }
    },
    {
      "cell_type": "markdown",
      "source": [
        "## Regression"
      ],
      "metadata": {
        "id": "8Cf1bWW5uuaI"
      }
    },
    {
      "cell_type": "code",
      "source": [
        "from pyspark import SparkContext\n",
        "from pyspark.sql import SQLContext\n",
        "from pyspark.ml.regression import LinearRegression\n",
        "\n",
        "spark = SparkContext.getOrCreate('local')\n",
        "spark = SQLContext(spark)"
      ],
      "metadata": {
        "id": "Mv47RCCcu1ES"
      },
      "execution_count": null,
      "outputs": []
    },
    {
      "cell_type": "code",
      "source": [
        "# Load training data\n",
        "! wget 'https://raw.githubusercontent.com/apache/spark/master/data/mllib/sample_linear_regression_data.txt'\n",
        "training = spark.read \\\n",
        "            .format(\"libsvm\")\\\n",
        "            .load('sample_linear_regression_data.txt')"
      ],
      "metadata": {
        "colab": {
          "base_uri": "https://localhost:8080/"
        },
        "id": "eLC1k7CWu-zQ",
        "outputId": "15d02793-2a3e-42bd-e161-474caa8efddc"
      },
      "execution_count": null,
      "outputs": [
        {
          "output_type": "stream",
          "name": "stdout",
          "text": [
            "--2022-11-06 07:03:25--  https://raw.githubusercontent.com/apache/spark/master/data/mllib/sample_linear_regression_data.txt\n",
            "Resolving raw.githubusercontent.com (raw.githubusercontent.com)... 185.199.109.133, 185.199.108.133, 185.199.111.133, ...\n",
            "Connecting to raw.githubusercontent.com (raw.githubusercontent.com)|185.199.109.133|:443... connected.\n",
            "HTTP request sent, awaiting response... 200 OK\n",
            "Length: 119069 (116K) [text/plain]\n",
            "Saving to: ‘sample_linear_regression_data.txt’\n",
            "\n",
            "\r          sample_li   0%[                    ]       0  --.-KB/s               \rsample_linear_regre 100%[===================>] 116.28K  --.-KB/s    in 0.02s   \n",
            "\n",
            "2022-11-06 07:03:25 (5.36 MB/s) - ‘sample_linear_regression_data.txt’ saved [119069/119069]\n",
            "\n"
          ]
        }
      ]
    },
    {
      "cell_type": "code",
      "source": [
        "lr = LinearRegression(maxIter=10, regParam=0.3, elasticNetParam=0.8)\n",
        "lrModel = lr.fit(training)"
      ],
      "metadata": {
        "id": "7kHz7pE0u1ax"
      },
      "execution_count": null,
      "outputs": []
    },
    {
      "cell_type": "code",
      "source": [
        "# Print the coefficients and intercept for linear regression\n",
        "print(\"Coefficients: %s\" % str(lrModel.coefficients))\n",
        "print(\"Intercept: %s\" % str(lrModel.intercept))"
      ],
      "metadata": {
        "colab": {
          "base_uri": "https://localhost:8080/"
        },
        "id": "uyYIcS9gvG7u",
        "outputId": "0be20f8c-b8f5-41f9-ee7f-8271a2580318"
      },
      "execution_count": null,
      "outputs": [
        {
          "output_type": "stream",
          "name": "stdout",
          "text": [
            "Coefficients: [0.0,0.32292516677405936,-0.3438548034562218,1.9156017023458414,0.05288058680386263,0.765962720459771,0.0,-0.15105392669186682,-0.21587930360904642,0.22025369188813426]\n",
            "Intercept: 0.1598936844239736\n"
          ]
        }
      ]
    },
    {
      "cell_type": "code",
      "source": [
        "# Summarize the model over the training set and print out some metrics\n",
        "trainingSummary = lrModel.summary\n",
        "print(\"numIterations: %d\" % trainingSummary.totalIterations)\n",
        "print(\"objectiveHistory: %s\" % str(trainingSummary.objectiveHistory))"
      ],
      "metadata": {
        "colab": {
          "base_uri": "https://localhost:8080/"
        },
        "id": "OblHhlSAvJaV",
        "outputId": "034e418d-4f9f-46d0-f311-2dcec79e91d3"
      },
      "execution_count": null,
      "outputs": [
        {
          "output_type": "stream",
          "name": "stdout",
          "text": [
            "numIterations: 6\n",
            "objectiveHistory: [0.49999999999999994, 0.4967620357443381, 0.4936361664340463, 0.4936351537897608, 0.4936351214177871, 0.49363512062528014, 0.4936351206216114]\n"
          ]
        }
      ]
    },
    {
      "cell_type": "code",
      "source": [
        "trainingSummary.residuals.show()\n",
        "print(\"RMSE: %f\" % trainingSummary.rootMeanSquaredError)\n",
        "print(\"r2: %f\" % trainingSummary.r2)"
      ],
      "metadata": {
        "colab": {
          "base_uri": "https://localhost:8080/"
        },
        "id": "hvaEJn_EvK1k",
        "outputId": "dda3180e-f259-4e6c-e90f-024bc1f9251c"
      },
      "execution_count": null,
      "outputs": [
        {
          "output_type": "stream",
          "name": "stdout",
          "text": [
            "+--------------------+\n",
            "|           residuals|\n",
            "+--------------------+\n",
            "|  -9.889232683103197|\n",
            "|  0.5533794340053554|\n",
            "|  -5.204019455758823|\n",
            "| -20.566686715507508|\n",
            "|    -9.4497405180564|\n",
            "|  -6.909112502719486|\n",
            "|  -10.00431602969873|\n",
            "|   2.062397807050484|\n",
            "|  3.1117508432954772|\n",
            "| -15.893608229419382|\n",
            "|  -5.036284254673026|\n",
            "|   6.483215876994333|\n",
            "|  12.429497299109002|\n",
            "|  -20.32003219007654|\n",
            "| -2.0049838218725005|\n",
            "| -17.867901734183793|\n",
            "|   7.646455887420495|\n",
            "| -2.2653482182417406|\n",
            "|-0.10308920436195645|\n",
            "|  -1.380034070385301|\n",
            "+--------------------+\n",
            "only showing top 20 rows\n",
            "\n",
            "RMSE: 10.189077\n",
            "r2: 0.022861\n"
          ]
        }
      ]
    },
    {
      "cell_type": "markdown",
      "source": [
        "## Classification"
      ],
      "metadata": {
        "id": "FiVMOBC6uvg_"
      }
    },
    {
      "cell_type": "code",
      "source": [
        "from pyspark import SparkContext\n",
        "from pyspark.sql import SQLContext\n",
        "from pyspark.ml.regression import LinearRegression\n",
        "\n",
        "spark = SparkContext.getOrCreate('local')\n",
        "spark = SQLContext(spark)"
      ],
      "metadata": {
        "id": "JAmqtNFywpxM"
      },
      "execution_count": null,
      "outputs": []
    },
    {
      "cell_type": "code",
      "source": [
        "! wget 'https://raw.githubusercontent.com/apache/spark/master/data/mllib/sample_multiclass_classification_data.txt'"
      ],
      "metadata": {
        "colab": {
          "base_uri": "https://localhost:8080/"
        },
        "id": "fRI6jLdRwqIj",
        "outputId": "54a3ebd6-b231-4388-880b-31f50863b2aa"
      },
      "execution_count": null,
      "outputs": [
        {
          "output_type": "stream",
          "name": "stdout",
          "text": [
            "--2022-11-06 07:07:05--  https://raw.githubusercontent.com/apache/spark/master/data/mllib/sample_multiclass_classification_data.txt\n",
            "Resolving raw.githubusercontent.com (raw.githubusercontent.com)... 185.199.108.133, 185.199.109.133, 185.199.110.133, ...\n",
            "Connecting to raw.githubusercontent.com (raw.githubusercontent.com)|185.199.108.133|:443... connected.\n",
            "HTTP request sent, awaiting response... 200 OK\n",
            "Length: 6953 (6.8K) [text/plain]\n",
            "Saving to: ‘sample_multiclass_classification_data.txt’\n",
            "\n",
            "\r          sample_mu   0%[                    ]       0  --.-KB/s               \rsample_multiclass_c 100%[===================>]   6.79K  --.-KB/s    in 0s      \n",
            "\n",
            "2022-11-06 07:07:05 (46.6 MB/s) - ‘sample_multiclass_classification_data.txt’ saved [6953/6953]\n",
            "\n"
          ]
        }
      ]
    },
    {
      "cell_type": "code",
      "source": [
        "from pyspark.ml.classification import MultilayerPerceptronClassifier\n",
        "from pyspark.ml.evaluation import MulticlassClassificationEvaluator\n",
        "\n",
        "# Load training data\n",
        "data = spark.read \\\n",
        "          .format(\"libsvm\")\\\n",
        "          .load(\"sample_multiclass_classification_data.txt\")\n",
        "\n",
        "# Split the data into train and test\n",
        "splits = data.randomSplit([0.6, 0.4], 1234)\n",
        "train = splits[0]\n",
        "test = splits[1]\n",
        "\n",
        "# specify layers for the neural network:\n",
        "# input layer of size 4 (features), two intermediate of size 5 and 4\n",
        "# and output of size 3 (classes)\n",
        "layers = [4, 5, 4, 3]\n",
        "\n",
        "# create the trainer and set its parameters\n",
        "trainer = MultilayerPerceptronClassifier(maxIter=100,\n",
        "                                         layers=layers,\n",
        "                                         blockSize=128,\n",
        "                                         seed=1234)\n",
        "\n",
        "# train the model\n",
        "model = trainer.fit(train)"
      ],
      "metadata": {
        "id": "1-SAng-kwqae"
      },
      "execution_count": null,
      "outputs": []
    },
    {
      "cell_type": "code",
      "source": [
        "# compute accuracy on the test set\n",
        "result = model.transform(test)\n",
        "predictionAndLabels = result.select(\"prediction\", \"label\")\n",
        "evaluator = MulticlassClassificationEvaluator(metricName=\"accuracy\")\n",
        "print(\"Test set accuracy = \" + str(evaluator.evaluate(predictionAndLabels)))"
      ],
      "metadata": {
        "colab": {
          "base_uri": "https://localhost:8080/"
        },
        "id": "laI9KCHxxGQt",
        "outputId": "4fbc415c-2807-4899-9538-3a4cb9b58b27"
      },
      "execution_count": null,
      "outputs": [
        {
          "output_type": "stream",
          "name": "stdout",
          "text": [
            "Test set accuracy = 0.9523809523809523\n"
          ]
        }
      ]
    },
    {
      "cell_type": "markdown",
      "source": [
        "# Test"
      ],
      "metadata": {
        "id": "SsH-KK3aR5o0"
      }
    },
    {
      "cell_type": "code",
      "source": [
        "import numpy as np"
      ],
      "metadata": {
        "id": "rccMxV5lSBC4"
      },
      "execution_count": null,
      "outputs": []
    },
    {
      "cell_type": "code",
      "source": [
        "data_path = '/content/drive/MyDrive/MMDS-data/data.csv'"
      ],
      "metadata": {
        "id": "296sG4EIR7JA"
      },
      "execution_count": null,
      "outputs": []
    },
    {
      "cell_type": "code",
      "source": [
        "data = sc.textFile(data_path)\n",
        "header = data.first()\n",
        "true_data = data.filter(lambda x: x != header)"
      ],
      "metadata": {
        "id": "ThK8MnbGSQdi"
      },
      "execution_count": null,
      "outputs": []
    },
    {
      "cell_type": "code",
      "source": [
        "def sumAll(member_and_day, item):\n",
        "  x = np.array(member_and_day)\n",
        "  y = np.array(item)\n",
        "  return list(x+y)"
      ],
      "metadata": {
        "id": "w1Omt4AxSZQ0"
      },
      "execution_count": null,
      "outputs": []
    },
    {
      "cell_type": "code",
      "source": [
        "def preprocessLine(x):\n",
        "  items = x.strip().split(',')\n",
        "  items = [items[i] for i in (0, 1, 2)]\n",
        "  member_number = items[0]\n",
        "  itemDescription = items[2]\n",
        "  item = [1]\n",
        "  day = items[1]\n",
        "  member_and_day = member_number + \",\" + day\n",
        "  return (member_and_day, item)"
      ],
      "metadata": {
        "id": "l_KfRbiYStvz"
      },
      "execution_count": null,
      "outputs": []
    },
    {
      "cell_type": "code",
      "source": [
        "! rm -rf 'counters_day'\n",
        "\n",
        "items = true_data.map(preprocessLine) \\\n",
        "                 .reduceByKey(sumAll) \\\n",
        "                 .map(lambda x: (x[0].split(',')[0], x[0].split(',')[1], int(x[1][0]))) \\\n",
        "                 .saveAsTextFile('counters_day')"
      ],
      "metadata": {
        "id": "vEHPIc5PSwQV"
      },
      "execution_count": null,
      "outputs": []
    },
    {
      "cell_type": "code",
      "source": [
        "def preprocessLine(x):\n",
        "  items = x.strip().split(',')\n",
        "  items = [items[i] for i in (0, 1, 2)]\n",
        "  member_number = items[0]\n",
        "  itemDescription = items[2]\n",
        "  date = items[1]\n",
        "  member_and_date = member_number + \",\" + date\n",
        "  return (member_and_date, itemDescription)\n",
        "\n",
        "def reconstruct(complete_list):\n",
        "  member_and_date = complete_list[0]\n",
        "  member,date = member_and_date.split(',')\n",
        "  itemDescription = list(complete_list[1])\n",
        "\n",
        "  return member, date, itemDescription\n",
        "\n",
        "items = true_data.map(preprocessLine) \\\n",
        "        .groupByKey() \\\n",
        "        .map(reconstruct)"
      ],
      "metadata": {
        "id": "y4Pr4xFkWh2u"
      },
      "execution_count": null,
      "outputs": []
    },
    {
      "cell_type": "code",
      "source": [
        "header = sc.parallelize('Member_number;Date;itemDescription')\n",
        "save_data = items.map(lambda x: x[0] + ';' + x[1] + ';' + ','.join(x[2])) \\\n",
        "            .saveAsTextFile('ItemList')"
      ],
      "metadata": {
        "id": "popI6KTwWmQU"
      },
      "execution_count": null,
      "outputs": []
    },
    {
      "cell_type": "code",
      "source": [
        "df = sqlc.read.option(\"delimiter\", \";\") \\\n",
        "        .csv('ItemList/part-00000',\n",
        "        header=True)\n",
        "\n",
        "df.show()"
      ],
      "metadata": {
        "colab": {
          "base_uri": "https://localhost:8080/"
        },
        "id": "1VqzWKuVW21n",
        "outputId": "9ee9a5d3-ca59-44a1-b1bc-a509d5a55509"
      },
      "execution_count": null,
      "outputs": [
        {
          "output_type": "stream",
          "name": "stdout",
          "text": [
            "+----+----------+--------------------+\n",
            "|1249|01/01/2014| citrus fruit,coffee|\n",
            "+----+----------+--------------------+\n",
            "|1381|01/01/2014|           curd,soda|\n",
            "|1440|01/01/2014|other vegetables,...|\n",
            "|1659|01/01/2014|specialty chocola...|\n",
            "|1789|01/01/2014|hamburger meat,ca...|\n",
            "|1922|01/01/2014|tropical fruit,ot...|\n",
            "|2226|01/01/2014|sausage,bottled w...|\n",
            "|2237|01/01/2014|bottled water,Ins...|\n",
            "|2351|01/01/2014|cleaner,shopping ...|\n",
            "|2542|01/01/2014|sliced cheese,bot...|\n",
            "|2610|01/01/2014|hamburger meat,bo...|\n",
            "|2709|01/01/2014|yogurt,frozen veg...|\n",
            "|2727|01/01/2014|hamburger meat,fr...|\n",
            "|2943|01/01/2014|whole milk,flower...|\n",
            "|2974|01/01/2014|berries,whipped/s...|\n",
            "|3681|01/01/2014|onions,whipped/so...|\n",
            "|3797|01/01/2014|  waffles,whole milk|\n",
            "|3942|01/01/2014|other vegetables,...|\n",
            "|3956|01/01/2014|yogurt,shopping b...|\n",
            "|4260|01/01/2014|    soda,brown bread|\n",
            "|4942|01/01/2014|butter,frozen veg...|\n",
            "+----+----------+--------------------+\n",
            "only showing top 20 rows\n",
            "\n"
          ]
        }
      ]
    }
  ]
}