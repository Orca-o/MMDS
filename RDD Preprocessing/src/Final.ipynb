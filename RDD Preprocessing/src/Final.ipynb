{
  "nbformat": 4,
  "nbformat_minor": 0,
  "metadata": {
    "colab": {
      "provenance": [],
      "collapsed_sections": []
    },
    "kernelspec": {
      "name": "python3",
      "display_name": "Python 3"
    },
    "language_info": {
      "name": "python"
    }
  },
  "cells": [
    {
      "cell_type": "markdown",
      "source": [
        "# Đồ án giữa kỳ\n",
        "# Môn: Xử lý dữ liệu lớn\n",
        "# Học kỳ 1 - Năm học 2022-2023\n",
        "# Giảng viên: Th.S Nguyễn Thành An"
      ],
      "metadata": {
        "id": "xVHA3j3zw788"
      }
    },
    {
      "cell_type": "markdown",
      "source": [
        "# Cài đặt PySpark"
      ],
      "metadata": {
        "id": "k5Kl4LZvxO2x"
      }
    },
    {
      "cell_type": "code",
      "source": [
        "from google.colab import drive\n",
        "drive.mount('/content/drive')"
      ],
      "metadata": {
        "colab": {
          "base_uri": "https://localhost:8080/"
        },
        "id": "kXuRr1-7nTKV",
        "outputId": "311e230d-dcf0-4e86-d5be-686de93effec"
      },
      "execution_count": null,
      "outputs": [
        {
          "output_type": "stream",
          "name": "stdout",
          "text": [
            "Mounted at /content/drive\n"
          ]
        }
      ]
    },
    {
      "cell_type": "code",
      "execution_count": null,
      "metadata": {
        "id": "30qo4fFaBJuk"
      },
      "outputs": [],
      "source": [
        "!apt-get install openjdk-8-jdk-headless -qq > /dev/null\n",
        "!wget -q http://archive.apache.org/dist/spark/spark-3.1.1/spark-3.1.1-bin-hadoop3.2.tgz\n",
        "\n",
        "!tar xf spark-3.1.1-bin-hadoop3.2.tgz\n",
        "!pip install -q findspark"
      ]
    },
    {
      "cell_type": "code",
      "source": [
        "import os\n",
        "os.environ[\"JAVA_HOME\"] = \"/usr/lib/jvm/java-8-openjdk-amd64\"\n",
        "os.environ[\"SPARK_HOME\"] = \"/content/spark-3.1.1-bin-hadoop3.2\"\n",
        "\n",
        "import findspark\n",
        "findspark.init()"
      ],
      "metadata": {
        "id": "DHpJBYNgBogr"
      },
      "execution_count": null,
      "outputs": []
    },
    {
      "cell_type": "markdown",
      "source": [
        "# Yêu cầu"
      ],
      "metadata": {
        "id": "GcUw9tifyEQY"
      }
    },
    {
      "cell_type": "markdown",
      "source": [
        "## Spark Context"
      ],
      "metadata": {
        "id": "j_a5qwBOyGeN"
      }
    },
    {
      "cell_type": "code",
      "source": [
        "from pyspark import SparkContext\n",
        "from pyspark.sql import SQLContext\n",
        "\n",
        "sc = SparkContext(\"local\",\"mid-term\")\n",
        "sqlc = SQLContext(sc)"
      ],
      "metadata": {
        "id": "dav0Wj-kBsqV"
      },
      "execution_count": null,
      "outputs": []
    },
    {
      "cell_type": "markdown",
      "source": [
        "## Đọc dữ liệu data.csv"
      ],
      "metadata": {
        "id": "V3fPtIPJxhiu"
      }
    },
    {
      "cell_type": "code",
      "source": [
        "data = sc.textFile('/content/data.csv')"
      ],
      "metadata": {
        "id": "XhsHgMmKB0GG"
      },
      "execution_count": null,
      "outputs": []
    },
    {
      "cell_type": "markdown",
      "source": [
        "## Câu 1: Đếm món hàng"
      ],
      "metadata": {
        "id": "AkXZj6wAxpaz"
      }
    },
    {
      "cell_type": "code",
      "source": [
        "'''\n",
        "Câu 1\n",
        "'''\n",
        "\n",
        "def preprocessLine(x):\n",
        "  items = x.strip().split(',')[0:2]\n",
        "  return (str(items[0]+','+items[1]),1)\n",
        "\n",
        "def f(x):\n",
        "  s = x[0].split(',')\n",
        "  return s[0]+','+s[1]+','+str(x[1])\n",
        "\n",
        "data_F = data.map(preprocessLine).reduceByKey(lambda x, y: x + y).map(f)\n",
        "data_F.saveAsTextFile('/content/counters')"
      ],
      "metadata": {
        "id": "1T_B_LIvEGvn"
      },
      "execution_count": null,
      "outputs": []
    },
    {
      "cell_type": "code",
      "source": [
        "import os\n",
        "\n",
        "if os.path.exists('/content/counters/part-00000'):\n",
        "  sqlc.read.csv('/content/counters/part-00000', header=True).show()"
      ],
      "metadata": {
        "id": "nJPxYFGKzYV_",
        "colab": {
          "base_uri": "https://localhost:8080/"
        },
        "outputId": "5e0a40ab-2b94-4822-8d5c-ff3e15ded932"
      },
      "execution_count": null,
      "outputs": [
        {
          "output_type": "stream",
          "name": "stdout",
          "text": [
            "+-------------+----------+---+\n",
            "|Member_number|      Date|  1|\n",
            "+-------------+----------+---+\n",
            "|         1249|01/01/2014|  2|\n",
            "|         1381|01/01/2014|  2|\n",
            "|         1440|01/01/2014|  2|\n",
            "|         1659|01/01/2014|  2|\n",
            "|         1789|01/01/2014|  2|\n",
            "|         1922|01/01/2014|  2|\n",
            "|         2226|01/01/2014|  2|\n",
            "|         2237|01/01/2014|  2|\n",
            "|         2351|01/01/2014|  2|\n",
            "|         2542|01/01/2014|  2|\n",
            "|         2610|01/01/2014|  3|\n",
            "|         2709|01/01/2014|  2|\n",
            "|         2727|01/01/2014|  2|\n",
            "|         2943|01/01/2014|  2|\n",
            "|         2974|01/01/2014|  3|\n",
            "|         3681|01/01/2014|  3|\n",
            "|         3797|01/01/2014|  2|\n",
            "|         3942|01/01/2014|  3|\n",
            "|         3956|01/01/2014|  4|\n",
            "|         4260|01/01/2014|  2|\n",
            "+-------------+----------+---+\n",
            "only showing top 20 rows\n",
            "\n"
          ]
        }
      ]
    },
    {
      "cell_type": "markdown",
      "source": [
        "## Câu 2: Giỏ hàng"
      ],
      "metadata": {
        "id": "hn3eY65yxsrr"
      }
    },
    {
      "cell_type": "code",
      "source": [
        "'''\n",
        "Câu 2\n",
        "'''\n",
        "def get_key_value(x):\n",
        "  items = x.strip().split(',')[0:3]\n",
        "  return (str(items[0]+';'+items[1]+';'),items[2])\n",
        "\n",
        "def f2(x):\n",
        "  s = x[0].split(';')\n",
        "  return s[0]+';'+s[1]+';'+str(x[1])\n",
        "\n",
        "data_2 = data.map(get_key_value).reduceByKey(lambda x, y:x+','+y).map(f2)\n",
        "data_2.saveAsTextFile('/content/baskets')"
      ],
      "metadata": {
        "id": "jj6RX3EuB5wy"
      },
      "execution_count": null,
      "outputs": []
    },
    {
      "cell_type": "code",
      "source": [
        "import os\n",
        "\n",
        "if os.path.exists('/content/baskets/part-00000'):\n",
        "  sqlc.read.csv('/content/baskets/part-00000', header=True, sep=';').show()"
      ],
      "metadata": {
        "id": "R8ikA_3VznX7",
        "colab": {
          "base_uri": "https://localhost:8080/"
        },
        "outputId": "9b6c3518-dac4-4386-aef0-a10fb57db9cc"
      },
      "execution_count": null,
      "outputs": [
        {
          "output_type": "stream",
          "name": "stdout",
          "text": [
            "+-------------+----------+--------------------+\n",
            "|Member_number|      Date|     itemDescription|\n",
            "+-------------+----------+--------------------+\n",
            "|         1249|01/01/2014| citrus fruit,coffee|\n",
            "|         1381|01/01/2014|           curd,soda|\n",
            "|         1440|01/01/2014|other vegetables,...|\n",
            "|         1659|01/01/2014|specialty chocola...|\n",
            "|         1789|01/01/2014|hamburger meat,ca...|\n",
            "|         1922|01/01/2014|tropical fruit,ot...|\n",
            "|         2226|01/01/2014|sausage,bottled w...|\n",
            "|         2237|01/01/2014|bottled water,Ins...|\n",
            "|         2351|01/01/2014|cleaner,shopping ...|\n",
            "|         2542|01/01/2014|sliced cheese,bot...|\n",
            "|         2610|01/01/2014|hamburger meat,bo...|\n",
            "|         2709|01/01/2014|yogurt,frozen veg...|\n",
            "|         2727|01/01/2014|hamburger meat,fr...|\n",
            "|         2943|01/01/2014|whole milk,flower...|\n",
            "|         2974|01/01/2014|berries,whipped/s...|\n",
            "|         3681|01/01/2014|onions,whipped/so...|\n",
            "|         3797|01/01/2014|  waffles,whole milk|\n",
            "|         3942|01/01/2014|other vegetables,...|\n",
            "|         3956|01/01/2014|yogurt,shopping b...|\n",
            "|         4260|01/01/2014|    soda,brown bread|\n",
            "+-------------+----------+--------------------+\n",
            "only showing top 20 rows\n",
            "\n"
          ]
        }
      ]
    },
    {
      "cell_type": "markdown",
      "source": [
        "## Câu 3: Tập phổ biến"
      ],
      "metadata": {
        "id": "rSCVUBRSxzb6"
      }
    },
    {
      "cell_type": "code",
      "source": [
        "def convertToItemsList(x):\n",
        "  get = x.strip().split(';')\n",
        "  id = get[0]\n",
        "  date = get[1]\n",
        "  items = list(set(get[2].split(',')))\n",
        "  return (id ,date, items)\n",
        "\n",
        "tmp = [line.strip() for line in open('/content/baskets/part-00000', 'r')][1:]\n",
        "tmp = sc.parallelize(tmp)\n",
        "tmp = tmp.map(convertToItemsList)\n",
        "dfBaskets = sqlc.createDataFrame(tmp,[\"Member_number\",\"Date\",\"Items\"])\n",
        "dfBaskets.show()\n",
        "\n",
        "from pyspark.ml.fpm import FPGrowth\n",
        "fpGrowth = FPGrowth(itemsCol=\"Items\", \n",
        "                    minSupport=0.01, \n",
        "                    minConfidence=0.1)\n",
        "model = fpGrowth.fit(dfBaskets)\n",
        "\n",
        "model.freqItemsets.show()\n",
        "model.associationRules.show()"
      ],
      "metadata": {
        "id": "YYxMBSI3HkXI",
        "colab": {
          "base_uri": "https://localhost:8080/"
        },
        "outputId": "4ee98bd2-db91-4b0d-faae-22c1d56fd2db"
      },
      "execution_count": null,
      "outputs": [
        {
          "output_type": "stream",
          "name": "stdout",
          "text": [
            "+-------------+----------+--------------------+\n",
            "|Member_number|      Date|               Items|\n",
            "+-------------+----------+--------------------+\n",
            "|         1249|01/01/2014|[coffee, citrus f...|\n",
            "|         1381|01/01/2014|        [soda, curd]|\n",
            "|         1440|01/01/2014|[yogurt, other ve...|\n",
            "|         1659|01/01/2014|[specialty chocol...|\n",
            "|         1789|01/01/2014|[hamburger meat, ...|\n",
            "|         1922|01/01/2014|[other vegetables...|\n",
            "|         2226|01/01/2014|[sausage, bottled...|\n",
            "|         2237|01/01/2014|[bottled water, I...|\n",
            "|         2351|01/01/2014|[shopping bags, c...|\n",
            "|         2542|01/01/2014|[bottled water, s...|\n",
            "|         2610|01/01/2014|[hamburger meat, ...|\n",
            "|         2709|01/01/2014|[yogurt, frozen v...|\n",
            "|         2727|01/01/2014|[hamburger meat, ...|\n",
            "|         2943|01/01/2014|[whole milk, flow...|\n",
            "|         2974|01/01/2014|[bottled water, w...|\n",
            "|         3681|01/01/2014|[onions, whipped/...|\n",
            "|         3797|01/01/2014|[whole milk, waff...|\n",
            "|         3942|01/01/2014|[yogurt, other ve...|\n",
            "|         3956|01/01/2014|[shopping bags, y...|\n",
            "|         4260|01/01/2014| [soda, brown bread]|\n",
            "+-------------+----------+--------------------+\n",
            "only showing top 20 rows\n",
            "\n",
            "+--------------------+----+\n",
            "|               items|freq|\n",
            "+--------------------+----+\n",
            "|              [beef]| 508|\n",
            "|       [hard cheese]| 220|\n",
            "|       [butter milk]| 263|\n",
            "|           [napkins]| 331|\n",
            "|        [white wine]| 175|\n",
            "|     [sliced cheese]| 210|\n",
            "|    [red/blush wine]| 157|\n",
            "|      [frozen meals]| 251|\n",
            "|       [frankfurter]| 565|\n",
            "|           [sausage]| 903|\n",
            "|          [UHT-milk]| 320|\n",
            "|            [coffee]| 473|\n",
            "|         [pip fruit]| 734|\n",
            "|      [cream cheese]| 188|\n",
            "|   [misc. beverages]| 236|\n",
            "|       [white bread]| 359|\n",
            "|           [waffles]| 277|\n",
            "|     [domestic eggs]| 555|\n",
            "|        [rolls/buns]|1646|\n",
            "|[rolls/buns, othe...| 158|\n",
            "+--------------------+----+\n",
            "only showing top 20 rows\n",
            "\n",
            "+------------------+------------+-------------------+------------------+--------------------+\n",
            "|        antecedent|  consequent|         confidence|              lift|             support|\n",
            "+------------------+------------+-------------------+------------------+--------------------+\n",
            "|[other vegetables]|[whole milk]|0.12151067323481117|0.7694304712706219|0.014836596939116486|\n",
            "|          [yogurt]|[whole milk]|0.12996108949416343|0.8229402378760761|0.011160863463209249|\n",
            "|      [rolls/buns]|[whole milk]|0.12697448359659783|0.8040284376030019|0.013967787208447505|\n",
            "|            [soda]|[whole milk]|0.11975223675154852|0.7582956912879478|0.011628684087415625|\n",
            "+------------------+------------+-------------------+------------------+--------------------+\n",
            "\n"
          ]
        }
      ]
    },
    {
      "cell_type": "markdown",
      "source": [
        "## Câu 4: Giỏ hàng thành vectors "
      ],
      "metadata": {
        "id": "tP0VxuyzydLa"
      }
    },
    {
      "cell_type": "code",
      "source": [
        "from pyspark.ml.linalg import Vectors\n",
        "\n",
        "tmp = sqlc.read.option(\"delimiter\", \",\")\\\n",
        "                     .option(\"header\", \"true\")\\\n",
        "                     .csv('/content/data.csv')\n",
        "\n",
        "dfMembers = tmp.select(['Member_number','itemDescription'])\\\n",
        "               .rdd\\\n",
        "               .reduceByKey(lambda x, y: x + \",\" + y)\\\n",
        "               .toDF()\\\n",
        "               .selectExpr(\"_1 as Member_number\", \"_2 as Items\")\n",
        "\n",
        "dfMembers.show()\n",
        "items = tmp.select('itemDescription')\\\n",
        "           .rdd\\\n",
        "           .distinct()\\\n",
        "           .flatMap(lambda x: x)\\\n",
        "           .collect()\n",
        "\n",
        "items = sorted(items)\n",
        "\n",
        "dictItems = {v:i for i,v in enumerate(items)}\n",
        "print(items)\n",
        "print(dictItems)\n",
        "\n",
        "def basket2vector(member, basket, dictItems):\n",
        "  index = []\n",
        "  value = []\n",
        "  for k,v in dictItems.items():\n",
        "    if k in basket:\n",
        "      index.append(v)\n",
        "      value.append(1.0)\n",
        "  return Vectors.sparse(len(dictItems),index,value)\n",
        "\n",
        "print(basket2vector(dfMembers.first()['Member_number'],\n",
        "                    dfMembers.first()['Items'],\n",
        "                    dictItems))"
      ],
      "metadata": {
        "id": "Wmbme2mTefuZ",
        "colab": {
          "base_uri": "https://localhost:8080/"
        },
        "outputId": "fafc2bdd-aa6e-4a9d-f34b-02216f5b5b71"
      },
      "execution_count": null,
      "outputs": [
        {
          "output_type": "stream",
          "name": "stdout",
          "text": [
            "+-------------+--------------------+\n",
            "|Member_number|               Items|\n",
            "+-------------+--------------------+\n",
            "|         1249|citrus fruit,coff...|\n",
            "|         1381|curd,soda,coffee,...|\n",
            "|         1440|other vegetables,...|\n",
            "|         1659|specialty chocola...|\n",
            "|         1789|hamburger meat,ca...|\n",
            "|         1922|tropical fruit,ot...|\n",
            "|         2226|sausage,bottled w...|\n",
            "|         2237|bottled water,Ins...|\n",
            "|         2351|cleaner,shopping ...|\n",
            "|         2542|sliced cheese,bot...|\n",
            "|         2610|hamburger meat,bo...|\n",
            "|         2709|yogurt,frozen veg...|\n",
            "|         2727|hamburger meat,fr...|\n",
            "|         2943|whole milk,flower...|\n",
            "|         2974|berries,whipped/s...|\n",
            "|         3681|onions,whipped/so...|\n",
            "|         3797|waffles,whole mil...|\n",
            "|         3942|other vegetables,...|\n",
            "|         3956|yogurt,shopping b...|\n",
            "|         4260|soda,brown bread,...|\n",
            "+-------------+--------------------+\n",
            "only showing top 20 rows\n",
            "\n",
            "['Instant food products', 'UHT-milk', 'abrasive cleaner', 'artif. sweetener', 'baby cosmetics', 'bags', 'baking powder', 'bathroom cleaner', 'beef', 'berries', 'beverages', 'bottled beer', 'bottled water', 'brandy', 'brown bread', 'butter', 'butter milk', 'cake bar', 'candles', 'candy', 'canned beer', 'canned fish', 'canned fruit', 'canned vegetables', 'cat food', 'cereals', 'chewing gum', 'chicken', 'chocolate', 'chocolate marshmallow', 'citrus fruit', 'cleaner', 'cling film/bags', 'cocoa drinks', 'coffee', 'condensed milk', 'cooking chocolate', 'cookware', 'cream', 'cream cheese ', 'curd', 'curd cheese', 'decalcifier', 'dental care', 'dessert', 'detergent', 'dish cleaner', 'dishes', 'dog food', 'domestic eggs', 'female sanitary products', 'finished products', 'fish', 'flour', 'flower (seeds)', 'flower soil/fertilizer', 'frankfurter', 'frozen chicken', 'frozen dessert', 'frozen fish', 'frozen fruits', 'frozen meals', 'frozen potato products', 'frozen vegetables', 'fruit/vegetable juice', 'grapes', 'hair spray', 'ham', 'hamburger meat', 'hard cheese', 'herbs', 'honey', 'house keeping products', 'hygiene articles', 'ice cream', 'instant coffee', 'jam', 'ketchup', 'kitchen towels', 'kitchen utensil', 'light bulbs', 'liqueur', 'liquor', 'liquor (appetizer)', 'liver loaf', 'long life bakery product', 'make up remover', 'male cosmetics', 'margarine', 'mayonnaise', 'meat', 'meat spreads', 'misc. beverages', 'mustard', 'napkins', 'newspapers', 'nut snack', 'nuts/prunes', 'oil', 'onions', 'organic products', 'organic sausage', 'other vegetables', 'packaged fruit/vegetables', 'pasta', 'pastry', 'pet care', 'photo/film', 'pickled vegetables', 'pip fruit', 'popcorn', 'pork', 'pot plants', 'potato products', 'preservation products', 'processed cheese', 'prosecco', 'pudding powder', 'ready soups', 'red/blush wine', 'rice', 'roll products ', 'rolls/buns', 'root vegetables', 'rubbing alcohol', 'rum', 'salad dressing', 'salt', 'salty snack', 'sauces', 'sausage', 'seasonal products', 'semi-finished bread', 'shopping bags', 'skin care', 'sliced cheese', 'snack products', 'soap', 'soda', 'soft cheese', 'softener', 'soups', 'sparkling wine', 'specialty bar', 'specialty cheese', 'specialty chocolate', 'specialty fat', 'specialty vegetables', 'spices', 'spread cheese', 'sugar', 'sweet spreads', 'syrup', 'tea', 'tidbits', 'toilet cleaner', 'tropical fruit', 'turkey', 'vinegar', 'waffles', 'whipped/sour cream', 'whisky', 'white bread', 'white wine', 'whole milk', 'yogurt', 'zwieback']\n",
            "{'Instant food products': 0, 'UHT-milk': 1, 'abrasive cleaner': 2, 'artif. sweetener': 3, 'baby cosmetics': 4, 'bags': 5, 'baking powder': 6, 'bathroom cleaner': 7, 'beef': 8, 'berries': 9, 'beverages': 10, 'bottled beer': 11, 'bottled water': 12, 'brandy': 13, 'brown bread': 14, 'butter': 15, 'butter milk': 16, 'cake bar': 17, 'candles': 18, 'candy': 19, 'canned beer': 20, 'canned fish': 21, 'canned fruit': 22, 'canned vegetables': 23, 'cat food': 24, 'cereals': 25, 'chewing gum': 26, 'chicken': 27, 'chocolate': 28, 'chocolate marshmallow': 29, 'citrus fruit': 30, 'cleaner': 31, 'cling film/bags': 32, 'cocoa drinks': 33, 'coffee': 34, 'condensed milk': 35, 'cooking chocolate': 36, 'cookware': 37, 'cream': 38, 'cream cheese ': 39, 'curd': 40, 'curd cheese': 41, 'decalcifier': 42, 'dental care': 43, 'dessert': 44, 'detergent': 45, 'dish cleaner': 46, 'dishes': 47, 'dog food': 48, 'domestic eggs': 49, 'female sanitary products': 50, 'finished products': 51, 'fish': 52, 'flour': 53, 'flower (seeds)': 54, 'flower soil/fertilizer': 55, 'frankfurter': 56, 'frozen chicken': 57, 'frozen dessert': 58, 'frozen fish': 59, 'frozen fruits': 60, 'frozen meals': 61, 'frozen potato products': 62, 'frozen vegetables': 63, 'fruit/vegetable juice': 64, 'grapes': 65, 'hair spray': 66, 'ham': 67, 'hamburger meat': 68, 'hard cheese': 69, 'herbs': 70, 'honey': 71, 'house keeping products': 72, 'hygiene articles': 73, 'ice cream': 74, 'instant coffee': 75, 'jam': 76, 'ketchup': 77, 'kitchen towels': 78, 'kitchen utensil': 79, 'light bulbs': 80, 'liqueur': 81, 'liquor': 82, 'liquor (appetizer)': 83, 'liver loaf': 84, 'long life bakery product': 85, 'make up remover': 86, 'male cosmetics': 87, 'margarine': 88, 'mayonnaise': 89, 'meat': 90, 'meat spreads': 91, 'misc. beverages': 92, 'mustard': 93, 'napkins': 94, 'newspapers': 95, 'nut snack': 96, 'nuts/prunes': 97, 'oil': 98, 'onions': 99, 'organic products': 100, 'organic sausage': 101, 'other vegetables': 102, 'packaged fruit/vegetables': 103, 'pasta': 104, 'pastry': 105, 'pet care': 106, 'photo/film': 107, 'pickled vegetables': 108, 'pip fruit': 109, 'popcorn': 110, 'pork': 111, 'pot plants': 112, 'potato products': 113, 'preservation products': 114, 'processed cheese': 115, 'prosecco': 116, 'pudding powder': 117, 'ready soups': 118, 'red/blush wine': 119, 'rice': 120, 'roll products ': 121, 'rolls/buns': 122, 'root vegetables': 123, 'rubbing alcohol': 124, 'rum': 125, 'salad dressing': 126, 'salt': 127, 'salty snack': 128, 'sauces': 129, 'sausage': 130, 'seasonal products': 131, 'semi-finished bread': 132, 'shopping bags': 133, 'skin care': 134, 'sliced cheese': 135, 'snack products': 136, 'soap': 137, 'soda': 138, 'soft cheese': 139, 'softener': 140, 'soups': 141, 'sparkling wine': 142, 'specialty bar': 143, 'specialty cheese': 144, 'specialty chocolate': 145, 'specialty fat': 146, 'specialty vegetables': 147, 'spices': 148, 'spread cheese': 149, 'sugar': 150, 'sweet spreads': 151, 'syrup': 152, 'tea': 153, 'tidbits': 154, 'toilet cleaner': 155, 'tropical fruit': 156, 'turkey': 157, 'vinegar': 158, 'waffles': 159, 'whipped/sour cream': 160, 'whisky': 161, 'white bread': 162, 'white wine': 163, 'whole milk': 164, 'yogurt': 165, 'zwieback': 166}\n",
            "(167,[11,30,34,61,138],[1.0,1.0,1.0,1.0,1.0])\n"
          ]
        }
      ]
    },
    {
      "cell_type": "markdown",
      "source": [
        "## Câu 5: Giỏ hàng tương tự"
      ],
      "metadata": {
        "id": "W7zegTh8yogd"
      }
    },
    {
      "cell_type": "code",
      "source": [
        "from pyspark.ml.feature import MinHashLSH\n",
        "from pyspark.sql.functions import col,monotonically_increasing_id\n",
        "\n",
        "'''preprocess'''\n",
        "\n",
        "new_dfMembers = dfMembers.rdd\\\n",
        "                         .map(lambda x: (x[0],basket2vector(x[0],x[1],dictItems)))\\\n",
        "                         .toDF()\\\n",
        "                         .select(col('_1').alias('Member_number'), col('_2').alias('Items'))\n",
        "\n",
        "mh_lsh = MinHashLSH(inputCol=\"Items\", outputCol=\"Hashes\", numHashTables=5)\n",
        "model = mh_lsh.fit(new_dfMembers)\n",
        "\n",
        "model.transform(new_dfMembers).show()\n",
        "\n",
        "model.approxSimilarityJoin(new_dfMembers, new_dfMembers, 0.3, distCol=\"JaccardDistance\")\\\n",
        "    .select(col(\"datasetA.Member_number\").alias(\"idA\"),\n",
        "            col(\"datasetB.Member_number\").alias(\"idB\"),\n",
        "            col(\"JaccardDistance\")).filter(col(\"JaccardDistance\") > 0).show()"
      ],
      "metadata": {
        "id": "BKxpa0DyuL7_",
        "colab": {
          "base_uri": "https://localhost:8080/"
        },
        "outputId": "5d8ebb01-00b7-45db-e68a-a08d89273998"
      },
      "execution_count": null,
      "outputs": [
        {
          "output_type": "stream",
          "name": "stdout",
          "text": [
            "+-------------+--------------------+--------------------+\n",
            "|Member_number|               Items|              Hashes|\n",
            "+-------------+--------------------+--------------------+\n",
            "|         1249|(167,[11,30,34,61...|[[6.18856876E8], ...|\n",
            "|         1381|(167,[1,10,11,28,...|[[3.6840299E8], [...|\n",
            "|         1440|(167,[5,28,64,102...|[[1.8350541E8], [...|\n",
            "|         1659|(167,[12,14,26,28...|[[6.4164136E7], [...|\n",
            "|         1789|(167,[8,18,30,44,...|[[3.60000264E8], ...|\n",
            "|         1922|(167,[10,12,15,16...|[[2.94443958E8], ...|\n",
            "|         2226|(167,[9,12,23,40,...|[[1.09546378E8], ...|\n",
            "|         2237|(167,[0,12,27,34,...|[[2.718462E7], [8...|\n",
            "|         2351|(167,[5,31,34,49,...|[[1.8350541E8], [...|\n",
            "|         2542|(167,[12,82,88,94...|[[3.1385983E7], [...|\n",
            "|         2610|(167,[5,11,49,67,...|[[1.8350541E8], [...|\n",
            "|         2709|(167,[12,30,40,44...|[[5.8187736E8], [...|\n",
            "|         2727|(167,[11,38,52,56...|[[5.49099207E8], ...|\n",
            "|         2943|(167,[20,28,29,33...|[[2.86041232E8], ...|\n",
            "|         2974|(167,[9,12,38,63,...|[[4.75140175E8], ...|\n",
            "|         3681|(167,[38,47,63,88...|[[7.33996787E8], ...|\n",
            "|         3797|(167,[15,38,64,10...|[[2.20484926E8], ...|\n",
            "|         3942|(167,[0,5,21,31,3...|[[1.8350541E8], [...|\n",
            "|         3956|(167,[0,5,15,16,2...|[[1.8350541E8], [...|\n",
            "|         4260|(167,[14,20,27,38...|[[2.718462E7], [3...|\n",
            "+-------------+--------------------+--------------------+\n",
            "only showing top 20 rows\n",
            "\n",
            "+----+----+-------------------+\n",
            "| idA| idB|    JaccardDistance|\n",
            "+----+----+-------------------+\n",
            "|3714|2911|               0.25|\n",
            "|4805|3715|               0.25|\n",
            "|1976|2342|               0.25|\n",
            "|1161|1367| 0.2857142857142857|\n",
            "|2949|3887|0.19999999999999996|\n",
            "|4885|4186|               0.25|\n",
            "|4535|1643|0.19999999999999996|\n",
            "|3376|3301|               0.25|\n",
            "|4186|4885|               0.25|\n",
            "|2911|3714|               0.25|\n",
            "|3715|4805|               0.25|\n",
            "|3605|1860|               0.25|\n",
            "|4116|2088| 0.2857142857142857|\n",
            "|3887|2949|0.19999999999999996|\n",
            "|3301|3376|               0.25|\n",
            "|4383|4885|               0.25|\n",
            "|3124|1063|               0.25|\n",
            "|2088|4116| 0.2857142857142857|\n",
            "|2342|1976|               0.25|\n",
            "|1117|4885|               0.25|\n",
            "+----+----+-------------------+\n",
            "only showing top 20 rows\n",
            "\n"
          ]
        }
      ]
    },
    {
      "cell_type": "code",
      "source": [
        "key = new_dfMembers.collect()[0]['Items']\n",
        "model.approxNearestNeighbors(new_dfMembers, key, 5).show()"
      ],
      "metadata": {
        "colab": {
          "base_uri": "https://localhost:8080/"
        },
        "id": "9bY16DwM6kZd",
        "outputId": "84da6c9c-01f1-4c6f-926b-97ebcc55690a"
      },
      "execution_count": null,
      "outputs": [
        {
          "output_type": "stream",
          "name": "stdout",
          "text": [
            "+-------------+--------------------+--------------------+------------------+\n",
            "|Member_number|               Items|              Hashes|           distCol|\n",
            "+-------------+--------------------+--------------------+------------------+\n",
            "|         1249|(167,[11,30,34,61...|[[6.18856876E8], ...|               0.0|\n",
            "|         1321|(167,[11,30,138],...|[[6.18856876E8], ...|               0.4|\n",
            "|         1263|(167,[11,30,61,10...|[[6.18856876E8], ...|               0.5|\n",
            "|         1794|(167,[11,30,138,1...|[[6.18856876E8], ...|0.5714285714285714|\n",
            "|         2708|(167,[3,34,61,75,...|[[2.90242595E8], ...|0.5714285714285714|\n",
            "+-------------+--------------------+--------------------+------------------+\n",
            "\n"
          ]
        }
      ]
    },
    {
      "cell_type": "markdown",
      "source": [
        "## Câu 6: Phân cụm người dùng theo giỏ hàng"
      ],
      "metadata": {
        "id": "ZNfhgOGKy2Yh"
      }
    },
    {
      "cell_type": "code",
      "source": [
        "from pyspark.ml.clustering import KMeans, KMeansModel\n",
        "kmeans = KMeans(k=5)\n",
        "kmeans.setSeed(1)\n",
        "#maxIter = 20\n",
        "new_dfMembers_km = new_dfMembers.select(col('Member_number').alias('label'), col('Items').alias('features'))\n",
        "model = kmeans.fit(new_dfMembers_km)\n",
        "model.setPredictionCol('prediction')\n",
        "model.transform(new_dfMembers_km).show()\n"
      ],
      "metadata": {
        "id": "sWo0HJZ2wQsb",
        "colab": {
          "base_uri": "https://localhost:8080/"
        },
        "outputId": "8874a9a6-98f2-42e3-9c6b-9d781f94946b"
      },
      "execution_count": null,
      "outputs": [
        {
          "output_type": "stream",
          "name": "stdout",
          "text": [
            "+-----+--------------------+----------+\n",
            "|label|            features|prediction|\n",
            "+-----+--------------------+----------+\n",
            "| 1249|(167,[11,30,34,61...|         1|\n",
            "| 1381|(167,[1,10,11,28,...|         3|\n",
            "| 1440|(167,[5,28,64,102...|         2|\n",
            "| 1659|(167,[12,14,26,28...|         0|\n",
            "| 1789|(167,[8,18,30,44,...|         0|\n",
            "| 1922|(167,[10,12,15,16...|         4|\n",
            "| 2226|(167,[9,12,23,40,...|         0|\n",
            "| 2237|(167,[0,12,27,34,...|         1|\n",
            "| 2351|(167,[5,31,34,49,...|         2|\n",
            "| 2542|(167,[12,82,88,94...|         0|\n",
            "| 2610|(167,[5,11,49,67,...|         2|\n",
            "| 2709|(167,[12,30,40,44...|         0|\n",
            "| 2727|(167,[11,38,52,56...|         4|\n",
            "| 2943|(167,[20,28,29,33...|         0|\n",
            "| 2974|(167,[9,12,38,63,...|         4|\n",
            "| 3681|(167,[38,47,63,88...|         4|\n",
            "| 3797|(167,[15,38,64,10...|         4|\n",
            "| 3942|(167,[0,5,21,31,3...|         2|\n",
            "| 3956|(167,[0,5,15,16,2...|         2|\n",
            "| 4260|(167,[14,20,27,38...|         4|\n",
            "+-----+--------------------+----------+\n",
            "only showing top 20 rows\n",
            "\n"
          ]
        }
      ]
    }
  ]
}